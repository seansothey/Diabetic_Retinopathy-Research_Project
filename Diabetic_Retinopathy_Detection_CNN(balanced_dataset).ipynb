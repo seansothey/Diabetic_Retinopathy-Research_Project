{
  "nbformat": 4,
  "nbformat_minor": 0,
  "metadata": {
    "colab": {
      "name": "Diabetic_Retinopathy_Detection_CNN(balanced_dataset).ipynb",
      "provenance": [],
      "collapsed_sections": [],
      "machine_shape": "hm",
      "include_colab_link": true
    },
    "kernelspec": {
      "name": "python3",
      "display_name": "Python 3"
    },
    "accelerator": "GPU"
  },
  "cells": [
    {
      "cell_type": "markdown",
      "metadata": {
        "id": "view-in-github",
        "colab_type": "text"
      },
      "source": [
        "<a href=\"https://colab.research.google.com/github/seansothey/Research_Project/blob/main/Diabetic_Retinopathy_Detection_CNN(balanced_dataset).ipynb\" target=\"_parent\"><img src=\"https://colab.research.google.com/assets/colab-badge.svg\" alt=\"Open In Colab\"/></a>"
      ]
    },
    {
      "cell_type": "markdown",
      "metadata": {
        "id": "ECSJXq2TD5yH"
      },
      "source": [
        "![alt text](https://d2zo993x2i1w0h.cloudfront.net/live/2019/01/what-causes-diabetic-retinopathy-1024x642.jpg)\n",
        "\n",
        "##Overview\n",
        "Diabetic retinopathy is the leading cause of blindness in the working-age population of the developed world. It is estimated to affect over 93 million people.\n",
        "The US Center for Disease Control and Prevention estimates that 29.1 million people in the US have diabetes and the World Health Organization estimates that 347 million people have the disease worldwide. Diabetic Retinopathy (DR) is an eye disease associated with long-standing diabetes. Around 40% to 45% of Americans with diabetes have some stage of the disease. Progression to vision impairment can be slowed or averted if DR is detected in time, however this can be difficult as the disease often shows few symptoms until it is too late to provide effective treatment.\n",
        "Currently, detecting DR is a time-consuming and manual process that requires a trained clinician to examine and evaluate digital color fundus photographs of the retina. By the time human readers submit their reviews, often a day or two later, the delayed results lead to lost follow up, miscommunication, and delayed treatment.\n",
        "Clinicians can identify DR by the presence of lesions associated with the vascular abnormalities caused by the disease. While this approach is effective, its resource demands are high. The expertise and equipment required are often lacking in areas where the rate of diabetes in local populations is high and DR detection is most needed. As the number of individuals with diabetes continues to grow, the infrastructure needed to prevent blindness due to DR will become even more insufficient.\n",
        "The need for a comprehensive and automated method of DR screening has long been recognized, and previous efforts have made good progress using image classification, pattern recognition, and machine learning. With color fundus photography as input, the goal is to build an automated detection system to the limit of what is possible – ideally resulting in models with realistic clinical potential that can improve DR detection. This process requires many machine learning tasks and techniques to build a good classifier. To start, it is essential to obtain enough datasets, including useful information, such as number of attributes and classes.\n",
        "\n",
        "##Datasets Description\n",
        "The datasets are in image format with a large set of high-resolution retina images taken under a variety of imaging conditions. A left and right field is provided for every subject. Images are labeled with a subject id as well as either left or right (e.g. 1_left.jpeg is left eye of patient id 1).\n",
        "Each image has been rated by clinicians on a scale 0 to 4 according to the presence of diabetic retinopathy.\n",
        "\n",
        "*   0 - No DR\n",
        "*   1 - Mild\n",
        "*   2 - Moderate\n",
        "*   3 - Severe\n",
        "*   4 - Proliferative DR\n",
        "\n",
        "The acquired images are in RGB form with high resolution JPEG format. Due to the extremely large size of this dataset, total to 82.23 GB, it was separated into archive folders. Each folder has around 8400 images, and total size about 8 GB. \n",
        "*   train.zip - the training set (5 folders)\n",
        "*   test.zip - the test set (7 folders)\n",
        "*   trainLabels.csv - contains the scores (0 to 4) for the training set\n",
        "\n",
        "Dataset link: https://www.kaggle.com/c/diabetic-retinopathy-detection/data\n",
        "\n",
        "\n",
        "\n",
        "\n",
        "\n",
        "\n",
        "\n"
      ]
    },
    {
      "cell_type": "markdown",
      "metadata": {
        "id": "BVofXJwl9Uye"
      },
      "source": [
        "#Setup"
      ]
    },
    {
      "cell_type": "code",
      "metadata": {
        "id": "Iwkz2X3rdQXu"
      },
      "source": [
        "#!pip install tensorflow-gpu"
      ],
      "execution_count": 148,
      "outputs": []
    },
    {
      "cell_type": "code",
      "metadata": {
        "id": "XqSVqYPVdZDT",
        "outputId": "20203a8d-fc63-4ff5-ed21-360bd46b2d57",
        "colab": {
          "base_uri": "https://localhost:8080/",
          "height": 361
        }
      },
      "source": [
        "!nvidia-smi"
      ],
      "execution_count": 149,
      "outputs": [
        {
          "output_type": "stream",
          "text": [
            "Thu Oct 22 08:20:34 2020       \n",
            "+-----------------------------------------------------------------------------+\n",
            "| NVIDIA-SMI 455.23.05    Driver Version: 418.67       CUDA Version: 10.1     |\n",
            "|-------------------------------+----------------------+----------------------+\n",
            "| GPU  Name        Persistence-M| Bus-Id        Disp.A | Volatile Uncorr. ECC |\n",
            "| Fan  Temp  Perf  Pwr:Usage/Cap|         Memory-Usage | GPU-Util  Compute M. |\n",
            "|                               |                      |               MIG M. |\n",
            "|===============================+======================+======================|\n",
            "|   0  Tesla V100-SXM2...  Off  | 00000000:00:04.0 Off |                    0 |\n",
            "| N/A   34C    P0    39W / 300W |  15619MiB / 16130MiB |      0%      Default |\n",
            "|                               |                      |                 ERR! |\n",
            "+-------------------------------+----------------------+----------------------+\n",
            "                                                                               \n",
            "+-----------------------------------------------------------------------------+\n",
            "| Processes:                                                                  |\n",
            "|  GPU   GI   CI        PID   Type   Process name                  GPU Memory |\n",
            "|        ID   ID                                                   Usage      |\n",
            "|=============================================================================|\n",
            "|  No running processes found                                                 |\n",
            "+-----------------------------------------------------------------------------+\n"
          ],
          "name": "stdout"
        }
      ]
    },
    {
      "cell_type": "code",
      "metadata": {
        "id": "qj5sWvxLz6Y_",
        "outputId": "9f79bfbe-ea0f-432b-d80e-68580cc81d0f",
        "colab": {
          "base_uri": "https://localhost:8080/",
          "height": 35
        }
      },
      "source": [
        "# Common Import\n",
        "import sklearn\n",
        "import pandas as pd\n",
        "import numpy as np\n",
        "from sklearn import metrics\n",
        "import seaborn as sns\n",
        "import os\n",
        "import time\n",
        "import random\n",
        "\n",
        "import tarfile\n",
        "import cv2\n",
        "from google.colab.patches import cv2_imshow\n",
        "\n",
        "# to make this notebook's output stable across runs\n",
        "np.random.seed(168)\n",
        "\n",
        "from zipfile import ZipFile\n",
        "\n",
        "from keras.utils import to_categorical\n",
        "from sklearn.model_selection import train_test_split\n",
        "from sklearn.preprocessing import MinMaxScaler,LabelEncoder\n",
        "\n",
        "# To plot pretty figures\n",
        "%matplotlib inline\n",
        "import matplotlib as mpl\n",
        "import matplotlib.pyplot as plt\n",
        "import matplotlib.gridspec as gridspec\n",
        "\n",
        "# Ignore useless warnings (see SciPy issue #5998)\n",
        "import warnings\n",
        "warnings.filterwarnings(action=\"ignore\")\n",
        "\n",
        "# sklearn version > 0.20 is required \n",
        "sklearn.__version__\n",
        "# Update sklearn -> !pip install -U scikit-learn"
      ],
      "execution_count": 150,
      "outputs": [
        {
          "output_type": "execute_result",
          "data": {
            "application/vnd.google.colaboratory.intrinsic+json": {
              "type": "string"
            },
            "text/plain": [
              "'0.22.2.post1'"
            ]
          },
          "metadata": {
            "tags": []
          },
          "execution_count": 150
        }
      ]
    },
    {
      "cell_type": "markdown",
      "metadata": {
        "id": "CANWhPz6on_W"
      },
      "source": [
        "Connect to google drive"
      ]
    },
    {
      "cell_type": "code",
      "metadata": {
        "id": "UdEKk5RAo2zl",
        "outputId": "a248b5c2-9177-4552-fa07-93fe5fb26e94",
        "colab": {
          "base_uri": "https://localhost:8080/",
          "height": 34
        }
      },
      "source": [
        "from google.colab import drive\n",
        "drive.mount('/content/drive')"
      ],
      "execution_count": 151,
      "outputs": [
        {
          "output_type": "stream",
          "text": [
            "Drive already mounted at /content/drive; to attempt to forcibly remount, call drive.mount(\"/content/drive\", force_remount=True).\n"
          ],
          "name": "stdout"
        }
      ]
    },
    {
      "cell_type": "markdown",
      "metadata": {
        "id": "T6-ec2RR7NI8"
      },
      "source": [
        "## Preprocessing Data"
      ]
    },
    {
      "cell_type": "code",
      "metadata": {
        "id": "oIgUxY1xqOga",
        "outputId": "e4ac6274-f97e-4ec4-da4e-9bb28c8c26f9",
        "colab": {
          "base_uri": "https://localhost:8080/",
          "height": 51
        }
      },
      "source": [
        "!unzip \"/content/drive/My Drive/new_dataset.zip\""
      ],
      "execution_count": 152,
      "outputs": [
        {
          "output_type": "stream",
          "text": [
            "Archive:  /content/drive/My Drive/new_dataset.zip\n",
            "replace new_dataset/10017_left.jpeg? [y]es, [n]o, [A]ll, [N]one, [r]ename: "
          ],
          "name": "stdout"
        }
      ]
    },
    {
      "cell_type": "code",
      "metadata": {
        "id": "gnnc7jSkysHf"
      },
      "source": [
        "DR_data = os.listdir('/content/new_dataset')"
      ],
      "execution_count": 153,
      "outputs": []
    },
    {
      "cell_type": "code",
      "metadata": {
        "id": "-i2SK5viy9OO",
        "outputId": "4ac4612f-bd51-4d4a-b2e7-b7c413a224fa",
        "colab": {
          "base_uri": "https://localhost:8080/",
          "height": 34
        }
      },
      "source": [
        "len(DR_data)"
      ],
      "execution_count": 154,
      "outputs": [
        {
          "output_type": "execute_result",
          "data": {
            "text/plain": [
              "1243"
            ]
          },
          "metadata": {
            "tags": []
          },
          "execution_count": 154
        }
      ]
    },
    {
      "cell_type": "markdown",
      "metadata": {
        "id": "xPUrVOv0Gw0n"
      },
      "source": [
        "###Create the images dataset"
      ]
    },
    {
      "cell_type": "code",
      "metadata": {
        "id": "QqPBvGKOadeq"
      },
      "source": [
        "def create_img_set(imgs_folder_path):\n",
        "  x=[]\n",
        "  lst = os.listdir(imgs_folder_path)\n",
        "  for img in lst:\n",
        "    img_imr = cv2.imread(os.path.join(imgs_folder_path, img))\n",
        "    img_imr = cv2.resize(img_imr,(128,128)) # resize images\n",
        "    x.append(np.array(img_imr))\n",
        "  return x"
      ],
      "execution_count": 155,
      "outputs": []
    },
    {
      "cell_type": "code",
      "metadata": {
        "id": "m3n_Mi4TGThV"
      },
      "source": [
        "data = create_img_set(os.path.join('/content/new_dataset'))"
      ],
      "execution_count": 156,
      "outputs": []
    },
    {
      "cell_type": "markdown",
      "metadata": {
        "id": "iZAhRJE6hote"
      },
      "source": [
        "Show some images"
      ]
    },
    {
      "cell_type": "code",
      "metadata": {
        "id": "g__2QzVpPsoF",
        "outputId": "a57fe040-ea36-436f-d1ef-1348d12f0c15",
        "colab": {
          "base_uri": "https://localhost:8080/",
          "height": 1000
        }
      },
      "source": [
        "for i in range(0,9):\n",
        "  cv2_imshow(data[i])"
      ],
      "execution_count": 157,
      "outputs": [
        {
          "output_type": "display_data",
          "data": {
            "image/png": "[encoded data removed]",
            "text/plain": [
              "<PIL.Image.Image image mode=RGB size=128x128 at 0x7F263D8B9390>"
            ]
          },
          "metadata": {
            "tags": []
          }
        },
        {
          "output_type": "display_data",
          "data": {
            "image/png": "[encoded data removed]",
            "text/plain": [
              "<PIL.Image.Image image mode=RGB size=128x128 at 0x7F2A0E5FF710>"
            ]
          },
          "metadata": {
            "tags": []
          }
        },
        {
          "output_type": "display_data",
          "data": {
            "image/png": "[encoded data removed]",
            "text/plain": [
              "<PIL.Image.Image image mode=RGB size=128x128 at 0x7F263D8B95C0>"
            ]
          },
          "metadata": {
            "tags": []
          }
        },
        {
          "output_type": "display_data",
          "data": {
            "image/png": "[encoded data removed]",
            "text/plain": [
              "<PIL.Image.Image image mode=RGB size=128x128 at 0x7F2A0E5FF710>"
            ]
          },
          "metadata": {
            "tags": []
          }
        },
        {
          "output_type": "display_data",
          "data": {
            "image/png": "[encoded data removed]",
            "text/plain": [
              "<PIL.Image.Image image mode=RGB size=128x128 at 0x7F263D8B9160>"
            ]
          },
          "metadata": {
            "tags": []
          }
        },
        {
          "output_type": "display_data",
          "data": {
            "image/png": "[encoded data removed]",
            "text/plain": [
              "<PIL.Image.Image image mode=RGB size=128x128 at 0x7F263D8B95C0>"
            ]
          },
          "metadata": {
            "tags": []
          }
        },
        {
          "output_type": "display_data",
          "data": {
            "image/png": "[encoded data removed]",
            "text/plain": [
              "<PIL.Image.Image image mode=RGB size=128x128 at 0x7F263D8B9390>"
            ]
          },
          "metadata": {
            "tags": []
          }
        },
        {
          "output_type": "display_data",
          "data": {
            "image/png": "[encoded data removed]",
            "text/plain": [
              "<PIL.Image.Image image mode=RGB size=128x128 at 0x7F263D8B9C50>"
            ]
          },
          "metadata": {
            "tags": []
          }
        },
        {
          "output_type": "display_data",
          "data": {
            "image/png": "[encoded data removed]",
            "text/plain": [
              "<PIL.Image.Image image mode=RGB size=128x128 at 0x7F263D8B98D0>"
            ]
          },
          "metadata": {
            "tags": []
          }
        }
      ]
    },
    {
      "cell_type": "markdown",
      "metadata": {
        "id": "7sjbRvlLRZZX"
      },
      "source": [
        "###Flattening the images dataset"
      ]
    },
    {
      "cell_type": "code",
      "metadata": {
        "id": "WfphFGlfRhw2"
      },
      "source": [
        "data_flatten = np.array(data)"
      ],
      "execution_count": 158,
      "outputs": []
    },
    {
      "cell_type": "code",
      "metadata": {
        "id": "y91MiW2qRzWn",
        "outputId": "9144a724-ebeb-4711-83cf-660360c2d3cc",
        "colab": {
          "base_uri": "https://localhost:8080/",
          "height": 34
        }
      },
      "source": [
        "data_flatten.shape"
      ],
      "execution_count": 159,
      "outputs": [
        {
          "output_type": "execute_result",
          "data": {
            "text/plain": [
              "(1243, 128, 128, 3)"
            ]
          },
          "metadata": {
            "tags": []
          },
          "execution_count": 159
        }
      ]
    },
    {
      "cell_type": "markdown",
      "metadata": {
        "id": "GucxCYw5XHWn"
      },
      "source": [
        "###Scale the dataset"
      ]
    },
    {
      "cell_type": "code",
      "metadata": {
        "id": "BRRb4r7QbaKN",
        "outputId": "24cc972c-8c2a-4f7a-9e4e-80c942516f37",
        "colab": {
          "base_uri": "https://localhost:8080/",
          "height": 34
        }
      },
      "source": [
        "np.amax(data_flatten) # See the maximum value before scale"
      ],
      "execution_count": 160,
      "outputs": [
        {
          "output_type": "execute_result",
          "data": {
            "text/plain": [
              "255"
            ]
          },
          "metadata": {
            "tags": []
          },
          "execution_count": 160
        }
      ]
    },
    {
      "cell_type": "markdown",
      "metadata": {
        "id": "cvxu5ytQbv1d"
      },
      "source": [
        "Scale to (0,1) by deviding with max. value 255"
      ]
    },
    {
      "cell_type": "code",
      "metadata": {
        "id": "Xc4m1matW8Es"
      },
      "source": [
        "data_scale = data_flatten.astype('float32')/255.0"
      ],
      "execution_count": 161,
      "outputs": []
    },
    {
      "cell_type": "markdown",
      "metadata": {
        "id": "qonNuaF6MtSQ"
      },
      "source": [
        "###Create label y"
      ]
    },
    {
      "cell_type": "code",
      "metadata": {
        "id": "M-AopU4y3LGo"
      },
      "source": [
        "all_label = pd.read_csv(\"/content/trainLabels.csv\")"
      ],
      "execution_count": 162,
      "outputs": []
    },
    {
      "cell_type": "code",
      "metadata": {
        "id": "dWTfvMjD1shK",
        "outputId": "a644768b-d304-4d3a-d561-45cbf901b073",
        "colab": {
          "base_uri": "https://localhost:8080/",
          "height": 413
        }
      },
      "source": [
        "all_label"
      ],
      "execution_count": 163,
      "outputs": [
        {
          "output_type": "execute_result",
          "data": {
            "text/html": [
              "<div>\n",
              "<style scoped>\n",
              "    .dataframe tbody tr th:only-of-type {\n",
              "        vertical-align: middle;\n",
              "    }\n",
              "\n",
              "    .dataframe tbody tr th {\n",
              "        vertical-align: top;\n",
              "    }\n",
              "\n",
              "    .dataframe thead th {\n",
              "        text-align: right;\n",
              "    }\n",
              "</style>\n",
              "<table border=\"1\" class=\"dataframe\">\n",
              "  <thead>\n",
              "    <tr style=\"text-align: right;\">\n",
              "      <th></th>\n",
              "      <th>image</th>\n",
              "      <th>level</th>\n",
              "    </tr>\n",
              "  </thead>\n",
              "  <tbody>\n",
              "    <tr>\n",
              "      <th>0</th>\n",
              "      <td>10_left</td>\n",
              "      <td>0</td>\n",
              "    </tr>\n",
              "    <tr>\n",
              "      <th>1</th>\n",
              "      <td>10_right</td>\n",
              "      <td>0</td>\n",
              "    </tr>\n",
              "    <tr>\n",
              "      <th>2</th>\n",
              "      <td>13_left</td>\n",
              "      <td>0</td>\n",
              "    </tr>\n",
              "    <tr>\n",
              "      <th>3</th>\n",
              "      <td>13_right</td>\n",
              "      <td>0</td>\n",
              "    </tr>\n",
              "    <tr>\n",
              "      <th>4</th>\n",
              "      <td>15_left</td>\n",
              "      <td>1</td>\n",
              "    </tr>\n",
              "    <tr>\n",
              "      <th>...</th>\n",
              "      <td>...</td>\n",
              "      <td>...</td>\n",
              "    </tr>\n",
              "    <tr>\n",
              "      <th>35121</th>\n",
              "      <td>44347_right</td>\n",
              "      <td>0</td>\n",
              "    </tr>\n",
              "    <tr>\n",
              "      <th>35122</th>\n",
              "      <td>44348_left</td>\n",
              "      <td>0</td>\n",
              "    </tr>\n",
              "    <tr>\n",
              "      <th>35123</th>\n",
              "      <td>44348_right</td>\n",
              "      <td>0</td>\n",
              "    </tr>\n",
              "    <tr>\n",
              "      <th>35124</th>\n",
              "      <td>44349_left</td>\n",
              "      <td>0</td>\n",
              "    </tr>\n",
              "    <tr>\n",
              "      <th>35125</th>\n",
              "      <td>44349_right</td>\n",
              "      <td>1</td>\n",
              "    </tr>\n",
              "  </tbody>\n",
              "</table>\n",
              "<p>35126 rows × 2 columns</p>\n",
              "</div>"
            ],
            "text/plain": [
              "             image  level\n",
              "0          10_left      0\n",
              "1         10_right      0\n",
              "2          13_left      0\n",
              "3         13_right      0\n",
              "4          15_left      1\n",
              "...            ...    ...\n",
              "35121  44347_right      0\n",
              "35122   44348_left      0\n",
              "35123  44348_right      0\n",
              "35124   44349_left      0\n",
              "35125  44349_right      1\n",
              "\n",
              "[35126 rows x 2 columns]"
            ]
          },
          "metadata": {
            "tags": []
          },
          "execution_count": 163
        }
      ]
    },
    {
      "cell_type": "markdown",
      "metadata": {
        "id": "w6KYno76zVm_"
      },
      "source": [
        "Let's check if the classes are balanced"
      ]
    },
    {
      "cell_type": "code",
      "metadata": {
        "id": "qUBlqudtzUoz",
        "outputId": "077e056a-c586-403f-a46f-042888f62456",
        "colab": {
          "base_uri": "https://localhost:8080/",
          "height": 138
        }
      },
      "source": [
        "print(all_label.groupby('level').nunique())"
      ],
      "execution_count": 164,
      "outputs": [
        {
          "output_type": "stream",
          "text": [
            "       image\n",
            "level       \n",
            "0      25810\n",
            "1       2443\n",
            "2       5292\n",
            "3        873\n",
            "4        708\n"
          ],
          "name": "stdout"
        }
      ]
    },
    {
      "cell_type": "markdown",
      "metadata": {
        "id": "tRDy4szc1_cq"
      },
      "source": [
        "Because we only use subset 1427 images; therefore, we have to extract assiciated label correctly."
      ]
    },
    {
      "cell_type": "code",
      "metadata": {
        "id": "YLen2HUQ6Z1r"
      },
      "source": [
        "label = []"
      ],
      "execution_count": 165,
      "outputs": []
    },
    {
      "cell_type": "code",
      "metadata": {
        "id": "upzMj6E_7FAL"
      },
      "source": [
        "file_dir = os.path.join('/content/train')\n",
        "files = [os.path.join(file_dir, fname) for fname in DR_data]\n",
        "for fname in DR_data:\n",
        "  label.append(fname.split(\".\")[0]) "
      ],
      "execution_count": 166,
      "outputs": []
    },
    {
      "cell_type": "code",
      "metadata": {
        "id": "qHlhmwAsDVBx"
      },
      "source": [
        "label = pd.DataFrame(label,columns=['image'])"
      ],
      "execution_count": 167,
      "outputs": []
    },
    {
      "cell_type": "code",
      "metadata": {
        "id": "MDgkH2IBhpM8",
        "outputId": "64aa06ed-e55b-474a-8923-b217769a4eb8",
        "colab": {
          "base_uri": "https://localhost:8080/",
          "height": 413
        }
      },
      "source": [
        "label"
      ],
      "execution_count": 168,
      "outputs": [
        {
          "output_type": "execute_result",
          "data": {
            "text/html": [
              "<div>\n",
              "<style scoped>\n",
              "    .dataframe tbody tr th:only-of-type {\n",
              "        vertical-align: middle;\n",
              "    }\n",
              "\n",
              "    .dataframe tbody tr th {\n",
              "        vertical-align: top;\n",
              "    }\n",
              "\n",
              "    .dataframe thead th {\n",
              "        text-align: right;\n",
              "    }\n",
              "</style>\n",
              "<table border=\"1\" class=\"dataframe\">\n",
              "  <thead>\n",
              "    <tr style=\"text-align: right;\">\n",
              "      <th></th>\n",
              "      <th>image</th>\n",
              "    </tr>\n",
              "  </thead>\n",
              "  <tbody>\n",
              "    <tr>\n",
              "      <th>0</th>\n",
              "      <td>11492_right</td>\n",
              "    </tr>\n",
              "    <tr>\n",
              "      <th>1</th>\n",
              "      <td>1919_right</td>\n",
              "    </tr>\n",
              "    <tr>\n",
              "      <th>2</th>\n",
              "      <td>3444_right</td>\n",
              "    </tr>\n",
              "    <tr>\n",
              "      <th>3</th>\n",
              "      <td>1475_left</td>\n",
              "    </tr>\n",
              "    <tr>\n",
              "      <th>4</th>\n",
              "      <td>2970_left</td>\n",
              "    </tr>\n",
              "    <tr>\n",
              "      <th>...</th>\n",
              "      <td>...</td>\n",
              "    </tr>\n",
              "    <tr>\n",
              "      <th>1238</th>\n",
              "      <td>2767_right</td>\n",
              "    </tr>\n",
              "    <tr>\n",
              "      <th>1239</th>\n",
              "      <td>70_right</td>\n",
              "    </tr>\n",
              "    <tr>\n",
              "      <th>1240</th>\n",
              "      <td>1987_right</td>\n",
              "    </tr>\n",
              "    <tr>\n",
              "      <th>1241</th>\n",
              "      <td>170_left</td>\n",
              "    </tr>\n",
              "    <tr>\n",
              "      <th>1242</th>\n",
              "      <td>280_left</td>\n",
              "    </tr>\n",
              "  </tbody>\n",
              "</table>\n",
              "<p>1243 rows × 1 columns</p>\n",
              "</div>"
            ],
            "text/plain": [
              "            image\n",
              "0     11492_right\n",
              "1      1919_right\n",
              "2      3444_right\n",
              "3       1475_left\n",
              "4       2970_left\n",
              "...           ...\n",
              "1238   2767_right\n",
              "1239     70_right\n",
              "1240   1987_right\n",
              "1241     170_left\n",
              "1242     280_left\n",
              "\n",
              "[1243 rows x 1 columns]"
            ]
          },
          "metadata": {
            "tags": []
          },
          "execution_count": 168
        }
      ]
    },
    {
      "cell_type": "code",
      "metadata": {
        "id": "HsR8-qd9FW5a"
      },
      "source": [
        "new_label = pd.merge(label, all_label, on=['image'])"
      ],
      "execution_count": 169,
      "outputs": []
    },
    {
      "cell_type": "code",
      "metadata": {
        "id": "-nG10gjEIqs4",
        "outputId": "3951a656-450c-40b6-b4f6-ef7259872c3c",
        "colab": {
          "base_uri": "https://localhost:8080/",
          "height": 413
        }
      },
      "source": [
        "new_label"
      ],
      "execution_count": 170,
      "outputs": [
        {
          "output_type": "execute_result",
          "data": {
            "text/html": [
              "<div>\n",
              "<style scoped>\n",
              "    .dataframe tbody tr th:only-of-type {\n",
              "        vertical-align: middle;\n",
              "    }\n",
              "\n",
              "    .dataframe tbody tr th {\n",
              "        vertical-align: top;\n",
              "    }\n",
              "\n",
              "    .dataframe thead th {\n",
              "        text-align: right;\n",
              "    }\n",
              "</style>\n",
              "<table border=\"1\" class=\"dataframe\">\n",
              "  <thead>\n",
              "    <tr style=\"text-align: right;\">\n",
              "      <th></th>\n",
              "      <th>image</th>\n",
              "      <th>level</th>\n",
              "    </tr>\n",
              "  </thead>\n",
              "  <tbody>\n",
              "    <tr>\n",
              "      <th>0</th>\n",
              "      <td>11492_right</td>\n",
              "      <td>4</td>\n",
              "    </tr>\n",
              "    <tr>\n",
              "      <th>1</th>\n",
              "      <td>1919_right</td>\n",
              "      <td>2</td>\n",
              "    </tr>\n",
              "    <tr>\n",
              "      <th>2</th>\n",
              "      <td>3444_right</td>\n",
              "      <td>3</td>\n",
              "    </tr>\n",
              "    <tr>\n",
              "      <th>3</th>\n",
              "      <td>1475_left</td>\n",
              "      <td>2</td>\n",
              "    </tr>\n",
              "    <tr>\n",
              "      <th>4</th>\n",
              "      <td>2970_left</td>\n",
              "      <td>4</td>\n",
              "    </tr>\n",
              "    <tr>\n",
              "      <th>...</th>\n",
              "      <td>...</td>\n",
              "      <td>...</td>\n",
              "    </tr>\n",
              "    <tr>\n",
              "      <th>1238</th>\n",
              "      <td>2767_right</td>\n",
              "      <td>3</td>\n",
              "    </tr>\n",
              "    <tr>\n",
              "      <th>1239</th>\n",
              "      <td>70_right</td>\n",
              "      <td>0</td>\n",
              "    </tr>\n",
              "    <tr>\n",
              "      <th>1240</th>\n",
              "      <td>1987_right</td>\n",
              "      <td>2</td>\n",
              "    </tr>\n",
              "    <tr>\n",
              "      <th>1241</th>\n",
              "      <td>170_left</td>\n",
              "      <td>0</td>\n",
              "    </tr>\n",
              "    <tr>\n",
              "      <th>1242</th>\n",
              "      <td>280_left</td>\n",
              "      <td>0</td>\n",
              "    </tr>\n",
              "  </tbody>\n",
              "</table>\n",
              "<p>1243 rows × 2 columns</p>\n",
              "</div>"
            ],
            "text/plain": [
              "            image  level\n",
              "0     11492_right      4\n",
              "1      1919_right      2\n",
              "2      3444_right      3\n",
              "3       1475_left      2\n",
              "4       2970_left      4\n",
              "...           ...    ...\n",
              "1238   2767_right      3\n",
              "1239     70_right      0\n",
              "1240   1987_right      2\n",
              "1241     170_left      0\n",
              "1242     280_left      0\n",
              "\n",
              "[1243 rows x 2 columns]"
            ]
          },
          "metadata": {
            "tags": []
          },
          "execution_count": 170
        }
      ]
    },
    {
      "cell_type": "markdown",
      "metadata": {
        "id": "0v0QeLhKfeqa"
      },
      "source": [
        "Check the balance of the classes"
      ]
    },
    {
      "cell_type": "code",
      "metadata": {
        "id": "_7A7QAXfo0Tp",
        "outputId": "850ad5fc-dcd6-41e9-df00-1fb5ae6398e5",
        "colab": {
          "base_uri": "https://localhost:8080/",
          "height": 138
        }
      },
      "source": [
        "print(new_label.groupby('level').nunique())"
      ],
      "execution_count": 171,
      "outputs": [
        {
          "output_type": "stream",
          "text": [
            "       image\n",
            "level       \n",
            "0        249\n",
            "1        244\n",
            "2        250\n",
            "3        250\n",
            "4        250\n"
          ],
          "name": "stdout"
        }
      ]
    },
    {
      "cell_type": "markdown",
      "metadata": {
        "id": "u-5Jlg1KJO8G"
      },
      "source": [
        "We can see, the subset contents imbalance clasess.\n",
        "\n",
        "Let's verify with first and last file name to see if it's matched."
      ]
    },
    {
      "cell_type": "code",
      "metadata": {
        "id": "86QRMIDhJFwI",
        "outputId": "ab10e3df-6763-45bf-e38d-5eba57dbe286",
        "colab": {
          "base_uri": "https://localhost:8080/",
          "height": 34
        }
      },
      "source": [
        "DR_data[0], new_label['image'][0]"
      ],
      "execution_count": 172,
      "outputs": [
        {
          "output_type": "execute_result",
          "data": {
            "text/plain": [
              "('11492_right.jpeg', '11492_right')"
            ]
          },
          "metadata": {
            "tags": []
          },
          "execution_count": 172
        }
      ]
    },
    {
      "cell_type": "code",
      "metadata": {
        "id": "APPCx_E8hJOZ",
        "outputId": "4169b446-b0b4-4015-ba35-93491ec7f935",
        "colab": {
          "base_uri": "https://localhost:8080/",
          "height": 34
        }
      },
      "source": [
        "DR_data[500], new_label['image'][500]"
      ],
      "execution_count": 173,
      "outputs": [
        {
          "output_type": "execute_result",
          "data": {
            "text/plain": [
              "('1412_left.jpeg', '1412_left')"
            ]
          },
          "metadata": {
            "tags": []
          },
          "execution_count": 173
        }
      ]
    },
    {
      "cell_type": "code",
      "metadata": {
        "id": "rKkX6YiEhR1U",
        "outputId": "de7c5496-5244-4d99-f074-41ebfedad88c",
        "colab": {
          "base_uri": "https://localhost:8080/",
          "height": 34
        }
      },
      "source": [
        "DR_data[1000], new_label['image'][1000]"
      ],
      "execution_count": 174,
      "outputs": [
        {
          "output_type": "execute_result",
          "data": {
            "text/plain": [
              "('104_left.jpeg', '104_left')"
            ]
          },
          "metadata": {
            "tags": []
          },
          "execution_count": 174
        }
      ]
    },
    {
      "cell_type": "markdown",
      "metadata": {
        "id": "0OJNVRgYhWQ9"
      },
      "source": [
        "Therefore, the new label is created correctly and good to go!!!"
      ]
    },
    {
      "cell_type": "code",
      "metadata": {
        "id": "bMN7ZMVLPvOL"
      },
      "source": [
        "target = new_label['level']"
      ],
      "execution_count": 175,
      "outputs": []
    },
    {
      "cell_type": "markdown",
      "metadata": {
        "id": "rMNdLVZ8QOd_"
      },
      "source": [
        "Split training and testing set 80:20"
      ]
    },
    {
      "cell_type": "code",
      "metadata": {
        "id": "FZzgrYxJQWls"
      },
      "source": [
        "X_train, X_test, y_train, y_test = train_test_split(data_scale, target, test_size=0.2, random_state=42)"
      ],
      "execution_count": 176,
      "outputs": []
    },
    {
      "cell_type": "code",
      "metadata": {
        "id": "2m2NrfXSTbq0"
      },
      "source": [
        "class_name = ['No DR','Mild','Moderate','Severe','Proliferative DR']"
      ],
      "execution_count": 177,
      "outputs": []
    },
    {
      "cell_type": "code",
      "metadata": {
        "id": "9OZXfU1eUcYQ"
      },
      "source": [
        "y_train_cat = to_categorical(y_train, num_classes=len(class_name))"
      ],
      "execution_count": 178,
      "outputs": []
    },
    {
      "cell_type": "code",
      "metadata": {
        "id": "Jxt4mHlDUnQs"
      },
      "source": [
        "y_test_cat = to_categorical(y_test, num_classes=len(class_name))"
      ],
      "execution_count": 179,
      "outputs": []
    },
    {
      "cell_type": "markdown",
      "metadata": {
        "id": "Xa6boP8OyKx0"
      },
      "source": [
        "##CNN 5-layers "
      ]
    },
    {
      "cell_type": "code",
      "metadata": {
        "id": "-x1rpe3fFfBI",
        "outputId": "03f29797-5659-44f4-a185-8ddee7645a12",
        "colab": {
          "base_uri": "https://localhost:8080/",
          "height": 34
        }
      },
      "source": [
        "import keras\n",
        "from keras.models import Sequential\n",
        "from keras.layers import Dense, Dropout, Flatten\n",
        "from keras.layers import Conv2D, MaxPooling2D, BatchNormalization\n",
        "from keras import regularizers, optimizers\n",
        "import tensorflow as tf\n",
        "print(tf.__version__)\n",
        "\n",
        "np.random.seed(168)"
      ],
      "execution_count": 180,
      "outputs": [
        {
          "output_type": "stream",
          "text": [
            "2.3.0\n"
          ],
          "name": "stdout"
        }
      ]
    },
    {
      "cell_type": "markdown",
      "metadata": {
        "id": "XlPLtXaXL-fw"
      },
      "source": [
        "Instantiate some optimizers"
      ]
    },
    {
      "cell_type": "code",
      "metadata": {
        "id": "OkAwHYNqL881"
      },
      "source": [
        "sgd = optimizers.SGD(learning_rate=0.01)\n",
        "rms = optimizers.RMSprop(learning_rate=0.001, rho=0.9)\n",
        "adam = optimizers.Adam(learning_rate=0.001, beta_1=0.9, beta_2=0.999)"
      ],
      "execution_count": 181,
      "outputs": []
    },
    {
      "cell_type": "code",
      "metadata": {
        "id": "nJgvFB17a7Ng"
      },
      "source": [
        "cnn5 = Sequential([\n",
        "    Conv2D(32, kernel_size=(5, 5), activation='relu', strides=(2,2), input_shape=(128,128,3)),  # 1st layer\n",
        "    MaxPooling2D(pool_size=(2, 2),strides=2),\n",
        "\n",
        "    Conv2D(32, kernel_size=(3,3), activation='relu'), # 2nd layer\n",
        "    MaxPooling2D(pool_size=(2,2), strides=1),\n",
        "    BatchNormalization(),\n",
        "\n",
        "    Conv2D(32, kernel_size=(3,3), activation='relu',  kernel_regularizer=regularizers.l2(0.01)), # 3rd layer\n",
        "    MaxPooling2D(pool_size=(2,2), strides=1),\n",
        "    Dropout(0.2),\n",
        "\n",
        "    Conv2D(16, kernel_size=(3,3), activation='relu'), # 4th layer\n",
        "    MaxPooling2D(pool_size=(2,2), strides=1),\n",
        "    BatchNormalization(),\n",
        "\n",
        "    Conv2D(16, kernel_size=(3,3), activation='relu', kernel_regularizer=regularizers.l2(0.01)), # 5th layer\n",
        "    MaxPooling2D(pool_size=(2,2), strides=1),\n",
        "    Dropout(0.2),\n",
        "\n",
        "    Flatten(),\n",
        "    Dense(512, activation='relu'),\n",
        "    Dense(128, activation='relu'),\n",
        "    Dense(32, activation='relu'),\n",
        "    Dense(5, activation='softmax')\n",
        "])"
      ],
      "execution_count": 192,
      "outputs": []
    },
    {
      "cell_type": "code",
      "metadata": {
        "id": "Pi9vHSg5yyaw"
      },
      "source": [
        "#For Classification use 'categorical_crossentropy' or 'binary_crossentropy'\n",
        "#For Regression use 'mean_square_error'\n",
        "cnn5.compile(loss='categorical_crossentropy', \n",
        "              optimizer=sgd,\n",
        "              metrics=['accuracy'])"
      ],
      "execution_count": 193,
      "outputs": []
    },
    {
      "cell_type": "code",
      "metadata": {
        "id": "bq_hpITAxA0W",
        "outputId": "32a91bc0-9084-45d0-ee94-b9151c12cba8",
        "colab": {
          "base_uri": "https://localhost:8080/",
          "height": 844
        }
      },
      "source": [
        "cnn5.summary()"
      ],
      "execution_count": 194,
      "outputs": [
        {
          "output_type": "stream",
          "text": [
            "Model: \"sequential_4\"\n",
            "_________________________________________________________________\n",
            "Layer (type)                 Output Shape              Param #   \n",
            "=================================================================\n",
            "conv2d_11 (Conv2D)           (None, 62, 62, 32)        2432      \n",
            "_________________________________________________________________\n",
            "max_pooling2d_5 (MaxPooling2 (None, 31, 31, 32)        0         \n",
            "_________________________________________________________________\n",
            "conv2d_12 (Conv2D)           (None, 29, 29, 32)        9248      \n",
            "_________________________________________________________________\n",
            "max_pooling2d_6 (MaxPooling2 (None, 28, 28, 32)        0         \n",
            "_________________________________________________________________\n",
            "batch_normalization_8 (Batch (None, 28, 28, 32)        128       \n",
            "_________________________________________________________________\n",
            "conv2d_13 (Conv2D)           (None, 26, 26, 32)        9248      \n",
            "_________________________________________________________________\n",
            "max_pooling2d_7 (MaxPooling2 (None, 25, 25, 32)        0         \n",
            "_________________________________________________________________\n",
            "dropout_3 (Dropout)          (None, 25, 25, 32)        0         \n",
            "_________________________________________________________________\n",
            "conv2d_14 (Conv2D)           (None, 23, 23, 16)        4624      \n",
            "_________________________________________________________________\n",
            "max_pooling2d_8 (MaxPooling2 (None, 22, 22, 16)        0         \n",
            "_________________________________________________________________\n",
            "batch_normalization_9 (Batch (None, 22, 22, 16)        64        \n",
            "_________________________________________________________________\n",
            "conv2d_15 (Conv2D)           (None, 20, 20, 16)        2320      \n",
            "_________________________________________________________________\n",
            "max_pooling2d_9 (MaxPooling2 (None, 19, 19, 16)        0         \n",
            "_________________________________________________________________\n",
            "dropout_4 (Dropout)          (None, 19, 19, 16)        0         \n",
            "_________________________________________________________________\n",
            "flatten_1 (Flatten)          (None, 5776)              0         \n",
            "_________________________________________________________________\n",
            "dense_6 (Dense)              (None, 1024)              5915648   \n",
            "_________________________________________________________________\n",
            "dense_7 (Dense)              (None, 512)               524800    \n",
            "_________________________________________________________________\n",
            "dense_8 (Dense)              (None, 128)               65664     \n",
            "_________________________________________________________________\n",
            "dense_9 (Dense)              (None, 32)                4128      \n",
            "_________________________________________________________________\n",
            "dense_10 (Dense)             (None, 5)                 165       \n",
            "=================================================================\n",
            "Total params: 6,538,469\n",
            "Trainable params: 6,538,373\n",
            "Non-trainable params: 96\n",
            "_________________________________________________________________\n"
          ],
          "name": "stdout"
        }
      ]
    },
    {
      "cell_type": "markdown",
      "metadata": {
        "id": "IHpNk7MQy706"
      },
      "source": [
        "###Training the model"
      ]
    },
    {
      "cell_type": "code",
      "metadata": {
        "id": "s3b9ay03xA8o",
        "outputId": "6af00ab3-ebd5-4803-cc70-c8c56eeefbd7",
        "colab": {
          "base_uri": "https://localhost:8080/",
          "height": 1000
        }
      },
      "source": [
        "tr5 = cnn5.fit(X_train, y_train_cat, \n",
        "          batch_size=20, epochs=100, verbose=1, validation_split=0.2)"
      ],
      "execution_count": 195,
      "outputs": [
        {
          "output_type": "stream",
          "text": [
            "Epoch 1/100\n",
            "40/40 [==============================] - 0s 12ms/step - loss: 2.1590 - accuracy: 0.1987 - val_loss: 2.0846 - val_accuracy: 0.2060\n",
            "Epoch 2/100\n",
            "40/40 [==============================] - 0s 7ms/step - loss: 2.0881 - accuracy: 0.2164 - val_loss: 2.0832 - val_accuracy: 0.1759\n",
            "Epoch 3/100\n",
            "40/40 [==============================] - 0s 7ms/step - loss: 2.0603 - accuracy: 0.2541 - val_loss: 2.0788 - val_accuracy: 0.1608\n",
            "Epoch 4/100\n",
            "40/40 [==============================] - 0s 7ms/step - loss: 2.0577 - accuracy: 0.2113 - val_loss: 2.0893 - val_accuracy: 0.1709\n",
            "Epoch 5/100\n",
            "40/40 [==============================] - 0s 7ms/step - loss: 2.0420 - accuracy: 0.2252 - val_loss: 2.0785 - val_accuracy: 0.1709\n",
            "Epoch 6/100\n",
            "40/40 [==============================] - 0s 7ms/step - loss: 2.0249 - accuracy: 0.2516 - val_loss: 2.0805 - val_accuracy: 0.1709\n",
            "Epoch 7/100\n",
            "40/40 [==============================] - 0s 7ms/step - loss: 2.0029 - accuracy: 0.2931 - val_loss: 2.1343 - val_accuracy: 0.1658\n",
            "Epoch 8/100\n",
            "40/40 [==============================] - 0s 7ms/step - loss: 1.9814 - accuracy: 0.2780 - val_loss: 2.0553 - val_accuracy: 0.1859\n",
            "Epoch 9/100\n",
            "40/40 [==============================] - 0s 7ms/step - loss: 1.9796 - accuracy: 0.2868 - val_loss: 2.0967 - val_accuracy: 0.2010\n",
            "Epoch 10/100\n",
            "40/40 [==============================] - 0s 7ms/step - loss: 1.9501 - accuracy: 0.2931 - val_loss: 2.0630 - val_accuracy: 0.1809\n",
            "Epoch 11/100\n",
            "40/40 [==============================] - 0s 7ms/step - loss: 1.9322 - accuracy: 0.3245 - val_loss: 2.0245 - val_accuracy: 0.2261\n",
            "Epoch 12/100\n",
            "40/40 [==============================] - 0s 7ms/step - loss: 1.9234 - accuracy: 0.3245 - val_loss: 2.0145 - val_accuracy: 0.2060\n",
            "Epoch 13/100\n",
            "40/40 [==============================] - 0s 7ms/step - loss: 1.8976 - accuracy: 0.3208 - val_loss: 2.1486 - val_accuracy: 0.1709\n",
            "Epoch 14/100\n",
            "40/40 [==============================] - 0s 7ms/step - loss: 1.8806 - accuracy: 0.3333 - val_loss: 2.1258 - val_accuracy: 0.1809\n",
            "Epoch 15/100\n",
            "40/40 [==============================] - 0s 7ms/step - loss: 1.8552 - accuracy: 0.3509 - val_loss: 2.0440 - val_accuracy: 0.2312\n",
            "Epoch 16/100\n",
            "40/40 [==============================] - 0s 7ms/step - loss: 1.8319 - accuracy: 0.3434 - val_loss: 2.0578 - val_accuracy: 0.1809\n",
            "Epoch 17/100\n",
            "40/40 [==============================] - 0s 7ms/step - loss: 1.8153 - accuracy: 0.3774 - val_loss: 2.1162 - val_accuracy: 0.2111\n",
            "Epoch 18/100\n",
            "40/40 [==============================] - 0s 7ms/step - loss: 1.8137 - accuracy: 0.3975 - val_loss: 1.9820 - val_accuracy: 0.2965\n",
            "Epoch 19/100\n",
            "40/40 [==============================] - 0s 7ms/step - loss: 1.7771 - accuracy: 0.3987 - val_loss: 2.0683 - val_accuracy: 0.2513\n",
            "Epoch 20/100\n",
            "40/40 [==============================] - 0s 7ms/step - loss: 1.7537 - accuracy: 0.3950 - val_loss: 2.0941 - val_accuracy: 0.2010\n",
            "Epoch 21/100\n",
            "40/40 [==============================] - 0s 8ms/step - loss: 1.7213 - accuracy: 0.4214 - val_loss: 2.2907 - val_accuracy: 0.2563\n",
            "Epoch 22/100\n",
            "40/40 [==============================] - 0s 7ms/step - loss: 1.7043 - accuracy: 0.4138 - val_loss: 2.0113 - val_accuracy: 0.2663\n",
            "Epoch 23/100\n",
            "40/40 [==============================] - 0s 7ms/step - loss: 1.6998 - accuracy: 0.4214 - val_loss: 2.0594 - val_accuracy: 0.1809\n",
            "Epoch 24/100\n",
            "40/40 [==============================] - 0s 7ms/step - loss: 1.6559 - accuracy: 0.4226 - val_loss: 2.0735 - val_accuracy: 0.2613\n",
            "Epoch 25/100\n",
            "40/40 [==============================] - 0s 7ms/step - loss: 1.6577 - accuracy: 0.4289 - val_loss: 2.0327 - val_accuracy: 0.2563\n",
            "Epoch 26/100\n",
            "40/40 [==============================] - 0s 7ms/step - loss: 1.6197 - accuracy: 0.4428 - val_loss: 1.9893 - val_accuracy: 0.2663\n",
            "Epoch 27/100\n",
            "40/40 [==============================] - 0s 7ms/step - loss: 1.5816 - accuracy: 0.4830 - val_loss: 2.1159 - val_accuracy: 0.2312\n",
            "Epoch 28/100\n",
            "40/40 [==============================] - 0s 7ms/step - loss: 1.5356 - accuracy: 0.4805 - val_loss: 2.4047 - val_accuracy: 0.2412\n",
            "Epoch 29/100\n",
            "40/40 [==============================] - 0s 7ms/step - loss: 1.5337 - accuracy: 0.4742 - val_loss: 2.6479 - val_accuracy: 0.2060\n",
            "Epoch 30/100\n",
            "40/40 [==============================] - 0s 7ms/step - loss: 1.4526 - accuracy: 0.5547 - val_loss: 2.6578 - val_accuracy: 0.1759\n",
            "Epoch 31/100\n",
            "40/40 [==============================] - 0s 7ms/step - loss: 1.4930 - accuracy: 0.4994 - val_loss: 1.9826 - val_accuracy: 0.3065\n",
            "Epoch 32/100\n",
            "40/40 [==============================] - 0s 7ms/step - loss: 1.4746 - accuracy: 0.5220 - val_loss: 2.3393 - val_accuracy: 0.1960\n",
            "Epoch 33/100\n",
            "40/40 [==============================] - 0s 7ms/step - loss: 1.3803 - accuracy: 0.5610 - val_loss: 2.4764 - val_accuracy: 0.2613\n",
            "Epoch 34/100\n",
            "40/40 [==============================] - 0s 7ms/step - loss: 1.4190 - accuracy: 0.5182 - val_loss: 2.5624 - val_accuracy: 0.1809\n",
            "Epoch 35/100\n",
            "40/40 [==============================] - 0s 7ms/step - loss: 1.3539 - accuracy: 0.5723 - val_loss: 2.1951 - val_accuracy: 0.2060\n",
            "Epoch 36/100\n",
            "40/40 [==============================] - 0s 7ms/step - loss: 1.3150 - accuracy: 0.5912 - val_loss: 2.3774 - val_accuracy: 0.2060\n",
            "Epoch 37/100\n",
            "40/40 [==============================] - 0s 7ms/step - loss: 1.2994 - accuracy: 0.5874 - val_loss: 2.2771 - val_accuracy: 0.2261\n",
            "Epoch 38/100\n",
            "40/40 [==============================] - 0s 7ms/step - loss: 1.2774 - accuracy: 0.5937 - val_loss: 2.1286 - val_accuracy: 0.2915\n",
            "Epoch 39/100\n",
            "40/40 [==============================] - 0s 7ms/step - loss: 1.2109 - accuracy: 0.6352 - val_loss: 2.5410 - val_accuracy: 0.2312\n",
            "Epoch 40/100\n",
            "40/40 [==============================] - 0s 8ms/step - loss: 1.1945 - accuracy: 0.6440 - val_loss: 2.4728 - val_accuracy: 0.2362\n",
            "Epoch 41/100\n",
            "40/40 [==============================] - 0s 7ms/step - loss: 1.1735 - accuracy: 0.6491 - val_loss: 2.2409 - val_accuracy: 0.3116\n",
            "Epoch 42/100\n",
            "40/40 [==============================] - 0s 7ms/step - loss: 1.0774 - accuracy: 0.6755 - val_loss: 3.0395 - val_accuracy: 0.1809\n",
            "Epoch 43/100\n",
            "40/40 [==============================] - 0s 7ms/step - loss: 1.0870 - accuracy: 0.6742 - val_loss: 3.0215 - val_accuracy: 0.2513\n",
            "Epoch 44/100\n",
            "40/40 [==============================] - 0s 7ms/step - loss: 1.0779 - accuracy: 0.6780 - val_loss: 2.2414 - val_accuracy: 0.2965\n",
            "Epoch 45/100\n",
            "40/40 [==============================] - 0s 7ms/step - loss: 1.0884 - accuracy: 0.6742 - val_loss: 3.5778 - val_accuracy: 0.2111\n",
            "Epoch 46/100\n",
            "40/40 [==============================] - 0s 7ms/step - loss: 1.0261 - accuracy: 0.6994 - val_loss: 2.4626 - val_accuracy: 0.2462\n",
            "Epoch 47/100\n",
            "40/40 [==============================] - 0s 7ms/step - loss: 1.0135 - accuracy: 0.7182 - val_loss: 2.8611 - val_accuracy: 0.2814\n",
            "Epoch 48/100\n",
            "40/40 [==============================] - 0s 7ms/step - loss: 0.9412 - accuracy: 0.7447 - val_loss: 2.8237 - val_accuracy: 0.2362\n",
            "Epoch 49/100\n",
            "40/40 [==============================] - 0s 8ms/step - loss: 0.9382 - accuracy: 0.7308 - val_loss: 2.6193 - val_accuracy: 0.3015\n",
            "Epoch 50/100\n",
            "40/40 [==============================] - 0s 7ms/step - loss: 0.9260 - accuracy: 0.7333 - val_loss: 2.5318 - val_accuracy: 0.2814\n",
            "Epoch 51/100\n",
            "40/40 [==============================] - 0s 8ms/step - loss: 0.9349 - accuracy: 0.7321 - val_loss: 3.1723 - val_accuracy: 0.2111\n",
            "Epoch 52/100\n",
            "40/40 [==============================] - 0s 7ms/step - loss: 0.8387 - accuracy: 0.7698 - val_loss: 2.7039 - val_accuracy: 0.3015\n",
            "Epoch 53/100\n",
            "40/40 [==============================] - 0s 7ms/step - loss: 0.8753 - accuracy: 0.7371 - val_loss: 3.1513 - val_accuracy: 0.2161\n",
            "Epoch 54/100\n",
            "40/40 [==============================] - 0s 7ms/step - loss: 0.8347 - accuracy: 0.7497 - val_loss: 3.1603 - val_accuracy: 0.2412\n",
            "Epoch 55/100\n",
            "40/40 [==============================] - 0s 7ms/step - loss: 0.7364 - accuracy: 0.8101 - val_loss: 2.9974 - val_accuracy: 0.2764\n",
            "Epoch 56/100\n",
            "40/40 [==============================] - 0s 7ms/step - loss: 0.8498 - accuracy: 0.7635 - val_loss: 3.6501 - val_accuracy: 0.2362\n",
            "Epoch 57/100\n",
            "40/40 [==============================] - 0s 7ms/step - loss: 0.7481 - accuracy: 0.8025 - val_loss: 2.6528 - val_accuracy: 0.3317\n",
            "Epoch 58/100\n",
            "40/40 [==============================] - 0s 7ms/step - loss: 0.7180 - accuracy: 0.8075 - val_loss: 3.9496 - val_accuracy: 0.2010\n",
            "Epoch 59/100\n",
            "40/40 [==============================] - 0s 8ms/step - loss: 0.7199 - accuracy: 0.8164 - val_loss: 3.2817 - val_accuracy: 0.2513\n",
            "Epoch 60/100\n",
            "40/40 [==============================] - 0s 7ms/step - loss: 0.6561 - accuracy: 0.8327 - val_loss: 3.0749 - val_accuracy: 0.3116\n",
            "Epoch 61/100\n",
            "40/40 [==============================] - 0s 7ms/step - loss: 0.6928 - accuracy: 0.8352 - val_loss: 3.0197 - val_accuracy: 0.2613\n",
            "Epoch 62/100\n",
            "40/40 [==============================] - 0s 7ms/step - loss: 0.6310 - accuracy: 0.8528 - val_loss: 3.1178 - val_accuracy: 0.3015\n",
            "Epoch 63/100\n",
            "40/40 [==============================] - 0s 7ms/step - loss: 0.6248 - accuracy: 0.8566 - val_loss: 3.0927 - val_accuracy: 0.2663\n",
            "Epoch 64/100\n",
            "40/40 [==============================] - 0s 7ms/step - loss: 0.6491 - accuracy: 0.8428 - val_loss: 3.8756 - val_accuracy: 0.2613\n",
            "Epoch 65/100\n",
            "40/40 [==============================] - 0s 7ms/step - loss: 0.5648 - accuracy: 0.8767 - val_loss: 4.4036 - val_accuracy: 0.2111\n",
            "Epoch 66/100\n",
            "40/40 [==============================] - 0s 7ms/step - loss: 0.6004 - accuracy: 0.8629 - val_loss: 3.2152 - val_accuracy: 0.2261\n",
            "Epoch 67/100\n",
            "40/40 [==============================] - 0s 7ms/step - loss: 0.6065 - accuracy: 0.8403 - val_loss: 2.9428 - val_accuracy: 0.3166\n",
            "Epoch 68/100\n",
            "40/40 [==============================] - 0s 8ms/step - loss: 0.5720 - accuracy: 0.8642 - val_loss: 3.5739 - val_accuracy: 0.2613\n",
            "Epoch 69/100\n",
            "40/40 [==============================] - 0s 8ms/step - loss: 0.5437 - accuracy: 0.8679 - val_loss: 3.2386 - val_accuracy: 0.2965\n",
            "Epoch 70/100\n",
            "40/40 [==============================] - 0s 7ms/step - loss: 0.6062 - accuracy: 0.8390 - val_loss: 4.1490 - val_accuracy: 0.2261\n",
            "Epoch 71/100\n",
            "40/40 [==============================] - 0s 7ms/step - loss: 0.5191 - accuracy: 0.8881 - val_loss: 3.4360 - val_accuracy: 0.2613\n",
            "Epoch 72/100\n",
            "40/40 [==============================] - 0s 8ms/step - loss: 0.5444 - accuracy: 0.8855 - val_loss: 3.6673 - val_accuracy: 0.3015\n",
            "Epoch 73/100\n",
            "40/40 [==============================] - 0s 8ms/step - loss: 0.5188 - accuracy: 0.8843 - val_loss: 4.2637 - val_accuracy: 0.2412\n",
            "Epoch 74/100\n",
            "40/40 [==============================] - 0s 7ms/step - loss: 0.3957 - accuracy: 0.9308 - val_loss: 3.8263 - val_accuracy: 0.2663\n",
            "Epoch 75/100\n",
            "40/40 [==============================] - 0s 7ms/step - loss: 0.4119 - accuracy: 0.9245 - val_loss: 3.9439 - val_accuracy: 0.2211\n",
            "Epoch 76/100\n",
            "40/40 [==============================] - 0s 7ms/step - loss: 0.5680 - accuracy: 0.8629 - val_loss: 3.3701 - val_accuracy: 0.2714\n",
            "Epoch 77/100\n",
            "40/40 [==============================] - 0s 7ms/step - loss: 0.4425 - accuracy: 0.9057 - val_loss: 3.9280 - val_accuracy: 0.2714\n",
            "Epoch 78/100\n",
            "40/40 [==============================] - 0s 8ms/step - loss: 0.4129 - accuracy: 0.9220 - val_loss: 4.2608 - val_accuracy: 0.2613\n",
            "Epoch 79/100\n",
            "40/40 [==============================] - 0s 7ms/step - loss: 0.4386 - accuracy: 0.9119 - val_loss: 4.6441 - val_accuracy: 0.1809\n",
            "Epoch 80/100\n",
            "40/40 [==============================] - 0s 7ms/step - loss: 0.4585 - accuracy: 0.9094 - val_loss: 3.5813 - val_accuracy: 0.2814\n",
            "Epoch 81/100\n",
            "40/40 [==============================] - 0s 8ms/step - loss: 0.4139 - accuracy: 0.9170 - val_loss: 3.2015 - val_accuracy: 0.2663\n",
            "Epoch 82/100\n",
            "40/40 [==============================] - 0s 8ms/step - loss: 0.4123 - accuracy: 0.9069 - val_loss: 3.8881 - val_accuracy: 0.2211\n",
            "Epoch 83/100\n",
            "40/40 [==============================] - 0s 8ms/step - loss: 0.3078 - accuracy: 0.9597 - val_loss: 3.7998 - val_accuracy: 0.2613\n",
            "Epoch 84/100\n",
            "40/40 [==============================] - 0s 8ms/step - loss: 0.3797 - accuracy: 0.9346 - val_loss: 4.2216 - val_accuracy: 0.2663\n",
            "Epoch 85/100\n",
            "40/40 [==============================] - 0s 8ms/step - loss: 0.4392 - accuracy: 0.8994 - val_loss: 4.7557 - val_accuracy: 0.1809\n",
            "Epoch 86/100\n",
            "40/40 [==============================] - 0s 8ms/step - loss: 0.4348 - accuracy: 0.9132 - val_loss: 4.5103 - val_accuracy: 0.2312\n",
            "Epoch 87/100\n",
            "40/40 [==============================] - 0s 8ms/step - loss: 0.4000 - accuracy: 0.9258 - val_loss: 4.0501 - val_accuracy: 0.2362\n",
            "Epoch 88/100\n",
            "40/40 [==============================] - 0s 7ms/step - loss: 0.3306 - accuracy: 0.9484 - val_loss: 4.7444 - val_accuracy: 0.2513\n",
            "Epoch 89/100\n",
            "40/40 [==============================] - 0s 8ms/step - loss: 0.2847 - accuracy: 0.9597 - val_loss: 3.9600 - val_accuracy: 0.2563\n",
            "Epoch 90/100\n",
            "40/40 [==============================] - 0s 7ms/step - loss: 0.3386 - accuracy: 0.9396 - val_loss: 4.0342 - val_accuracy: 0.2714\n",
            "Epoch 91/100\n",
            "40/40 [==============================] - 0s 7ms/step - loss: 0.2794 - accuracy: 0.9660 - val_loss: 4.2138 - val_accuracy: 0.2161\n",
            "Epoch 92/100\n",
            "40/40 [==============================] - 0s 7ms/step - loss: 0.2952 - accuracy: 0.9547 - val_loss: 4.2810 - val_accuracy: 0.2412\n",
            "Epoch 93/100\n",
            "40/40 [==============================] - 0s 7ms/step - loss: 0.2857 - accuracy: 0.9560 - val_loss: 4.6486 - val_accuracy: 0.2513\n",
            "Epoch 94/100\n",
            "40/40 [==============================] - 0s 8ms/step - loss: 0.2628 - accuracy: 0.9660 - val_loss: 4.1492 - val_accuracy: 0.2965\n",
            "Epoch 95/100\n",
            "40/40 [==============================] - 0s 7ms/step - loss: 0.2427 - accuracy: 0.9736 - val_loss: 4.4179 - val_accuracy: 0.2161\n",
            "Epoch 96/100\n",
            "40/40 [==============================] - 0s 8ms/step - loss: 0.3152 - accuracy: 0.9421 - val_loss: 4.3553 - val_accuracy: 0.2663\n",
            "Epoch 97/100\n",
            "40/40 [==============================] - 0s 8ms/step - loss: 0.3053 - accuracy: 0.9484 - val_loss: 5.6864 - val_accuracy: 0.2060\n",
            "Epoch 98/100\n",
            "40/40 [==============================] - 0s 7ms/step - loss: 0.3235 - accuracy: 0.9333 - val_loss: 3.9006 - val_accuracy: 0.3015\n",
            "Epoch 99/100\n",
            "40/40 [==============================] - 0s 8ms/step - loss: 0.2223 - accuracy: 0.9849 - val_loss: 4.4003 - val_accuracy: 0.2714\n",
            "Epoch 100/100\n",
            "40/40 [==============================] - 0s 7ms/step - loss: 0.2587 - accuracy: 0.9585 - val_loss: 4.1446 - val_accuracy: 0.2965\n"
          ],
          "name": "stdout"
        }
      ]
    },
    {
      "cell_type": "markdown",
      "metadata": {
        "id": "SY_9Et_2zdMP"
      },
      "source": [
        "###See the accuracy"
      ]
    },
    {
      "cell_type": "code",
      "metadata": {
        "id": "yatR4lk0xAsP",
        "outputId": "7a840ee6-18f5-4e3e-ff5c-9e31d6e9420a",
        "colab": {
          "base_uri": "https://localhost:8080/",
          "height": 51
        }
      },
      "source": [
        "score5 = cnn5.evaluate(X_test, y_test_cat, verbose=0)\n",
        "print('Test loss:', score5[0])\n",
        "print('Test accuracy:', score5[1])"
      ],
      "execution_count": 196,
      "outputs": [
        {
          "output_type": "stream",
          "text": [
            "Test loss: 4.24015474319458\n",
            "Test accuracy: 0.23694778978824615\n"
          ],
          "name": "stdout"
        }
      ]
    },
    {
      "cell_type": "markdown",
      "metadata": {
        "id": "0MmFaDYcmCeM"
      },
      "source": [
        "It's very low, let's try some more layers and augument dataset."
      ]
    },
    {
      "cell_type": "markdown",
      "metadata": {
        "id": "FVse0IML9ogp"
      },
      "source": [
        "###See the prediction"
      ]
    },
    {
      "cell_type": "code",
      "metadata": {
        "id": "FQQUZU8A9rOJ"
      },
      "source": [
        "pred_test = cnn5.predict_classes(X_test, verbose=0)"
      ],
      "execution_count": 187,
      "outputs": []
    },
    {
      "cell_type": "markdown",
      "metadata": {
        "id": "dN3Beknl4RgU"
      },
      "source": [
        "###Plot the learning curve"
      ]
    },
    {
      "cell_type": "code",
      "metadata": {
        "id": "XsI63tkm2cYk",
        "outputId": "6b8d7e97-bb49-4d7b-8498-40dc7ef177c4",
        "colab": {
          "base_uri": "https://localhost:8080/",
          "height": 573
        }
      },
      "source": [
        "plt.plot(tr5.history['accuracy'])\n",
        "plt.plot(tr5.history['val_accuracy'])\n",
        "plt.title('model accuracy')\n",
        "plt.ylabel('accuracy')\n",
        "plt.xlabel('epoch')\n",
        "plt.legend(['train', 'validation'], loc='upper left')\n",
        "plt.show()\n",
        "\n",
        "# summarize history for loss\n",
        "plt.plot(tr5.history['loss'])\n",
        "plt.plot(tr5.history['val_loss'])\n",
        "plt.title('model loss')\n",
        "plt.ylabel('loss')\n",
        "plt.xlabel('epoch')\n",
        "plt.legend(['train', 'validation'], loc='upper left')\n",
        "plt.show()"
      ],
      "execution_count": 188,
      "outputs": [
        {
          "output_type": "display_data",
          "data": {
            "image/png": "[encoded data removed]",
            "text/plain": [
              "<Figure size 432x288 with 1 Axes>"
            ]
          },
          "metadata": {
            "tags": [],
            "needs_background": "light"
          }
        },
        {
          "output_type": "display_data",
          "data": {
            "image/png": "[encoded data removed]",
            "text/plain": [
              "<Figure size 432x288 with 1 Axes>"
            ]
          },
          "metadata": {
            "tags": [],
            "needs_background": "light"
          }
        }
      ]
    },
    {
      "cell_type": "code",
      "metadata": {
        "id": "LDcyEhYTj8KS"
      },
      "source": [
        "# Save the model as h5 file\n",
        "from tensorflow.keras.models import load_model\n",
        "cnn5.save('CNN5_Layers.h5')"
      ],
      "execution_count": 189,
      "outputs": []
    },
    {
      "cell_type": "markdown",
      "metadata": {
        "id": "8NhiwgJiBdDo"
      },
      "source": [
        "###Classification Report"
      ]
    },
    {
      "cell_type": "code",
      "metadata": {
        "id": "opoLflplB2jZ",
        "outputId": "5e619e73-603e-43d6-e91c-9c794bb9f745",
        "colab": {
          "base_uri": "https://localhost:8080/",
          "height": 224
        }
      },
      "source": [
        "from sklearn.metrics import classification_report\n",
        "#target_names = [\"Class {}\".format(i) for i in range(6)]\n",
        "print(classification_report(y_test, pred_test, target_names=class_name))"
      ],
      "execution_count": 190,
      "outputs": [
        {
          "output_type": "stream",
          "text": [
            "                  precision    recall  f1-score   support\n",
            "\n",
            "           No DR       0.18      0.13      0.16        52\n",
            "            Mild       0.35      0.36      0.35        42\n",
            "        Moderate       0.27      0.35      0.30        43\n",
            "          Severe       0.23      0.29      0.26        49\n",
            "Proliferative DR       0.35      0.29      0.31        63\n",
            "\n",
            "        accuracy                           0.28       249\n",
            "       macro avg       0.28      0.28      0.28       249\n",
            "    weighted avg       0.28      0.28      0.27       249\n",
            "\n"
          ],
          "name": "stdout"
        }
      ]
    },
    {
      "cell_type": "markdown",
      "metadata": {
        "id": "6qdYBMksTisG"
      },
      "source": [
        "###Confusion Matrix"
      ]
    },
    {
      "cell_type": "code",
      "metadata": {
        "id": "AvJSY2NUTnSb",
        "outputId": "2b72046a-0905-43f7-9965-86195cfe61e2",
        "colab": {
          "base_uri": "https://localhost:8080/",
          "height": 530
        }
      },
      "source": [
        "from sklearn.metrics import accuracy_score, confusion_matrix\n",
        "\n",
        "fig, ax = plt.subplots(figsize=(8,8)) \n",
        "mat = confusion_matrix(pred_test, y_test)\n",
        "sns.heatmap(mat.T, square=True, annot=True, fmt='d', cbar=False,\n",
        "            xticklabels=class_name,\n",
        "            yticklabels=class_name)\n",
        "plt.xlabel('Prediction')\n",
        "plt.ylabel('Actual');\n",
        "plt.title('Confusion Matrix')"
      ],
      "execution_count": 191,
      "outputs": [
        {
          "output_type": "execute_result",
          "data": {
            "text/plain": [
              "Text(0.5, 1.0, 'Confusion Matrix')"
            ]
          },
          "metadata": {
            "tags": []
          },
          "execution_count": 191
        },
        {
          "output_type": "display_data",
          "data": {
            "image/png": "[encoded data removed]",
            "text/plain": [
              "<Figure size 576x576 with 1 Axes>"
            ]
          },
          "metadata": {
            "tags": [],
            "needs_background": "light"
          }
        }
      ]
    },
    {
      "cell_type": "markdown",
      "metadata": {
        "id": "_5AewJhvzOAD"
      },
      "source": [
        "##Tuning hyperparameters with Keras Tuner"
      ]
    },
    {
      "cell_type": "code",
      "metadata": {
        "id": "XCvEuJA0E6oG",
        "outputId": "2c4ed32e-96d9-4291-fbdd-e148d44db68f",
        "colab": {
          "base_uri": "https://localhost:8080/",
          "height": 275
        }
      },
      "source": [
        "!pip install keras-tuner"
      ],
      "execution_count": 132,
      "outputs": [
        {
          "output_type": "stream",
          "text": [
            "Requirement already satisfied: keras-tuner in /usr/local/lib/python3.6/dist-packages (1.0.1)\n",
            "Requirement already satisfied: requests in /usr/local/lib/python3.6/dist-packages (from keras-tuner) (2.23.0)\n",
            "Requirement already satisfied: scipy in /usr/local/lib/python3.6/dist-packages (from keras-tuner) (1.4.1)\n",
            "Requirement already satisfied: tqdm in /usr/local/lib/python3.6/dist-packages (from keras-tuner) (4.41.1)\n",
            "Requirement already satisfied: colorama in /usr/local/lib/python3.6/dist-packages (from keras-tuner) (0.4.4)\n",
            "Requirement already satisfied: numpy in /usr/local/lib/python3.6/dist-packages (from keras-tuner) (1.18.5)\n",
            "Requirement already satisfied: tabulate in /usr/local/lib/python3.6/dist-packages (from keras-tuner) (0.8.7)\n",
            "Requirement already satisfied: future in /usr/local/lib/python3.6/dist-packages (from keras-tuner) (0.16.0)\n",
            "Requirement already satisfied: scikit-learn in /usr/local/lib/python3.6/dist-packages (from keras-tuner) (0.22.2.post1)\n",
            "Requirement already satisfied: terminaltables in /usr/local/lib/python3.6/dist-packages (from keras-tuner) (3.1.0)\n",
            "Requirement already satisfied: urllib3!=1.25.0,!=1.25.1,<1.26,>=1.21.1 in /usr/local/lib/python3.6/dist-packages (from requests->keras-tuner) (1.24.3)\n",
            "Requirement already satisfied: chardet<4,>=3.0.2 in /usr/local/lib/python3.6/dist-packages (from requests->keras-tuner) (3.0.4)\n",
            "Requirement already satisfied: certifi>=2017.4.17 in /usr/local/lib/python3.6/dist-packages (from requests->keras-tuner) (2020.6.20)\n",
            "Requirement already satisfied: idna<3,>=2.5 in /usr/local/lib/python3.6/dist-packages (from requests->keras-tuner) (2.10)\n",
            "Requirement already satisfied: joblib>=0.11 in /usr/local/lib/python3.6/dist-packages (from scikit-learn->keras-tuner) (0.16.0)\n"
          ],
          "name": "stdout"
        }
      ]
    },
    {
      "cell_type": "code",
      "metadata": {
        "id": "vvIeA6bF3vOj"
      },
      "source": [
        "import tensorflow as tf\n",
        "import kerastuner as kt"
      ],
      "execution_count": 227,
      "outputs": []
    },
    {
      "cell_type": "code",
      "metadata": {
        "id": "N25xp_rA3wto"
      },
      "source": [
        "def build_model(hp):\n",
        "  inputs = tf.keras.Input(shape=(128, 128, 3))\n",
        "  x = inputs\n",
        "  for i in range(hp.Int('conv_blocks', 3, 5, default=3)):\n",
        "    filters = hp.Int('filters_' + str(i), 32, 256, step=32)\n",
        "    for _ in range(2):\n",
        "      x = tf.keras.layers.Convolution2D(\n",
        "        filters, kernel_size=(3, 3), padding='same')(x)\n",
        "      x = tf.keras.layers.BatchNormalization()(x)\n",
        "      x = tf.keras.layers.ReLU()(x)\n",
        "    if hp.Choice('pooling_' + str(i), ['avg', 'max']) == 'max':\n",
        "      x = tf.keras.layers.MaxPool2D()(x)\n",
        "    else:\n",
        "      x = tf.keras.layers.AvgPool2D()(x)\n",
        "  x = tf.keras.layers.GlobalAvgPool2D()(x)\n",
        "  x = tf.keras.layers.Dense(\n",
        "      hp.Int('hidden_size', 30, 100, step=10, default=50),\n",
        "      activation='relu')(x)\n",
        "  x = tf.keras.layers.Dropout(\n",
        "      hp.Float('dropout', 0, 0.5, step=0.1, default=0.5))(x)\n",
        "  outputs = tf.keras.layers.Dense(5, activation='softmax')(x)\n",
        "\n",
        "  model = tf.keras.Model(inputs, outputs)\n",
        "  model.compile(\n",
        "    optimizer=tf.keras.optimizers.Adam(\n",
        "      hp.Float('learning_rate', 1e-4, 1e-2, sampling='log')),\n",
        "    loss='categorical_crossentropy', \n",
        "    metrics=['accuracy'])\n",
        "  return model"
      ],
      "execution_count": 228,
      "outputs": []
    },
    {
      "cell_type": "code",
      "metadata": {
        "id": "MxcNdFNCzOj4"
      },
      "source": [
        "tuner = kt.Hyperband(\n",
        "    build_model,\n",
        "    objective='val_accuracy',\n",
        "    max_epochs=20, \n",
        "    executions_per_trial=2,\n",
        "    directory='Test',\n",
        "    project_name='Diabetic_Retinopathy')"
      ],
      "execution_count": 240,
      "outputs": []
    },
    {
      "cell_type": "code",
      "metadata": {
        "id": "itsVrLewzhHm",
        "outputId": "5b3cf569-e48e-41db-b930-943a96c93c73",
        "colab": {
          "base_uri": "https://localhost:8080/",
          "height": 1000
        }
      },
      "source": [
        "tuner.search(X_train, y_train_cat,\n",
        "             validation_split=0.2,\n",
        "             batch_size=20,\n",
        "             epochs=10)"
      ],
      "execution_count": 241,
      "outputs": [
        {
          "output_type": "stream",
          "text": [
            "Epoch 1/3\n",
            "40/40 [==============================] - 1s 32ms/step - loss: 1.6419 - accuracy: 0.2038 - val_loss: 2.3339 - val_accuracy: 0.2412\n",
            "Epoch 2/3\n",
            "40/40 [==============================] - 1s 24ms/step - loss: 1.6077 - accuracy: 0.2340 - val_loss: 1.7760 - val_accuracy: 0.2462\n",
            "Epoch 3/3\n",
            "40/40 [==============================] - 1s 22ms/step - loss: 1.6069 - accuracy: 0.2403 - val_loss: 1.9418 - val_accuracy: 0.2462\n",
            "Epoch 1/3\n",
            "40/40 [==============================] - 1s 30ms/step - loss: 1.6297 - accuracy: 0.2164 - val_loss: 3.1522 - val_accuracy: 0.2613\n",
            "Epoch 2/3\n",
            "40/40 [==============================] - 1s 22ms/step - loss: 1.6143 - accuracy: 0.2377 - val_loss: 1.6528 - val_accuracy: 0.1558\n",
            "Epoch 3/3\n",
            "40/40 [==============================] - 1s 22ms/step - loss: 1.6168 - accuracy: 0.1975 - val_loss: 1.6248 - val_accuracy: 0.2462\n"
          ],
          "name": "stdout"
        },
        {
          "output_type": "display_data",
          "data": {
            "text/html": [
              "<span style=\"color:#4527A0\"><h1 style=\"font-size:18px\">Trial complete</h1></span>"
            ],
            "text/plain": [
              "<IPython.core.display.HTML object>"
            ]
          },
          "metadata": {
            "tags": []
          }
        },
        {
          "output_type": "display_data",
          "data": {
            "text/html": [
              "<span style=\"color:#4527A0\"><h1 style=\"font-size:18px\">Trial summary</h1></span>"
            ],
            "text/plain": [
              "<IPython.core.display.HTML object>"
            ]
          },
          "metadata": {
            "tags": []
          }
        },
        {
          "output_type": "display_data",
          "data": {
            "text/html": [
              "<span style=\"color:cyan\"> |-Trial ID: 69df99f32350dfb7195e4213d01f9080</span>"
            ],
            "text/plain": [
              "<IPython.core.display.HTML object>"
            ]
          },
          "metadata": {
            "tags": []
          }
        },
        {
          "output_type": "display_data",
          "data": {
            "text/html": [
              "<span style=\"color:cyan\"> |-Score: 0.25376883894205093</span>"
            ],
            "text/plain": [
              "<IPython.core.display.HTML object>"
            ]
          },
          "metadata": {
            "tags": []
          }
        },
        {
          "output_type": "display_data",
          "data": {
            "text/html": [
              "<span style=\"color:cyan\"> |-Best step: 0</span>"
            ],
            "text/plain": [
              "<IPython.core.display.HTML object>"
            ]
          },
          "metadata": {
            "tags": []
          }
        },
        {
          "output_type": "display_data",
          "data": {
            "text/html": [
              "<span style=\"color:#7E57C2\"><h2 style=\"font-size:16px\">Hyperparameters:</h2></span>"
            ],
            "text/plain": [
              "<IPython.core.display.HTML object>"
            ]
          },
          "metadata": {
            "tags": []
          }
        },
        {
          "output_type": "display_data",
          "data": {
            "text/html": [
              "<span style=\"color:cyan\"> |-conv_blocks: 4</span>"
            ],
            "text/plain": [
              "<IPython.core.display.HTML object>"
            ]
          },
          "metadata": {
            "tags": []
          }
        },
        {
          "output_type": "display_data",
          "data": {
            "text/html": [
              "<span style=\"color:blue\"> |-dropout: 0.1</span>"
            ],
            "text/plain": [
              "<IPython.core.display.HTML object>"
            ]
          },
          "metadata": {
            "tags": []
          }
        },
        {
          "output_type": "display_data",
          "data": {
            "text/html": [
              "<span style=\"color:cyan\"> |-filters_0: 64</span>"
            ],
            "text/plain": [
              "<IPython.core.display.HTML object>"
            ]
          },
          "metadata": {
            "tags": []
          }
        },
        {
          "output_type": "display_data",
          "data": {
            "text/html": [
              "<span style=\"color:blue\"> |-filters_1: 96</span>"
            ],
            "text/plain": [
              "<IPython.core.display.HTML object>"
            ]
          },
          "metadata": {
            "tags": []
          }
        },
        {
          "output_type": "display_data",
          "data": {
            "text/html": [
              "<span style=\"color:cyan\"> |-filters_2: 32</span>"
            ],
            "text/plain": [
              "<IPython.core.display.HTML object>"
            ]
          },
          "metadata": {
            "tags": []
          }
        },
        {
          "output_type": "display_data",
          "data": {
            "text/html": [
              "<span style=\"color:blue\"> |-filters_3: 32</span>"
            ],
            "text/plain": [
              "<IPython.core.display.HTML object>"
            ]
          },
          "metadata": {
            "tags": []
          }
        },
        {
          "output_type": "display_data",
          "data": {
            "text/html": [
              "<span style=\"color:cyan\"> |-hidden_size: 40</span>"
            ],
            "text/plain": [
              "<IPython.core.display.HTML object>"
            ]
          },
          "metadata": {
            "tags": []
          }
        },
        {
          "output_type": "display_data",
          "data": {
            "text/html": [
              "<span style=\"color:blue\"> |-learning_rate: 0.003706413051362313</span>"
            ],
            "text/plain": [
              "<IPython.core.display.HTML object>"
            ]
          },
          "metadata": {
            "tags": []
          }
        },
        {
          "output_type": "display_data",
          "data": {
            "text/html": [
              "<span style=\"color:cyan\"> |-pooling_0: avg</span>"
            ],
            "text/plain": [
              "<IPython.core.display.HTML object>"
            ]
          },
          "metadata": {
            "tags": []
          }
        },
        {
          "output_type": "display_data",
          "data": {
            "text/html": [
              "<span style=\"color:blue\"> |-pooling_1: max</span>"
            ],
            "text/plain": [
              "<IPython.core.display.HTML object>"
            ]
          },
          "metadata": {
            "tags": []
          }
        },
        {
          "output_type": "display_data",
          "data": {
            "text/html": [
              "<span style=\"color:cyan\"> |-pooling_2: max</span>"
            ],
            "text/plain": [
              "<IPython.core.display.HTML object>"
            ]
          },
          "metadata": {
            "tags": []
          }
        },
        {
          "output_type": "display_data",
          "data": {
            "text/html": [
              "<span style=\"color:blue\"> |-pooling_3: avg</span>"
            ],
            "text/plain": [
              "<IPython.core.display.HTML object>"
            ]
          },
          "metadata": {
            "tags": []
          }
        },
        {
          "output_type": "display_data",
          "data": {
            "text/html": [
              "<span style=\"color:cyan\"> |-tuner/bracket: 2</span>"
            ],
            "text/plain": [
              "<IPython.core.display.HTML object>"
            ]
          },
          "metadata": {
            "tags": []
          }
        },
        {
          "output_type": "display_data",
          "data": {
            "text/html": [
              "<span style=\"color:blue\"> |-tuner/epochs: 3</span>"
            ],
            "text/plain": [
              "<IPython.core.display.HTML object>"
            ]
          },
          "metadata": {
            "tags": []
          }
        },
        {
          "output_type": "display_data",
          "data": {
            "text/html": [
              "<span style=\"color:cyan\"> |-tuner/initial_epoch: 0</span>"
            ],
            "text/plain": [
              "<IPython.core.display.HTML object>"
            ]
          },
          "metadata": {
            "tags": []
          }
        },
        {
          "output_type": "display_data",
          "data": {
            "text/html": [
              "<span style=\"color:blue\"> |-tuner/round: 0</span>"
            ],
            "text/plain": [
              "<IPython.core.display.HTML object>"
            ]
          },
          "metadata": {
            "tags": []
          }
        },
        {
          "output_type": "stream",
          "text": [
            "Epoch 1/3\n",
            " 2/40 [>.............................] - ETA: 1s - loss: 1.6997 - accuracy: 0.2750WARNING:tensorflow:Callbacks method `on_train_batch_end` is slow compared to the batch time (batch time: 0.0232s vs `on_train_batch_end` time: 0.0357s). Check your callbacks.\n",
            "40/40 [==============================] - 3s 73ms/step - loss: 1.6741 - accuracy: 0.2038 - val_loss: 2.7342 - val_accuracy: 0.2462\n",
            "Epoch 2/3\n",
            "40/40 [==============================] - 2s 62ms/step - loss: 1.6156 - accuracy: 0.2038 - val_loss: 1.6157 - val_accuracy: 0.1558\n",
            "Epoch 3/3\n",
            "40/40 [==============================] - 2s 62ms/step - loss: 1.6144 - accuracy: 0.1987 - val_loss: 1.6146 - val_accuracy: 0.1658\n",
            "Epoch 1/3\n",
            " 2/40 [>.............................] - ETA: 1s - loss: 1.9142 - accuracy: 0.1250WARNING:tensorflow:Callbacks method `on_train_batch_end` is slow compared to the batch time (batch time: 0.0231s vs `on_train_batch_end` time: 0.0364s). Check your callbacks.\n",
            "40/40 [==============================] - 3s 67ms/step - loss: 1.6900 - accuracy: 0.2113 - val_loss: 2.5873 - val_accuracy: 0.1809\n",
            "Epoch 2/3\n",
            "40/40 [==============================] - 3s 63ms/step - loss: 1.6261 - accuracy: 0.2025 - val_loss: 1.6339 - val_accuracy: 0.2563\n",
            "Epoch 3/3\n",
            "40/40 [==============================] - 2s 61ms/step - loss: 1.6077 - accuracy: 0.2553 - val_loss: 1.6779 - val_accuracy: 0.2412\n"
          ],
          "name": "stdout"
        },
        {
          "output_type": "display_data",
          "data": {
            "text/html": [
              "<span style=\"color:#4527A0\"><h1 style=\"font-size:18px\">Trial complete</h1></span>"
            ],
            "text/plain": [
              "<IPython.core.display.HTML object>"
            ]
          },
          "metadata": {
            "tags": []
          }
        },
        {
          "output_type": "display_data",
          "data": {
            "text/html": [
              "<span style=\"color:#4527A0\"><h1 style=\"font-size:18px\">Trial summary</h1></span>"
            ],
            "text/plain": [
              "<IPython.core.display.HTML object>"
            ]
          },
          "metadata": {
            "tags": []
          }
        },
        {
          "output_type": "display_data",
          "data": {
            "text/html": [
              "<span style=\"color:cyan\"> |-Trial ID: ab24cf628794dc4d76537991500f4faa</span>"
            ],
            "text/plain": [
              "<IPython.core.display.HTML object>"
            ]
          },
          "metadata": {
            "tags": []
          }
        },
        {
          "output_type": "display_data",
          "data": {
            "text/html": [
              "<span style=\"color:cyan\"> |-Score: 0.2512562796473503</span>"
            ],
            "text/plain": [
              "<IPython.core.display.HTML object>"
            ]
          },
          "metadata": {
            "tags": []
          }
        },
        {
          "output_type": "display_data",
          "data": {
            "text/html": [
              "<span style=\"color:cyan\"> |-Best step: 0</span>"
            ],
            "text/plain": [
              "<IPython.core.display.HTML object>"
            ]
          },
          "metadata": {
            "tags": []
          }
        },
        {
          "output_type": "display_data",
          "data": {
            "text/html": [
              "<span style=\"color:#7E57C2\"><h2 style=\"font-size:16px\">Hyperparameters:</h2></span>"
            ],
            "text/plain": [
              "<IPython.core.display.HTML object>"
            ]
          },
          "metadata": {
            "tags": []
          }
        },
        {
          "output_type": "display_data",
          "data": {
            "text/html": [
              "<span style=\"color:cyan\"> |-conv_blocks: 3</span>"
            ],
            "text/plain": [
              "<IPython.core.display.HTML object>"
            ]
          },
          "metadata": {
            "tags": []
          }
        },
        {
          "output_type": "display_data",
          "data": {
            "text/html": [
              "<span style=\"color:blue\"> |-dropout: 0.30000000000000004</span>"
            ],
            "text/plain": [
              "<IPython.core.display.HTML object>"
            ]
          },
          "metadata": {
            "tags": []
          }
        },
        {
          "output_type": "display_data",
          "data": {
            "text/html": [
              "<span style=\"color:cyan\"> |-filters_0: 160</span>"
            ],
            "text/plain": [
              "<IPython.core.display.HTML object>"
            ]
          },
          "metadata": {
            "tags": []
          }
        },
        {
          "output_type": "display_data",
          "data": {
            "text/html": [
              "<span style=\"color:blue\"> |-filters_1: 224</span>"
            ],
            "text/plain": [
              "<IPython.core.display.HTML object>"
            ]
          },
          "metadata": {
            "tags": []
          }
        },
        {
          "output_type": "display_data",
          "data": {
            "text/html": [
              "<span style=\"color:cyan\"> |-filters_2: 128</span>"
            ],
            "text/plain": [
              "<IPython.core.display.HTML object>"
            ]
          },
          "metadata": {
            "tags": []
          }
        },
        {
          "output_type": "display_data",
          "data": {
            "text/html": [
              "<span style=\"color:blue\"> |-filters_3: 256</span>"
            ],
            "text/plain": [
              "<IPython.core.display.HTML object>"
            ]
          },
          "metadata": {
            "tags": []
          }
        },
        {
          "output_type": "display_data",
          "data": {
            "text/html": [
              "<span style=\"color:cyan\"> |-hidden_size: 40</span>"
            ],
            "text/plain": [
              "<IPython.core.display.HTML object>"
            ]
          },
          "metadata": {
            "tags": []
          }
        },
        {
          "output_type": "display_data",
          "data": {
            "text/html": [
              "<span style=\"color:blue\"> |-learning_rate: 0.0027934251642032933</span>"
            ],
            "text/plain": [
              "<IPython.core.display.HTML object>"
            ]
          },
          "metadata": {
            "tags": []
          }
        },
        {
          "output_type": "display_data",
          "data": {
            "text/html": [
              "<span style=\"color:cyan\"> |-pooling_0: avg</span>"
            ],
            "text/plain": [
              "<IPython.core.display.HTML object>"
            ]
          },
          "metadata": {
            "tags": []
          }
        },
        {
          "output_type": "display_data",
          "data": {
            "text/html": [
              "<span style=\"color:blue\"> |-pooling_1: avg</span>"
            ],
            "text/plain": [
              "<IPython.core.display.HTML object>"
            ]
          },
          "metadata": {
            "tags": []
          }
        },
        {
          "output_type": "display_data",
          "data": {
            "text/html": [
              "<span style=\"color:cyan\"> |-pooling_2: avg</span>"
            ],
            "text/plain": [
              "<IPython.core.display.HTML object>"
            ]
          },
          "metadata": {
            "tags": []
          }
        },
        {
          "output_type": "display_data",
          "data": {
            "text/html": [
              "<span style=\"color:blue\"> |-pooling_3: max</span>"
            ],
            "text/plain": [
              "<IPython.core.display.HTML object>"
            ]
          },
          "metadata": {
            "tags": []
          }
        },
        {
          "output_type": "display_data",
          "data": {
            "text/html": [
              "<span style=\"color:cyan\"> |-tuner/bracket: 2</span>"
            ],
            "text/plain": [
              "<IPython.core.display.HTML object>"
            ]
          },
          "metadata": {
            "tags": []
          }
        },
        {
          "output_type": "display_data",
          "data": {
            "text/html": [
              "<span style=\"color:blue\"> |-tuner/epochs: 3</span>"
            ],
            "text/plain": [
              "<IPython.core.display.HTML object>"
            ]
          },
          "metadata": {
            "tags": []
          }
        },
        {
          "output_type": "display_data",
          "data": {
            "text/html": [
              "<span style=\"color:cyan\"> |-tuner/initial_epoch: 0</span>"
            ],
            "text/plain": [
              "<IPython.core.display.HTML object>"
            ]
          },
          "metadata": {
            "tags": []
          }
        },
        {
          "output_type": "display_data",
          "data": {
            "text/html": [
              "<span style=\"color:blue\"> |-tuner/round: 0</span>"
            ],
            "text/plain": [
              "<IPython.core.display.HTML object>"
            ]
          },
          "metadata": {
            "tags": []
          }
        },
        {
          "output_type": "stream",
          "text": [
            "Epoch 1/3\n",
            "40/40 [==============================] - 2s 47ms/step - loss: 1.6383 - accuracy: 0.1849 - val_loss: 19.1783 - val_accuracy: 0.1809\n",
            "Epoch 2/3\n",
            "40/40 [==============================] - 2s 39ms/step - loss: 1.6196 - accuracy: 0.2113 - val_loss: 4.3180 - val_accuracy: 0.2462\n",
            "Epoch 3/3\n",
            "40/40 [==============================] - 1s 36ms/step - loss: 1.6077 - accuracy: 0.2214 - val_loss: 3.3168 - val_accuracy: 0.2462\n",
            "Epoch 1/3\n",
            "40/40 [==============================] - 2s 42ms/step - loss: 1.6365 - accuracy: 0.1975 - val_loss: 5.7198 - val_accuracy: 0.2462\n",
            "Epoch 2/3\n",
            "40/40 [==============================] - 1s 37ms/step - loss: 1.6188 - accuracy: 0.1899 - val_loss: 1.8609 - val_accuracy: 0.2312\n",
            "Epoch 3/3\n",
            "40/40 [==============================] - 1s 37ms/step - loss: 1.6143 - accuracy: 0.2126 - val_loss: 1.6712 - val_accuracy: 0.1508\n"
          ],
          "name": "stdout"
        },
        {
          "output_type": "display_data",
          "data": {
            "text/html": [
              "<span style=\"color:#4527A0\"><h1 style=\"font-size:18px\">Trial complete</h1></span>"
            ],
            "text/plain": [
              "<IPython.core.display.HTML object>"
            ]
          },
          "metadata": {
            "tags": []
          }
        },
        {
          "output_type": "display_data",
          "data": {
            "text/html": [
              "<span style=\"color:#4527A0\"><h1 style=\"font-size:18px\">Trial summary</h1></span>"
            ],
            "text/plain": [
              "<IPython.core.display.HTML object>"
            ]
          },
          "metadata": {
            "tags": []
          }
        },
        {
          "output_type": "display_data",
          "data": {
            "text/html": [
              "<span style=\"color:cyan\"> |-Trial ID: 7d7621183019b2dc7d395ca1654e986e</span>"
            ],
            "text/plain": [
              "<IPython.core.display.HTML object>"
            ]
          },
          "metadata": {
            "tags": []
          }
        },
        {
          "output_type": "display_data",
          "data": {
            "text/html": [
              "<span style=\"color:cyan\"> |-Score: 0.24623115360736847</span>"
            ],
            "text/plain": [
              "<IPython.core.display.HTML object>"
            ]
          },
          "metadata": {
            "tags": []
          }
        },
        {
          "output_type": "display_data",
          "data": {
            "text/html": [
              "<span style=\"color:cyan\"> |-Best step: 0</span>"
            ],
            "text/plain": [
              "<IPython.core.display.HTML object>"
            ]
          },
          "metadata": {
            "tags": []
          }
        },
        {
          "output_type": "display_data",
          "data": {
            "text/html": [
              "<span style=\"color:#7E57C2\"><h2 style=\"font-size:16px\">Hyperparameters:</h2></span>"
            ],
            "text/plain": [
              "<IPython.core.display.HTML object>"
            ]
          },
          "metadata": {
            "tags": []
          }
        },
        {
          "output_type": "display_data",
          "data": {
            "text/html": [
              "<span style=\"color:cyan\"> |-conv_blocks: 5</span>"
            ],
            "text/plain": [
              "<IPython.core.display.HTML object>"
            ]
          },
          "metadata": {
            "tags": []
          }
        },
        {
          "output_type": "display_data",
          "data": {
            "text/html": [
              "<span style=\"color:blue\"> |-dropout: 0.0</span>"
            ],
            "text/plain": [
              "<IPython.core.display.HTML object>"
            ]
          },
          "metadata": {
            "tags": []
          }
        },
        {
          "output_type": "display_data",
          "data": {
            "text/html": [
              "<span style=\"color:cyan\"> |-filters_0: 32</span>"
            ],
            "text/plain": [
              "<IPython.core.display.HTML object>"
            ]
          },
          "metadata": {
            "tags": []
          }
        },
        {
          "output_type": "display_data",
          "data": {
            "text/html": [
              "<span style=\"color:blue\"> |-filters_1: 256</span>"
            ],
            "text/plain": [
              "<IPython.core.display.HTML object>"
            ]
          },
          "metadata": {
            "tags": []
          }
        },
        {
          "output_type": "display_data",
          "data": {
            "text/html": [
              "<span style=\"color:cyan\"> |-filters_2: 256</span>"
            ],
            "text/plain": [
              "<IPython.core.display.HTML object>"
            ]
          },
          "metadata": {
            "tags": []
          }
        },
        {
          "output_type": "display_data",
          "data": {
            "text/html": [
              "<span style=\"color:blue\"> |-filters_3: 160</span>"
            ],
            "text/plain": [
              "<IPython.core.display.HTML object>"
            ]
          },
          "metadata": {
            "tags": []
          }
        },
        {
          "output_type": "display_data",
          "data": {
            "text/html": [
              "<span style=\"color:cyan\"> |-filters_4: 32</span>"
            ],
            "text/plain": [
              "<IPython.core.display.HTML object>"
            ]
          },
          "metadata": {
            "tags": []
          }
        },
        {
          "output_type": "display_data",
          "data": {
            "text/html": [
              "<span style=\"color:blue\"> |-hidden_size: 40</span>"
            ],
            "text/plain": [
              "<IPython.core.display.HTML object>"
            ]
          },
          "metadata": {
            "tags": []
          }
        },
        {
          "output_type": "display_data",
          "data": {
            "text/html": [
              "<span style=\"color:cyan\"> |-learning_rate: 0.0028410712033130328</span>"
            ],
            "text/plain": [
              "<IPython.core.display.HTML object>"
            ]
          },
          "metadata": {
            "tags": []
          }
        },
        {
          "output_type": "display_data",
          "data": {
            "text/html": [
              "<span style=\"color:blue\"> |-pooling_0: max</span>"
            ],
            "text/plain": [
              "<IPython.core.display.HTML object>"
            ]
          },
          "metadata": {
            "tags": []
          }
        },
        {
          "output_type": "display_data",
          "data": {
            "text/html": [
              "<span style=\"color:cyan\"> |-pooling_1: avg</span>"
            ],
            "text/plain": [
              "<IPython.core.display.HTML object>"
            ]
          },
          "metadata": {
            "tags": []
          }
        },
        {
          "output_type": "display_data",
          "data": {
            "text/html": [
              "<span style=\"color:blue\"> |-pooling_2: max</span>"
            ],
            "text/plain": [
              "<IPython.core.display.HTML object>"
            ]
          },
          "metadata": {
            "tags": []
          }
        },
        {
          "output_type": "display_data",
          "data": {
            "text/html": [
              "<span style=\"color:cyan\"> |-pooling_3: avg</span>"
            ],
            "text/plain": [
              "<IPython.core.display.HTML object>"
            ]
          },
          "metadata": {
            "tags": []
          }
        },
        {
          "output_type": "display_data",
          "data": {
            "text/html": [
              "<span style=\"color:blue\"> |-pooling_4: avg</span>"
            ],
            "text/plain": [
              "<IPython.core.display.HTML object>"
            ]
          },
          "metadata": {
            "tags": []
          }
        },
        {
          "output_type": "display_data",
          "data": {
            "text/html": [
              "<span style=\"color:cyan\"> |-tuner/bracket: 2</span>"
            ],
            "text/plain": [
              "<IPython.core.display.HTML object>"
            ]
          },
          "metadata": {
            "tags": []
          }
        },
        {
          "output_type": "display_data",
          "data": {
            "text/html": [
              "<span style=\"color:blue\"> |-tuner/epochs: 3</span>"
            ],
            "text/plain": [
              "<IPython.core.display.HTML object>"
            ]
          },
          "metadata": {
            "tags": []
          }
        },
        {
          "output_type": "display_data",
          "data": {
            "text/html": [
              "<span style=\"color:cyan\"> |-tuner/initial_epoch: 0</span>"
            ],
            "text/plain": [
              "<IPython.core.display.HTML object>"
            ]
          },
          "metadata": {
            "tags": []
          }
        },
        {
          "output_type": "display_data",
          "data": {
            "text/html": [
              "<span style=\"color:blue\"> |-tuner/round: 0</span>"
            ],
            "text/plain": [
              "<IPython.core.display.HTML object>"
            ]
          },
          "metadata": {
            "tags": []
          }
        },
        {
          "output_type": "stream",
          "text": [
            "Epoch 1/3\n",
            "40/40 [==============================] - 3s 87ms/step - loss: 1.7274 - accuracy: 0.2063 - val_loss: 1.6172 - val_accuracy: 0.1608\n",
            "Epoch 2/3\n",
            "40/40 [==============================] - 3s 76ms/step - loss: 1.6740 - accuracy: 0.2113 - val_loss: 1.6534 - val_accuracy: 0.1709\n",
            "Epoch 3/3\n",
            "40/40 [==============================] - 3s 74ms/step - loss: 1.6517 - accuracy: 0.1987 - val_loss: 1.7290 - val_accuracy: 0.1709\n",
            "Epoch 1/3\n",
            " 2/40 [>.............................] - ETA: 1s - loss: 1.8369 - accuracy: 0.1250WARNING:tensorflow:Callbacks method `on_train_batch_end` is slow compared to the batch time (batch time: 0.0277s vs `on_train_batch_end` time: 0.0416s). Check your callbacks.\n",
            "40/40 [==============================] - 3s 79ms/step - loss: 1.7552 - accuracy: 0.1849 - val_loss: 1.6209 - val_accuracy: 0.1709\n",
            "Epoch 2/3\n",
            "40/40 [==============================] - 3s 73ms/step - loss: 1.6492 - accuracy: 0.2314 - val_loss: 1.6244 - val_accuracy: 0.1709\n",
            "Epoch 3/3\n",
            "40/40 [==============================] - 3s 76ms/step - loss: 1.6441 - accuracy: 0.2289 - val_loss: 1.6708 - val_accuracy: 0.1759\n"
          ],
          "name": "stdout"
        },
        {
          "output_type": "display_data",
          "data": {
            "text/html": [
              "<span style=\"color:#4527A0\"><h1 style=\"font-size:18px\">Trial complete</h1></span>"
            ],
            "text/plain": [
              "<IPython.core.display.HTML object>"
            ]
          },
          "metadata": {
            "tags": []
          }
        },
        {
          "output_type": "display_data",
          "data": {
            "text/html": [
              "<span style=\"color:#4527A0\"><h1 style=\"font-size:18px\">Trial summary</h1></span>"
            ],
            "text/plain": [
              "<IPython.core.display.HTML object>"
            ]
          },
          "metadata": {
            "tags": []
          }
        },
        {
          "output_type": "display_data",
          "data": {
            "text/html": [
              "<span style=\"color:cyan\"> |-Trial ID: f702c8f051cb8d3fbe3d4b61cdd797b9</span>"
            ],
            "text/plain": [
              "<IPython.core.display.HTML object>"
            ]
          },
          "metadata": {
            "tags": []
          }
        },
        {
          "output_type": "display_data",
          "data": {
            "text/html": [
              "<span style=\"color:cyan\"> |-Score: 0.17336683720350266</span>"
            ],
            "text/plain": [
              "<IPython.core.display.HTML object>"
            ]
          },
          "metadata": {
            "tags": []
          }
        },
        {
          "output_type": "display_data",
          "data": {
            "text/html": [
              "<span style=\"color:cyan\"> |-Best step: 0</span>"
            ],
            "text/plain": [
              "<IPython.core.display.HTML object>"
            ]
          },
          "metadata": {
            "tags": []
          }
        },
        {
          "output_type": "display_data",
          "data": {
            "text/html": [
              "<span style=\"color:#7E57C2\"><h2 style=\"font-size:16px\">Hyperparameters:</h2></span>"
            ],
            "text/plain": [
              "<IPython.core.display.HTML object>"
            ]
          },
          "metadata": {
            "tags": []
          }
        },
        {
          "output_type": "display_data",
          "data": {
            "text/html": [
              "<span style=\"color:cyan\"> |-conv_blocks: 4</span>"
            ],
            "text/plain": [
              "<IPython.core.display.HTML object>"
            ]
          },
          "metadata": {
            "tags": []
          }
        },
        {
          "output_type": "display_data",
          "data": {
            "text/html": [
              "<span style=\"color:blue\"> |-dropout: 0.4</span>"
            ],
            "text/plain": [
              "<IPython.core.display.HTML object>"
            ]
          },
          "metadata": {
            "tags": []
          }
        },
        {
          "output_type": "display_data",
          "data": {
            "text/html": [
              "<span style=\"color:cyan\"> |-filters_0: 224</span>"
            ],
            "text/plain": [
              "<IPython.core.display.HTML object>"
            ]
          },
          "metadata": {
            "tags": []
          }
        },
        {
          "output_type": "display_data",
          "data": {
            "text/html": [
              "<span style=\"color:blue\"> |-filters_1: 160</span>"
            ],
            "text/plain": [
              "<IPython.core.display.HTML object>"
            ]
          },
          "metadata": {
            "tags": []
          }
        },
        {
          "output_type": "display_data",
          "data": {
            "text/html": [
              "<span style=\"color:cyan\"> |-filters_2: 64</span>"
            ],
            "text/plain": [
              "<IPython.core.display.HTML object>"
            ]
          },
          "metadata": {
            "tags": []
          }
        },
        {
          "output_type": "display_data",
          "data": {
            "text/html": [
              "<span style=\"color:blue\"> |-filters_3: 192</span>"
            ],
            "text/plain": [
              "<IPython.core.display.HTML object>"
            ]
          },
          "metadata": {
            "tags": []
          }
        },
        {
          "output_type": "display_data",
          "data": {
            "text/html": [
              "<span style=\"color:cyan\"> |-filters_4: 64</span>"
            ],
            "text/plain": [
              "<IPython.core.display.HTML object>"
            ]
          },
          "metadata": {
            "tags": []
          }
        },
        {
          "output_type": "display_data",
          "data": {
            "text/html": [
              "<span style=\"color:blue\"> |-hidden_size: 70</span>"
            ],
            "text/plain": [
              "<IPython.core.display.HTML object>"
            ]
          },
          "metadata": {
            "tags": []
          }
        },
        {
          "output_type": "display_data",
          "data": {
            "text/html": [
              "<span style=\"color:cyan\"> |-learning_rate: 0.00026730928073582014</span>"
            ],
            "text/plain": [
              "<IPython.core.display.HTML object>"
            ]
          },
          "metadata": {
            "tags": []
          }
        },
        {
          "output_type": "display_data",
          "data": {
            "text/html": [
              "<span style=\"color:blue\"> |-pooling_0: avg</span>"
            ],
            "text/plain": [
              "<IPython.core.display.HTML object>"
            ]
          },
          "metadata": {
            "tags": []
          }
        },
        {
          "output_type": "display_data",
          "data": {
            "text/html": [
              "<span style=\"color:cyan\"> |-pooling_1: avg</span>"
            ],
            "text/plain": [
              "<IPython.core.display.HTML object>"
            ]
          },
          "metadata": {
            "tags": []
          }
        },
        {
          "output_type": "display_data",
          "data": {
            "text/html": [
              "<span style=\"color:blue\"> |-pooling_2: avg</span>"
            ],
            "text/plain": [
              "<IPython.core.display.HTML object>"
            ]
          },
          "metadata": {
            "tags": []
          }
        },
        {
          "output_type": "display_data",
          "data": {
            "text/html": [
              "<span style=\"color:cyan\"> |-pooling_3: avg</span>"
            ],
            "text/plain": [
              "<IPython.core.display.HTML object>"
            ]
          },
          "metadata": {
            "tags": []
          }
        },
        {
          "output_type": "display_data",
          "data": {
            "text/html": [
              "<span style=\"color:blue\"> |-pooling_4: avg</span>"
            ],
            "text/plain": [
              "<IPython.core.display.HTML object>"
            ]
          },
          "metadata": {
            "tags": []
          }
        },
        {
          "output_type": "display_data",
          "data": {
            "text/html": [
              "<span style=\"color:cyan\"> |-tuner/bracket: 2</span>"
            ],
            "text/plain": [
              "<IPython.core.display.HTML object>"
            ]
          },
          "metadata": {
            "tags": []
          }
        },
        {
          "output_type": "display_data",
          "data": {
            "text/html": [
              "<span style=\"color:blue\"> |-tuner/epochs: 3</span>"
            ],
            "text/plain": [
              "<IPython.core.display.HTML object>"
            ]
          },
          "metadata": {
            "tags": []
          }
        },
        {
          "output_type": "display_data",
          "data": {
            "text/html": [
              "<span style=\"color:cyan\"> |-tuner/initial_epoch: 0</span>"
            ],
            "text/plain": [
              "<IPython.core.display.HTML object>"
            ]
          },
          "metadata": {
            "tags": []
          }
        },
        {
          "output_type": "display_data",
          "data": {
            "text/html": [
              "<span style=\"color:blue\"> |-tuner/round: 0</span>"
            ],
            "text/plain": [
              "<IPython.core.display.HTML object>"
            ]
          },
          "metadata": {
            "tags": []
          }
        },
        {
          "output_type": "stream",
          "text": [
            "Epoch 1/3\n",
            "40/40 [==============================] - 2s 44ms/step - loss: 1.7062 - accuracy: 0.2088 - val_loss: 2.1338 - val_accuracy: 0.2462\n",
            "Epoch 2/3\n",
            "40/40 [==============================] - 1s 32ms/step - loss: 1.6435 - accuracy: 0.2151 - val_loss: 4.2506 - val_accuracy: 0.2462\n",
            "Epoch 3/3\n",
            "40/40 [==============================] - 1s 32ms/step - loss: 1.6374 - accuracy: 0.2088 - val_loss: 2.1462 - val_accuracy: 0.1709\n",
            "Epoch 1/3\n",
            "40/40 [==============================] - 2s 41ms/step - loss: 1.7046 - accuracy: 0.2038 - val_loss: 1.6237 - val_accuracy: 0.2864\n",
            "Epoch 2/3\n",
            "40/40 [==============================] - 1s 32ms/step - loss: 1.6442 - accuracy: 0.2289 - val_loss: 1.7943 - val_accuracy: 0.2462\n",
            "Epoch 3/3\n",
            "40/40 [==============================] - 1s 32ms/step - loss: 1.6223 - accuracy: 0.2189 - val_loss: 1.7964 - val_accuracy: 0.2462\n"
          ],
          "name": "stdout"
        },
        {
          "output_type": "display_data",
          "data": {
            "text/html": [
              "<span style=\"color:#4527A0\"><h1 style=\"font-size:18px\">Trial complete</h1></span>"
            ],
            "text/plain": [
              "<IPython.core.display.HTML object>"
            ]
          },
          "metadata": {
            "tags": []
          }
        },
        {
          "output_type": "display_data",
          "data": {
            "text/html": [
              "<span style=\"color:#4527A0\"><h1 style=\"font-size:18px\">Trial summary</h1></span>"
            ],
            "text/plain": [
              "<IPython.core.display.HTML object>"
            ]
          },
          "metadata": {
            "tags": []
          }
        },
        {
          "output_type": "display_data",
          "data": {
            "text/html": [
              "<span style=\"color:cyan\"> |-Trial ID: 7e70920df72c1159256fc5891f90e2c2</span>"
            ],
            "text/plain": [
              "<IPython.core.display.HTML object>"
            ]
          },
          "metadata": {
            "tags": []
          }
        },
        {
          "output_type": "display_data",
          "data": {
            "text/html": [
              "<span style=\"color:cyan\"> |-Score: 0.26633165031671524</span>"
            ],
            "text/plain": [
              "<IPython.core.display.HTML object>"
            ]
          },
          "metadata": {
            "tags": []
          }
        },
        {
          "output_type": "display_data",
          "data": {
            "text/html": [
              "<span style=\"color:cyan\"> |-Best step: 0</span>"
            ],
            "text/plain": [
              "<IPython.core.display.HTML object>"
            ]
          },
          "metadata": {
            "tags": []
          }
        },
        {
          "output_type": "display_data",
          "data": {
            "text/html": [
              "<span style=\"color:#7E57C2\"><h2 style=\"font-size:16px\">Hyperparameters:</h2></span>"
            ],
            "text/plain": [
              "<IPython.core.display.HTML object>"
            ]
          },
          "metadata": {
            "tags": []
          }
        },
        {
          "output_type": "display_data",
          "data": {
            "text/html": [
              "<span style=\"color:cyan\"> |-conv_blocks: 5</span>"
            ],
            "text/plain": [
              "<IPython.core.display.HTML object>"
            ]
          },
          "metadata": {
            "tags": []
          }
        },
        {
          "output_type": "display_data",
          "data": {
            "text/html": [
              "<span style=\"color:blue\"> |-dropout: 0.1</span>"
            ],
            "text/plain": [
              "<IPython.core.display.HTML object>"
            ]
          },
          "metadata": {
            "tags": []
          }
        },
        {
          "output_type": "display_data",
          "data": {
            "text/html": [
              "<span style=\"color:cyan\"> |-filters_0: 96</span>"
            ],
            "text/plain": [
              "<IPython.core.display.HTML object>"
            ]
          },
          "metadata": {
            "tags": []
          }
        },
        {
          "output_type": "display_data",
          "data": {
            "text/html": [
              "<span style=\"color:blue\"> |-filters_1: 64</span>"
            ],
            "text/plain": [
              "<IPython.core.display.HTML object>"
            ]
          },
          "metadata": {
            "tags": []
          }
        },
        {
          "output_type": "display_data",
          "data": {
            "text/html": [
              "<span style=\"color:cyan\"> |-filters_2: 192</span>"
            ],
            "text/plain": [
              "<IPython.core.display.HTML object>"
            ]
          },
          "metadata": {
            "tags": []
          }
        },
        {
          "output_type": "display_data",
          "data": {
            "text/html": [
              "<span style=\"color:blue\"> |-filters_3: 32</span>"
            ],
            "text/plain": [
              "<IPython.core.display.HTML object>"
            ]
          },
          "metadata": {
            "tags": []
          }
        },
        {
          "output_type": "display_data",
          "data": {
            "text/html": [
              "<span style=\"color:cyan\"> |-filters_4: 96</span>"
            ],
            "text/plain": [
              "<IPython.core.display.HTML object>"
            ]
          },
          "metadata": {
            "tags": []
          }
        },
        {
          "output_type": "display_data",
          "data": {
            "text/html": [
              "<span style=\"color:blue\"> |-hidden_size: 90</span>"
            ],
            "text/plain": [
              "<IPython.core.display.HTML object>"
            ]
          },
          "metadata": {
            "tags": []
          }
        },
        {
          "output_type": "display_data",
          "data": {
            "text/html": [
              "<span style=\"color:cyan\"> |-learning_rate: 0.0012616129268124873</span>"
            ],
            "text/plain": [
              "<IPython.core.display.HTML object>"
            ]
          },
          "metadata": {
            "tags": []
          }
        },
        {
          "output_type": "display_data",
          "data": {
            "text/html": [
              "<span style=\"color:blue\"> |-pooling_0: max</span>"
            ],
            "text/plain": [
              "<IPython.core.display.HTML object>"
            ]
          },
          "metadata": {
            "tags": []
          }
        },
        {
          "output_type": "display_data",
          "data": {
            "text/html": [
              "<span style=\"color:cyan\"> |-pooling_1: avg</span>"
            ],
            "text/plain": [
              "<IPython.core.display.HTML object>"
            ]
          },
          "metadata": {
            "tags": []
          }
        },
        {
          "output_type": "display_data",
          "data": {
            "text/html": [
              "<span style=\"color:blue\"> |-pooling_2: avg</span>"
            ],
            "text/plain": [
              "<IPython.core.display.HTML object>"
            ]
          },
          "metadata": {
            "tags": []
          }
        },
        {
          "output_type": "display_data",
          "data": {
            "text/html": [
              "<span style=\"color:cyan\"> |-pooling_3: avg</span>"
            ],
            "text/plain": [
              "<IPython.core.display.HTML object>"
            ]
          },
          "metadata": {
            "tags": []
          }
        },
        {
          "output_type": "display_data",
          "data": {
            "text/html": [
              "<span style=\"color:blue\"> |-pooling_4: max</span>"
            ],
            "text/plain": [
              "<IPython.core.display.HTML object>"
            ]
          },
          "metadata": {
            "tags": []
          }
        },
        {
          "output_type": "display_data",
          "data": {
            "text/html": [
              "<span style=\"color:cyan\"> |-tuner/bracket: 2</span>"
            ],
            "text/plain": [
              "<IPython.core.display.HTML object>"
            ]
          },
          "metadata": {
            "tags": []
          }
        },
        {
          "output_type": "display_data",
          "data": {
            "text/html": [
              "<span style=\"color:blue\"> |-tuner/epochs: 3</span>"
            ],
            "text/plain": [
              "<IPython.core.display.HTML object>"
            ]
          },
          "metadata": {
            "tags": []
          }
        },
        {
          "output_type": "display_data",
          "data": {
            "text/html": [
              "<span style=\"color:cyan\"> |-tuner/initial_epoch: 0</span>"
            ],
            "text/plain": [
              "<IPython.core.display.HTML object>"
            ]
          },
          "metadata": {
            "tags": []
          }
        },
        {
          "output_type": "display_data",
          "data": {
            "text/html": [
              "<span style=\"color:blue\"> |-tuner/round: 0</span>"
            ],
            "text/plain": [
              "<IPython.core.display.HTML object>"
            ]
          },
          "metadata": {
            "tags": []
          }
        },
        {
          "output_type": "stream",
          "text": [
            "Epoch 1/3\n",
            " 2/40 [>.............................] - ETA: 1s - loss: 1.6442 - accuracy: 0.2500WARNING:tensorflow:Callbacks method `on_train_batch_end` is slow compared to the batch time (batch time: 0.0215s vs `on_train_batch_end` time: 0.0329s). Check your callbacks.\n",
            "40/40 [==============================] - 3s 66ms/step - loss: 1.6545 - accuracy: 0.2088 - val_loss: 1.6257 - val_accuracy: 0.2462\n",
            "Epoch 2/3\n",
            "40/40 [==============================] - 2s 58ms/step - loss: 1.6259 - accuracy: 0.2264 - val_loss: 1.6542 - val_accuracy: 0.1558\n",
            "Epoch 3/3\n",
            "40/40 [==============================] - 2s 58ms/step - loss: 1.6059 - accuracy: 0.2277 - val_loss: 1.7392 - val_accuracy: 0.1558\n",
            "Epoch 1/3\n",
            " 2/40 [>.............................] - ETA: 1s - loss: 1.7395 - accuracy: 0.1000WARNING:tensorflow:Callbacks method `on_train_batch_end` is slow compared to the batch time (batch time: 0.0210s vs `on_train_batch_end` time: 0.0332s). Check your callbacks.\n",
            "40/40 [==============================] - 3s 63ms/step - loss: 1.6639 - accuracy: 0.2164 - val_loss: 1.6293 - val_accuracy: 0.2412\n",
            "Epoch 2/3\n",
            "40/40 [==============================] - 2s 58ms/step - loss: 1.6222 - accuracy: 0.2113 - val_loss: 1.6201 - val_accuracy: 0.2462\n",
            "Epoch 3/3\n",
            "40/40 [==============================] - 2s 58ms/step - loss: 1.6213 - accuracy: 0.2252 - val_loss: 1.7458 - val_accuracy: 0.2161\n"
          ],
          "name": "stdout"
        },
        {
          "output_type": "display_data",
          "data": {
            "text/html": [
              "<span style=\"color:#4527A0\"><h1 style=\"font-size:18px\">Trial complete</h1></span>"
            ],
            "text/plain": [
              "<IPython.core.display.HTML object>"
            ]
          },
          "metadata": {
            "tags": []
          }
        },
        {
          "output_type": "display_data",
          "data": {
            "text/html": [
              "<span style=\"color:#4527A0\"><h1 style=\"font-size:18px\">Trial summary</h1></span>"
            ],
            "text/plain": [
              "<IPython.core.display.HTML object>"
            ]
          },
          "metadata": {
            "tags": []
          }
        },
        {
          "output_type": "display_data",
          "data": {
            "text/html": [
              "<span style=\"color:cyan\"> |-Trial ID: c9d426b6802a4a2d16b2ced27677f6ce</span>"
            ],
            "text/plain": [
              "<IPython.core.display.HTML object>"
            ]
          },
          "metadata": {
            "tags": []
          }
        },
        {
          "output_type": "display_data",
          "data": {
            "text/html": [
              "<span style=\"color:cyan\"> |-Score: 0.24623115360736847</span>"
            ],
            "text/plain": [
              "<IPython.core.display.HTML object>"
            ]
          },
          "metadata": {
            "tags": []
          }
        },
        {
          "output_type": "display_data",
          "data": {
            "text/html": [
              "<span style=\"color:cyan\"> |-Best step: 0</span>"
            ],
            "text/plain": [
              "<IPython.core.display.HTML object>"
            ]
          },
          "metadata": {
            "tags": []
          }
        },
        {
          "output_type": "display_data",
          "data": {
            "text/html": [
              "<span style=\"color:#7E57C2\"><h2 style=\"font-size:16px\">Hyperparameters:</h2></span>"
            ],
            "text/plain": [
              "<IPython.core.display.HTML object>"
            ]
          },
          "metadata": {
            "tags": []
          }
        },
        {
          "output_type": "display_data",
          "data": {
            "text/html": [
              "<span style=\"color:cyan\"> |-conv_blocks: 4</span>"
            ],
            "text/plain": [
              "<IPython.core.display.HTML object>"
            ]
          },
          "metadata": {
            "tags": []
          }
        },
        {
          "output_type": "display_data",
          "data": {
            "text/html": [
              "<span style=\"color:blue\"> |-dropout: 0.2</span>"
            ],
            "text/plain": [
              "<IPython.core.display.HTML object>"
            ]
          },
          "metadata": {
            "tags": []
          }
        },
        {
          "output_type": "display_data",
          "data": {
            "text/html": [
              "<span style=\"color:cyan\"> |-filters_0: 160</span>"
            ],
            "text/plain": [
              "<IPython.core.display.HTML object>"
            ]
          },
          "metadata": {
            "tags": []
          }
        },
        {
          "output_type": "display_data",
          "data": {
            "text/html": [
              "<span style=\"color:blue\"> |-filters_1: 160</span>"
            ],
            "text/plain": [
              "<IPython.core.display.HTML object>"
            ]
          },
          "metadata": {
            "tags": []
          }
        },
        {
          "output_type": "display_data",
          "data": {
            "text/html": [
              "<span style=\"color:cyan\"> |-filters_2: 192</span>"
            ],
            "text/plain": [
              "<IPython.core.display.HTML object>"
            ]
          },
          "metadata": {
            "tags": []
          }
        },
        {
          "output_type": "display_data",
          "data": {
            "text/html": [
              "<span style=\"color:blue\"> |-filters_3: 32</span>"
            ],
            "text/plain": [
              "<IPython.core.display.HTML object>"
            ]
          },
          "metadata": {
            "tags": []
          }
        },
        {
          "output_type": "display_data",
          "data": {
            "text/html": [
              "<span style=\"color:cyan\"> |-filters_4: 128</span>"
            ],
            "text/plain": [
              "<IPython.core.display.HTML object>"
            ]
          },
          "metadata": {
            "tags": []
          }
        },
        {
          "output_type": "display_data",
          "data": {
            "text/html": [
              "<span style=\"color:blue\"> |-hidden_size: 50</span>"
            ],
            "text/plain": [
              "<IPython.core.display.HTML object>"
            ]
          },
          "metadata": {
            "tags": []
          }
        },
        {
          "output_type": "display_data",
          "data": {
            "text/html": [
              "<span style=\"color:cyan\"> |-learning_rate: 0.0008805279547553879</span>"
            ],
            "text/plain": [
              "<IPython.core.display.HTML object>"
            ]
          },
          "metadata": {
            "tags": []
          }
        },
        {
          "output_type": "display_data",
          "data": {
            "text/html": [
              "<span style=\"color:blue\"> |-pooling_0: max</span>"
            ],
            "text/plain": [
              "<IPython.core.display.HTML object>"
            ]
          },
          "metadata": {
            "tags": []
          }
        },
        {
          "output_type": "display_data",
          "data": {
            "text/html": [
              "<span style=\"color:cyan\"> |-pooling_1: avg</span>"
            ],
            "text/plain": [
              "<IPython.core.display.HTML object>"
            ]
          },
          "metadata": {
            "tags": []
          }
        },
        {
          "output_type": "display_data",
          "data": {
            "text/html": [
              "<span style=\"color:blue\"> |-pooling_2: avg</span>"
            ],
            "text/plain": [
              "<IPython.core.display.HTML object>"
            ]
          },
          "metadata": {
            "tags": []
          }
        },
        {
          "output_type": "display_data",
          "data": {
            "text/html": [
              "<span style=\"color:cyan\"> |-pooling_3: avg</span>"
            ],
            "text/plain": [
              "<IPython.core.display.HTML object>"
            ]
          },
          "metadata": {
            "tags": []
          }
        },
        {
          "output_type": "display_data",
          "data": {
            "text/html": [
              "<span style=\"color:blue\"> |-pooling_4: avg</span>"
            ],
            "text/plain": [
              "<IPython.core.display.HTML object>"
            ]
          },
          "metadata": {
            "tags": []
          }
        },
        {
          "output_type": "display_data",
          "data": {
            "text/html": [
              "<span style=\"color:cyan\"> |-tuner/bracket: 2</span>"
            ],
            "text/plain": [
              "<IPython.core.display.HTML object>"
            ]
          },
          "metadata": {
            "tags": []
          }
        },
        {
          "output_type": "display_data",
          "data": {
            "text/html": [
              "<span style=\"color:blue\"> |-tuner/epochs: 3</span>"
            ],
            "text/plain": [
              "<IPython.core.display.HTML object>"
            ]
          },
          "metadata": {
            "tags": []
          }
        },
        {
          "output_type": "display_data",
          "data": {
            "text/html": [
              "<span style=\"color:cyan\"> |-tuner/initial_epoch: 0</span>"
            ],
            "text/plain": [
              "<IPython.core.display.HTML object>"
            ]
          },
          "metadata": {
            "tags": []
          }
        },
        {
          "output_type": "display_data",
          "data": {
            "text/html": [
              "<span style=\"color:blue\"> |-tuner/round: 0</span>"
            ],
            "text/plain": [
              "<IPython.core.display.HTML object>"
            ]
          },
          "metadata": {
            "tags": []
          }
        },
        {
          "output_type": "stream",
          "text": [
            "Epoch 1/3\n",
            "40/40 [==============================] - 3s 85ms/step - loss: 1.7078 - accuracy: 0.2013 - val_loss: 126.1309 - val_accuracy: 0.1759\n",
            "Epoch 2/3\n",
            "40/40 [==============================] - 3s 74ms/step - loss: 1.6118 - accuracy: 0.2050 - val_loss: 1.6165 - val_accuracy: 0.1709\n",
            "Epoch 3/3\n",
            "40/40 [==============================] - 3s 73ms/step - loss: 1.6097 - accuracy: 0.2226 - val_loss: 1.6168 - val_accuracy: 0.1709\n",
            "Epoch 1/3\n",
            "40/40 [==============================] - 3s 80ms/step - loss: 1.6962 - accuracy: 0.1962 - val_loss: 145.3364 - val_accuracy: 0.1508\n",
            "Epoch 2/3\n",
            "40/40 [==============================] - 3s 76ms/step - loss: 1.6328 - accuracy: 0.1950 - val_loss: 7.9022 - val_accuracy: 0.2111\n",
            "Epoch 3/3\n",
            "40/40 [==============================] - 3s 74ms/step - loss: 1.6100 - accuracy: 0.2101 - val_loss: 1.6194 - val_accuracy: 0.1709\n"
          ],
          "name": "stdout"
        },
        {
          "output_type": "display_data",
          "data": {
            "text/html": [
              "<span style=\"color:#4527A0\"><h1 style=\"font-size:18px\">Trial complete</h1></span>"
            ],
            "text/plain": [
              "<IPython.core.display.HTML object>"
            ]
          },
          "metadata": {
            "tags": []
          }
        },
        {
          "output_type": "display_data",
          "data": {
            "text/html": [
              "<span style=\"color:#4527A0\"><h1 style=\"font-size:18px\">Trial summary</h1></span>"
            ],
            "text/plain": [
              "<IPython.core.display.HTML object>"
            ]
          },
          "metadata": {
            "tags": []
          }
        },
        {
          "output_type": "display_data",
          "data": {
            "text/html": [
              "<span style=\"color:cyan\"> |-Trial ID: 5e9c5e9901191f4207f16f20fea10a9a</span>"
            ],
            "text/plain": [
              "<IPython.core.display.HTML object>"
            ]
          },
          "metadata": {
            "tags": []
          }
        },
        {
          "output_type": "display_data",
          "data": {
            "text/html": [
              "<span style=\"color:cyan\"> |-Score: 0.19346734136343002</span>"
            ],
            "text/plain": [
              "<IPython.core.display.HTML object>"
            ]
          },
          "metadata": {
            "tags": []
          }
        },
        {
          "output_type": "display_data",
          "data": {
            "text/html": [
              "<span style=\"color:cyan\"> |-Best step: 0</span>"
            ],
            "text/plain": [
              "<IPython.core.display.HTML object>"
            ]
          },
          "metadata": {
            "tags": []
          }
        },
        {
          "output_type": "display_data",
          "data": {
            "text/html": [
              "<span style=\"color:#7E57C2\"><h2 style=\"font-size:16px\">Hyperparameters:</h2></span>"
            ],
            "text/plain": [
              "<IPython.core.display.HTML object>"
            ]
          },
          "metadata": {
            "tags": []
          }
        },
        {
          "output_type": "display_data",
          "data": {
            "text/html": [
              "<span style=\"color:cyan\"> |-conv_blocks: 5</span>"
            ],
            "text/plain": [
              "<IPython.core.display.HTML object>"
            ]
          },
          "metadata": {
            "tags": []
          }
        },
        {
          "output_type": "display_data",
          "data": {
            "text/html": [
              "<span style=\"color:blue\"> |-dropout: 0.0</span>"
            ],
            "text/plain": [
              "<IPython.core.display.HTML object>"
            ]
          },
          "metadata": {
            "tags": []
          }
        },
        {
          "output_type": "display_data",
          "data": {
            "text/html": [
              "<span style=\"color:cyan\"> |-filters_0: 256</span>"
            ],
            "text/plain": [
              "<IPython.core.display.HTML object>"
            ]
          },
          "metadata": {
            "tags": []
          }
        },
        {
          "output_type": "display_data",
          "data": {
            "text/html": [
              "<span style=\"color:blue\"> |-filters_1: 32</span>"
            ],
            "text/plain": [
              "<IPython.core.display.HTML object>"
            ]
          },
          "metadata": {
            "tags": []
          }
        },
        {
          "output_type": "display_data",
          "data": {
            "text/html": [
              "<span style=\"color:cyan\"> |-filters_2: 96</span>"
            ],
            "text/plain": [
              "<IPython.core.display.HTML object>"
            ]
          },
          "metadata": {
            "tags": []
          }
        },
        {
          "output_type": "display_data",
          "data": {
            "text/html": [
              "<span style=\"color:blue\"> |-filters_3: 32</span>"
            ],
            "text/plain": [
              "<IPython.core.display.HTML object>"
            ]
          },
          "metadata": {
            "tags": []
          }
        },
        {
          "output_type": "display_data",
          "data": {
            "text/html": [
              "<span style=\"color:cyan\"> |-filters_4: 160</span>"
            ],
            "text/plain": [
              "<IPython.core.display.HTML object>"
            ]
          },
          "metadata": {
            "tags": []
          }
        },
        {
          "output_type": "display_data",
          "data": {
            "text/html": [
              "<span style=\"color:blue\"> |-hidden_size: 90</span>"
            ],
            "text/plain": [
              "<IPython.core.display.HTML object>"
            ]
          },
          "metadata": {
            "tags": []
          }
        },
        {
          "output_type": "display_data",
          "data": {
            "text/html": [
              "<span style=\"color:cyan\"> |-learning_rate: 0.009966950556844411</span>"
            ],
            "text/plain": [
              "<IPython.core.display.HTML object>"
            ]
          },
          "metadata": {
            "tags": []
          }
        },
        {
          "output_type": "display_data",
          "data": {
            "text/html": [
              "<span style=\"color:blue\"> |-pooling_0: avg</span>"
            ],
            "text/plain": [
              "<IPython.core.display.HTML object>"
            ]
          },
          "metadata": {
            "tags": []
          }
        },
        {
          "output_type": "display_data",
          "data": {
            "text/html": [
              "<span style=\"color:cyan\"> |-pooling_1: avg</span>"
            ],
            "text/plain": [
              "<IPython.core.display.HTML object>"
            ]
          },
          "metadata": {
            "tags": []
          }
        },
        {
          "output_type": "display_data",
          "data": {
            "text/html": [
              "<span style=\"color:blue\"> |-pooling_2: max</span>"
            ],
            "text/plain": [
              "<IPython.core.display.HTML object>"
            ]
          },
          "metadata": {
            "tags": []
          }
        },
        {
          "output_type": "display_data",
          "data": {
            "text/html": [
              "<span style=\"color:cyan\"> |-pooling_3: avg</span>"
            ],
            "text/plain": [
              "<IPython.core.display.HTML object>"
            ]
          },
          "metadata": {
            "tags": []
          }
        },
        {
          "output_type": "display_data",
          "data": {
            "text/html": [
              "<span style=\"color:blue\"> |-pooling_4: avg</span>"
            ],
            "text/plain": [
              "<IPython.core.display.HTML object>"
            ]
          },
          "metadata": {
            "tags": []
          }
        },
        {
          "output_type": "display_data",
          "data": {
            "text/html": [
              "<span style=\"color:cyan\"> |-tuner/bracket: 2</span>"
            ],
            "text/plain": [
              "<IPython.core.display.HTML object>"
            ]
          },
          "metadata": {
            "tags": []
          }
        },
        {
          "output_type": "display_data",
          "data": {
            "text/html": [
              "<span style=\"color:blue\"> |-tuner/epochs: 3</span>"
            ],
            "text/plain": [
              "<IPython.core.display.HTML object>"
            ]
          },
          "metadata": {
            "tags": []
          }
        },
        {
          "output_type": "display_data",
          "data": {
            "text/html": [
              "<span style=\"color:cyan\"> |-tuner/initial_epoch: 0</span>"
            ],
            "text/plain": [
              "<IPython.core.display.HTML object>"
            ]
          },
          "metadata": {
            "tags": []
          }
        },
        {
          "output_type": "display_data",
          "data": {
            "text/html": [
              "<span style=\"color:blue\"> |-tuner/round: 0</span>"
            ],
            "text/plain": [
              "<IPython.core.display.HTML object>"
            ]
          },
          "metadata": {
            "tags": []
          }
        },
        {
          "output_type": "stream",
          "text": [
            "Epoch 1/3\n",
            "40/40 [==============================] - 2s 42ms/step - loss: 1.7441 - accuracy: 0.2201 - val_loss: 1.6228 - val_accuracy: 0.2462\n",
            "Epoch 2/3\n",
            "40/40 [==============================] - 1s 33ms/step - loss: 1.6477 - accuracy: 0.2289 - val_loss: 1.6470 - val_accuracy: 0.2462\n",
            "Epoch 3/3\n",
            "40/40 [==============================] - 1s 34ms/step - loss: 1.6123 - accuracy: 0.2428 - val_loss: 1.7045 - val_accuracy: 0.2462\n",
            "Epoch 1/3\n",
            "40/40 [==============================] - 2s 39ms/step - loss: 1.7136 - accuracy: 0.2075 - val_loss: 1.6153 - val_accuracy: 0.1558\n",
            "Epoch 2/3\n",
            "40/40 [==============================] - 1s 33ms/step - loss: 1.6272 - accuracy: 0.2428 - val_loss: 1.6192 - val_accuracy: 0.2362\n",
            "Epoch 3/3\n",
            "40/40 [==============================] - 1s 33ms/step - loss: 1.6106 - accuracy: 0.2340 - val_loss: 1.6405 - val_accuracy: 0.2462\n"
          ],
          "name": "stdout"
        },
        {
          "output_type": "display_data",
          "data": {
            "text/html": [
              "<span style=\"color:#4527A0\"><h1 style=\"font-size:18px\">Trial complete</h1></span>"
            ],
            "text/plain": [
              "<IPython.core.display.HTML object>"
            ]
          },
          "metadata": {
            "tags": []
          }
        },
        {
          "output_type": "display_data",
          "data": {
            "text/html": [
              "<span style=\"color:#4527A0\"><h1 style=\"font-size:18px\">Trial summary</h1></span>"
            ],
            "text/plain": [
              "<IPython.core.display.HTML object>"
            ]
          },
          "metadata": {
            "tags": []
          }
        },
        {
          "output_type": "display_data",
          "data": {
            "text/html": [
              "<span style=\"color:cyan\"> |-Trial ID: ccf18a4fa04ba88d36fe6e0720f73b46</span>"
            ],
            "text/plain": [
              "<IPython.core.display.HTML object>"
            ]
          },
          "metadata": {
            "tags": []
          }
        },
        {
          "output_type": "display_data",
          "data": {
            "text/html": [
              "<span style=\"color:cyan\"> |-Score: 0.24623115360736847</span>"
            ],
            "text/plain": [
              "<IPython.core.display.HTML object>"
            ]
          },
          "metadata": {
            "tags": []
          }
        },
        {
          "output_type": "display_data",
          "data": {
            "text/html": [
              "<span style=\"color:cyan\"> |-Best step: 0</span>"
            ],
            "text/plain": [
              "<IPython.core.display.HTML object>"
            ]
          },
          "metadata": {
            "tags": []
          }
        },
        {
          "output_type": "display_data",
          "data": {
            "text/html": [
              "<span style=\"color:#7E57C2\"><h2 style=\"font-size:16px\">Hyperparameters:</h2></span>"
            ],
            "text/plain": [
              "<IPython.core.display.HTML object>"
            ]
          },
          "metadata": {
            "tags": []
          }
        },
        {
          "output_type": "display_data",
          "data": {
            "text/html": [
              "<span style=\"color:cyan\"> |-conv_blocks: 4</span>"
            ],
            "text/plain": [
              "<IPython.core.display.HTML object>"
            ]
          },
          "metadata": {
            "tags": []
          }
        },
        {
          "output_type": "display_data",
          "data": {
            "text/html": [
              "<span style=\"color:blue\"> |-dropout: 0.2</span>"
            ],
            "text/plain": [
              "<IPython.core.display.HTML object>"
            ]
          },
          "metadata": {
            "tags": []
          }
        },
        {
          "output_type": "display_data",
          "data": {
            "text/html": [
              "<span style=\"color:cyan\"> |-filters_0: 96</span>"
            ],
            "text/plain": [
              "<IPython.core.display.HTML object>"
            ]
          },
          "metadata": {
            "tags": []
          }
        },
        {
          "output_type": "display_data",
          "data": {
            "text/html": [
              "<span style=\"color:blue\"> |-filters_1: 96</span>"
            ],
            "text/plain": [
              "<IPython.core.display.HTML object>"
            ]
          },
          "metadata": {
            "tags": []
          }
        },
        {
          "output_type": "display_data",
          "data": {
            "text/html": [
              "<span style=\"color:cyan\"> |-filters_2: 192</span>"
            ],
            "text/plain": [
              "<IPython.core.display.HTML object>"
            ]
          },
          "metadata": {
            "tags": []
          }
        },
        {
          "output_type": "display_data",
          "data": {
            "text/html": [
              "<span style=\"color:blue\"> |-filters_3: 128</span>"
            ],
            "text/plain": [
              "<IPython.core.display.HTML object>"
            ]
          },
          "metadata": {
            "tags": []
          }
        },
        {
          "output_type": "display_data",
          "data": {
            "text/html": [
              "<span style=\"color:cyan\"> |-filters_4: 96</span>"
            ],
            "text/plain": [
              "<IPython.core.display.HTML object>"
            ]
          },
          "metadata": {
            "tags": []
          }
        },
        {
          "output_type": "display_data",
          "data": {
            "text/html": [
              "<span style=\"color:blue\"> |-hidden_size: 60</span>"
            ],
            "text/plain": [
              "<IPython.core.display.HTML object>"
            ]
          },
          "metadata": {
            "tags": []
          }
        },
        {
          "output_type": "display_data",
          "data": {
            "text/html": [
              "<span style=\"color:cyan\"> |-learning_rate: 0.00019170730143696464</span>"
            ],
            "text/plain": [
              "<IPython.core.display.HTML object>"
            ]
          },
          "metadata": {
            "tags": []
          }
        },
        {
          "output_type": "display_data",
          "data": {
            "text/html": [
              "<span style=\"color:blue\"> |-pooling_0: max</span>"
            ],
            "text/plain": [
              "<IPython.core.display.HTML object>"
            ]
          },
          "metadata": {
            "tags": []
          }
        },
        {
          "output_type": "display_data",
          "data": {
            "text/html": [
              "<span style=\"color:cyan\"> |-pooling_1: avg</span>"
            ],
            "text/plain": [
              "<IPython.core.display.HTML object>"
            ]
          },
          "metadata": {
            "tags": []
          }
        },
        {
          "output_type": "display_data",
          "data": {
            "text/html": [
              "<span style=\"color:blue\"> |-pooling_2: max</span>"
            ],
            "text/plain": [
              "<IPython.core.display.HTML object>"
            ]
          },
          "metadata": {
            "tags": []
          }
        },
        {
          "output_type": "display_data",
          "data": {
            "text/html": [
              "<span style=\"color:cyan\"> |-pooling_3: max</span>"
            ],
            "text/plain": [
              "<IPython.core.display.HTML object>"
            ]
          },
          "metadata": {
            "tags": []
          }
        },
        {
          "output_type": "display_data",
          "data": {
            "text/html": [
              "<span style=\"color:blue\"> |-pooling_4: avg</span>"
            ],
            "text/plain": [
              "<IPython.core.display.HTML object>"
            ]
          },
          "metadata": {
            "tags": []
          }
        },
        {
          "output_type": "display_data",
          "data": {
            "text/html": [
              "<span style=\"color:cyan\"> |-tuner/bracket: 2</span>"
            ],
            "text/plain": [
              "<IPython.core.display.HTML object>"
            ]
          },
          "metadata": {
            "tags": []
          }
        },
        {
          "output_type": "display_data",
          "data": {
            "text/html": [
              "<span style=\"color:blue\"> |-tuner/epochs: 3</span>"
            ],
            "text/plain": [
              "<IPython.core.display.HTML object>"
            ]
          },
          "metadata": {
            "tags": []
          }
        },
        {
          "output_type": "display_data",
          "data": {
            "text/html": [
              "<span style=\"color:cyan\"> |-tuner/initial_epoch: 0</span>"
            ],
            "text/plain": [
              "<IPython.core.display.HTML object>"
            ]
          },
          "metadata": {
            "tags": []
          }
        },
        {
          "output_type": "display_data",
          "data": {
            "text/html": [
              "<span style=\"color:blue\"> |-tuner/round: 0</span>"
            ],
            "text/plain": [
              "<IPython.core.display.HTML object>"
            ]
          },
          "metadata": {
            "tags": []
          }
        },
        {
          "output_type": "stream",
          "text": [
            "Epoch 1/3\n",
            "40/40 [==============================] - 2s 43ms/step - loss: 1.7413 - accuracy: 0.2101 - val_loss: 1.6205 - val_accuracy: 0.2462\n",
            "Epoch 2/3\n",
            "40/40 [==============================] - 1s 34ms/step - loss: 1.6683 - accuracy: 0.2252 - val_loss: 1.6506 - val_accuracy: 0.2462\n",
            "Epoch 3/3\n",
            "40/40 [==============================] - 1s 34ms/step - loss: 1.6424 - accuracy: 0.1975 - val_loss: 1.7628 - val_accuracy: 0.2462\n",
            "Epoch 1/3\n",
            "40/40 [==============================] - 2s 39ms/step - loss: 1.7556 - accuracy: 0.2126 - val_loss: 1.6301 - val_accuracy: 0.1508\n",
            "Epoch 2/3\n",
            "40/40 [==============================] - 1s 33ms/step - loss: 1.6676 - accuracy: 0.2113 - val_loss: 1.6341 - val_accuracy: 0.1508\n",
            "Epoch 3/3\n",
            "40/40 [==============================] - 1s 34ms/step - loss: 1.6345 - accuracy: 0.2038 - val_loss: 1.6395 - val_accuracy: 0.1508\n"
          ],
          "name": "stdout"
        },
        {
          "output_type": "display_data",
          "data": {
            "text/html": [
              "<span style=\"color:#4527A0\"><h1 style=\"font-size:18px\">Trial complete</h1></span>"
            ],
            "text/plain": [
              "<IPython.core.display.HTML object>"
            ]
          },
          "metadata": {
            "tags": []
          }
        },
        {
          "output_type": "display_data",
          "data": {
            "text/html": [
              "<span style=\"color:#4527A0\"><h1 style=\"font-size:18px\">Trial summary</h1></span>"
            ],
            "text/plain": [
              "<IPython.core.display.HTML object>"
            ]
          },
          "metadata": {
            "tags": []
          }
        },
        {
          "output_type": "display_data",
          "data": {
            "text/html": [
              "<span style=\"color:cyan\"> |-Trial ID: f07b5f3e1b91b45aa46924139abf347b</span>"
            ],
            "text/plain": [
              "<IPython.core.display.HTML object>"
            ]
          },
          "metadata": {
            "tags": []
          }
        },
        {
          "output_type": "display_data",
          "data": {
            "text/html": [
              "<span style=\"color:cyan\"> |-Score: 0.19849245995283127</span>"
            ],
            "text/plain": [
              "<IPython.core.display.HTML object>"
            ]
          },
          "metadata": {
            "tags": []
          }
        },
        {
          "output_type": "display_data",
          "data": {
            "text/html": [
              "<span style=\"color:cyan\"> |-Best step: 0</span>"
            ],
            "text/plain": [
              "<IPython.core.display.HTML object>"
            ]
          },
          "metadata": {
            "tags": []
          }
        },
        {
          "output_type": "display_data",
          "data": {
            "text/html": [
              "<span style=\"color:#7E57C2\"><h2 style=\"font-size:16px\">Hyperparameters:</h2></span>"
            ],
            "text/plain": [
              "<IPython.core.display.HTML object>"
            ]
          },
          "metadata": {
            "tags": []
          }
        },
        {
          "output_type": "display_data",
          "data": {
            "text/html": [
              "<span style=\"color:cyan\"> |-conv_blocks: 3</span>"
            ],
            "text/plain": [
              "<IPython.core.display.HTML object>"
            ]
          },
          "metadata": {
            "tags": []
          }
        },
        {
          "output_type": "display_data",
          "data": {
            "text/html": [
              "<span style=\"color:blue\"> |-dropout: 0.4</span>"
            ],
            "text/plain": [
              "<IPython.core.display.HTML object>"
            ]
          },
          "metadata": {
            "tags": []
          }
        },
        {
          "output_type": "display_data",
          "data": {
            "text/html": [
              "<span style=\"color:cyan\"> |-filters_0: 96</span>"
            ],
            "text/plain": [
              "<IPython.core.display.HTML object>"
            ]
          },
          "metadata": {
            "tags": []
          }
        },
        {
          "output_type": "display_data",
          "data": {
            "text/html": [
              "<span style=\"color:blue\"> |-filters_1: 128</span>"
            ],
            "text/plain": [
              "<IPython.core.display.HTML object>"
            ]
          },
          "metadata": {
            "tags": []
          }
        },
        {
          "output_type": "display_data",
          "data": {
            "text/html": [
              "<span style=\"color:cyan\"> |-filters_2: 160</span>"
            ],
            "text/plain": [
              "<IPython.core.display.HTML object>"
            ]
          },
          "metadata": {
            "tags": []
          }
        },
        {
          "output_type": "display_data",
          "data": {
            "text/html": [
              "<span style=\"color:blue\"> |-filters_3: 160</span>"
            ],
            "text/plain": [
              "<IPython.core.display.HTML object>"
            ]
          },
          "metadata": {
            "tags": []
          }
        },
        {
          "output_type": "display_data",
          "data": {
            "text/html": [
              "<span style=\"color:cyan\"> |-filters_4: 96</span>"
            ],
            "text/plain": [
              "<IPython.core.display.HTML object>"
            ]
          },
          "metadata": {
            "tags": []
          }
        },
        {
          "output_type": "display_data",
          "data": {
            "text/html": [
              "<span style=\"color:blue\"> |-hidden_size: 80</span>"
            ],
            "text/plain": [
              "<IPython.core.display.HTML object>"
            ]
          },
          "metadata": {
            "tags": []
          }
        },
        {
          "output_type": "display_data",
          "data": {
            "text/html": [
              "<span style=\"color:cyan\"> |-learning_rate: 0.00039674283917309544</span>"
            ],
            "text/plain": [
              "<IPython.core.display.HTML object>"
            ]
          },
          "metadata": {
            "tags": []
          }
        },
        {
          "output_type": "display_data",
          "data": {
            "text/html": [
              "<span style=\"color:blue\"> |-pooling_0: max</span>"
            ],
            "text/plain": [
              "<IPython.core.display.HTML object>"
            ]
          },
          "metadata": {
            "tags": []
          }
        },
        {
          "output_type": "display_data",
          "data": {
            "text/html": [
              "<span style=\"color:cyan\"> |-pooling_1: avg</span>"
            ],
            "text/plain": [
              "<IPython.core.display.HTML object>"
            ]
          },
          "metadata": {
            "tags": []
          }
        },
        {
          "output_type": "display_data",
          "data": {
            "text/html": [
              "<span style=\"color:blue\"> |-pooling_2: max</span>"
            ],
            "text/plain": [
              "<IPython.core.display.HTML object>"
            ]
          },
          "metadata": {
            "tags": []
          }
        },
        {
          "output_type": "display_data",
          "data": {
            "text/html": [
              "<span style=\"color:cyan\"> |-pooling_3: avg</span>"
            ],
            "text/plain": [
              "<IPython.core.display.HTML object>"
            ]
          },
          "metadata": {
            "tags": []
          }
        },
        {
          "output_type": "display_data",
          "data": {
            "text/html": [
              "<span style=\"color:blue\"> |-pooling_4: max</span>"
            ],
            "text/plain": [
              "<IPython.core.display.HTML object>"
            ]
          },
          "metadata": {
            "tags": []
          }
        },
        {
          "output_type": "display_data",
          "data": {
            "text/html": [
              "<span style=\"color:cyan\"> |-tuner/bracket: 2</span>"
            ],
            "text/plain": [
              "<IPython.core.display.HTML object>"
            ]
          },
          "metadata": {
            "tags": []
          }
        },
        {
          "output_type": "display_data",
          "data": {
            "text/html": [
              "<span style=\"color:blue\"> |-tuner/epochs: 3</span>"
            ],
            "text/plain": [
              "<IPython.core.display.HTML object>"
            ]
          },
          "metadata": {
            "tags": []
          }
        },
        {
          "output_type": "display_data",
          "data": {
            "text/html": [
              "<span style=\"color:cyan\"> |-tuner/initial_epoch: 0</span>"
            ],
            "text/plain": [
              "<IPython.core.display.HTML object>"
            ]
          },
          "metadata": {
            "tags": []
          }
        },
        {
          "output_type": "display_data",
          "data": {
            "text/html": [
              "<span style=\"color:blue\"> |-tuner/round: 0</span>"
            ],
            "text/plain": [
              "<IPython.core.display.HTML object>"
            ]
          },
          "metadata": {
            "tags": []
          }
        },
        {
          "output_type": "stream",
          "text": [
            "Epoch 1/3\n",
            " 2/40 [>.............................] - ETA: 0s - loss: 1.7217 - accuracy: 0.2500WARNING:tensorflow:Callbacks method `on_train_batch_end` is slow compared to the batch time (batch time: 0.0207s vs `on_train_batch_end` time: 0.0310s). Check your callbacks.\n",
            "40/40 [==============================] - 3s 64ms/step - loss: 1.6827 - accuracy: 0.1774 - val_loss: 1.6922 - val_accuracy: 0.1508\n",
            "Epoch 2/3\n",
            "40/40 [==============================] - 2s 57ms/step - loss: 1.6258 - accuracy: 0.2201 - val_loss: 1.6439 - val_accuracy: 0.2161\n",
            "Epoch 3/3\n",
            "40/40 [==============================] - 2s 57ms/step - loss: 1.6381 - accuracy: 0.2025 - val_loss: 1.9807 - val_accuracy: 0.2462\n",
            "Epoch 1/3\n",
            " 2/40 [>.............................] - ETA: 0s - loss: 1.8232 - accuracy: 0.2000WARNING:tensorflow:Callbacks method `on_train_batch_end` is slow compared to the batch time (batch time: 0.0210s vs `on_train_batch_end` time: 0.0318s). Check your callbacks.\n",
            "40/40 [==============================] - 2s 60ms/step - loss: 1.6757 - accuracy: 0.2113 - val_loss: 1.9962 - val_accuracy: 0.1608\n",
            "Epoch 2/3\n",
            "40/40 [==============================] - 2s 55ms/step - loss: 1.6282 - accuracy: 0.2101 - val_loss: 1.9498 - val_accuracy: 0.2462\n",
            "Epoch 3/3\n",
            "40/40 [==============================] - 2s 55ms/step - loss: 1.6126 - accuracy: 0.2113 - val_loss: 1.7028 - val_accuracy: 0.2462\n"
          ],
          "name": "stdout"
        },
        {
          "output_type": "display_data",
          "data": {
            "text/html": [
              "<span style=\"color:#4527A0\"><h1 style=\"font-size:18px\">Trial complete</h1></span>"
            ],
            "text/plain": [
              "<IPython.core.display.HTML object>"
            ]
          },
          "metadata": {
            "tags": []
          }
        },
        {
          "output_type": "display_data",
          "data": {
            "text/html": [
              "<span style=\"color:#4527A0\"><h1 style=\"font-size:18px\">Trial summary</h1></span>"
            ],
            "text/plain": [
              "<IPython.core.display.HTML object>"
            ]
          },
          "metadata": {
            "tags": []
          }
        },
        {
          "output_type": "display_data",
          "data": {
            "text/html": [
              "<span style=\"color:cyan\"> |-Trial ID: 3a2338e9cfa5233bcb89f03c6811fbca</span>"
            ],
            "text/plain": [
              "<IPython.core.display.HTML object>"
            ]
          },
          "metadata": {
            "tags": []
          }
        },
        {
          "output_type": "display_data",
          "data": {
            "text/html": [
              "<span style=\"color:cyan\"> |-Score: 0.24623115360736847</span>"
            ],
            "text/plain": [
              "<IPython.core.display.HTML object>"
            ]
          },
          "metadata": {
            "tags": []
          }
        },
        {
          "output_type": "display_data",
          "data": {
            "text/html": [
              "<span style=\"color:cyan\"> |-Best step: 0</span>"
            ],
            "text/plain": [
              "<IPython.core.display.HTML object>"
            ]
          },
          "metadata": {
            "tags": []
          }
        },
        {
          "output_type": "display_data",
          "data": {
            "text/html": [
              "<span style=\"color:#7E57C2\"><h2 style=\"font-size:16px\">Hyperparameters:</h2></span>"
            ],
            "text/plain": [
              "<IPython.core.display.HTML object>"
            ]
          },
          "metadata": {
            "tags": []
          }
        },
        {
          "output_type": "display_data",
          "data": {
            "text/html": [
              "<span style=\"color:cyan\"> |-conv_blocks: 4</span>"
            ],
            "text/plain": [
              "<IPython.core.display.HTML object>"
            ]
          },
          "metadata": {
            "tags": []
          }
        },
        {
          "output_type": "display_data",
          "data": {
            "text/html": [
              "<span style=\"color:blue\"> |-dropout: 0.1</span>"
            ],
            "text/plain": [
              "<IPython.core.display.HTML object>"
            ]
          },
          "metadata": {
            "tags": []
          }
        },
        {
          "output_type": "display_data",
          "data": {
            "text/html": [
              "<span style=\"color:cyan\"> |-filters_0: 160</span>"
            ],
            "text/plain": [
              "<IPython.core.display.HTML object>"
            ]
          },
          "metadata": {
            "tags": []
          }
        },
        {
          "output_type": "display_data",
          "data": {
            "text/html": [
              "<span style=\"color:blue\"> |-filters_1: 128</span>"
            ],
            "text/plain": [
              "<IPython.core.display.HTML object>"
            ]
          },
          "metadata": {
            "tags": []
          }
        },
        {
          "output_type": "display_data",
          "data": {
            "text/html": [
              "<span style=\"color:cyan\"> |-filters_2: 224</span>"
            ],
            "text/plain": [
              "<IPython.core.display.HTML object>"
            ]
          },
          "metadata": {
            "tags": []
          }
        },
        {
          "output_type": "display_data",
          "data": {
            "text/html": [
              "<span style=\"color:blue\"> |-filters_3: 96</span>"
            ],
            "text/plain": [
              "<IPython.core.display.HTML object>"
            ]
          },
          "metadata": {
            "tags": []
          }
        },
        {
          "output_type": "display_data",
          "data": {
            "text/html": [
              "<span style=\"color:cyan\"> |-filters_4: 192</span>"
            ],
            "text/plain": [
              "<IPython.core.display.HTML object>"
            ]
          },
          "metadata": {
            "tags": []
          }
        },
        {
          "output_type": "display_data",
          "data": {
            "text/html": [
              "<span style=\"color:blue\"> |-hidden_size: 70</span>"
            ],
            "text/plain": [
              "<IPython.core.display.HTML object>"
            ]
          },
          "metadata": {
            "tags": []
          }
        },
        {
          "output_type": "display_data",
          "data": {
            "text/html": [
              "<span style=\"color:cyan\"> |-learning_rate: 0.000924222110450238</span>"
            ],
            "text/plain": [
              "<IPython.core.display.HTML object>"
            ]
          },
          "metadata": {
            "tags": []
          }
        },
        {
          "output_type": "display_data",
          "data": {
            "text/html": [
              "<span style=\"color:blue\"> |-pooling_0: avg</span>"
            ],
            "text/plain": [
              "<IPython.core.display.HTML object>"
            ]
          },
          "metadata": {
            "tags": []
          }
        },
        {
          "output_type": "display_data",
          "data": {
            "text/html": [
              "<span style=\"color:cyan\"> |-pooling_1: max</span>"
            ],
            "text/plain": [
              "<IPython.core.display.HTML object>"
            ]
          },
          "metadata": {
            "tags": []
          }
        },
        {
          "output_type": "display_data",
          "data": {
            "text/html": [
              "<span style=\"color:blue\"> |-pooling_2: avg</span>"
            ],
            "text/plain": [
              "<IPython.core.display.HTML object>"
            ]
          },
          "metadata": {
            "tags": []
          }
        },
        {
          "output_type": "display_data",
          "data": {
            "text/html": [
              "<span style=\"color:cyan\"> |-pooling_3: max</span>"
            ],
            "text/plain": [
              "<IPython.core.display.HTML object>"
            ]
          },
          "metadata": {
            "tags": []
          }
        },
        {
          "output_type": "display_data",
          "data": {
            "text/html": [
              "<span style=\"color:blue\"> |-pooling_4: max</span>"
            ],
            "text/plain": [
              "<IPython.core.display.HTML object>"
            ]
          },
          "metadata": {
            "tags": []
          }
        },
        {
          "output_type": "display_data",
          "data": {
            "text/html": [
              "<span style=\"color:cyan\"> |-tuner/bracket: 2</span>"
            ],
            "text/plain": [
              "<IPython.core.display.HTML object>"
            ]
          },
          "metadata": {
            "tags": []
          }
        },
        {
          "output_type": "display_data",
          "data": {
            "text/html": [
              "<span style=\"color:blue\"> |-tuner/epochs: 3</span>"
            ],
            "text/plain": [
              "<IPython.core.display.HTML object>"
            ]
          },
          "metadata": {
            "tags": []
          }
        },
        {
          "output_type": "display_data",
          "data": {
            "text/html": [
              "<span style=\"color:cyan\"> |-tuner/initial_epoch: 0</span>"
            ],
            "text/plain": [
              "<IPython.core.display.HTML object>"
            ]
          },
          "metadata": {
            "tags": []
          }
        },
        {
          "output_type": "display_data",
          "data": {
            "text/html": [
              "<span style=\"color:blue\"> |-tuner/round: 0</span>"
            ],
            "text/plain": [
              "<IPython.core.display.HTML object>"
            ]
          },
          "metadata": {
            "tags": []
          }
        },
        {
          "output_type": "stream",
          "text": [
            "Epoch 1/3\n",
            "40/40 [==============================] - 3s 69ms/step - loss: 1.6551 - accuracy: 0.1912 - val_loss: 1.6171 - val_accuracy: 0.2412\n",
            "Epoch 2/3\n",
            "40/40 [==============================] - 2s 58ms/step - loss: 1.6143 - accuracy: 0.2201 - val_loss: 1.6326 - val_accuracy: 0.2412\n",
            "Epoch 3/3\n",
            "40/40 [==============================] - 2s 58ms/step - loss: 1.6168 - accuracy: 0.2063 - val_loss: 1.6460 - val_accuracy: 0.2362\n",
            "Epoch 1/3\n",
            "40/40 [==============================] - 3s 63ms/step - loss: 1.7240 - accuracy: 0.1962 - val_loss: 1.6554 - val_accuracy: 0.2362\n",
            "Epoch 2/3\n",
            "40/40 [==============================] - 2s 58ms/step - loss: 1.6402 - accuracy: 0.2176 - val_loss: 1.7275 - val_accuracy: 0.2412\n",
            "Epoch 3/3\n",
            "40/40 [==============================] - 2s 59ms/step - loss: 1.6103 - accuracy: 0.2302 - val_loss: 1.7665 - val_accuracy: 0.2462\n"
          ],
          "name": "stdout"
        },
        {
          "output_type": "display_data",
          "data": {
            "text/html": [
              "<span style=\"color:#4527A0\"><h1 style=\"font-size:18px\">Trial complete</h1></span>"
            ],
            "text/plain": [
              "<IPython.core.display.HTML object>"
            ]
          },
          "metadata": {
            "tags": []
          }
        },
        {
          "output_type": "display_data",
          "data": {
            "text/html": [
              "<span style=\"color:#4527A0\"><h1 style=\"font-size:18px\">Trial summary</h1></span>"
            ],
            "text/plain": [
              "<IPython.core.display.HTML object>"
            ]
          },
          "metadata": {
            "tags": []
          }
        },
        {
          "output_type": "display_data",
          "data": {
            "text/html": [
              "<span style=\"color:cyan\"> |-Trial ID: a8e6e6d64bd7a15e7ed537c2b63496fc</span>"
            ],
            "text/plain": [
              "<IPython.core.display.HTML object>"
            ]
          },
          "metadata": {
            "tags": []
          }
        },
        {
          "output_type": "display_data",
          "data": {
            "text/html": [
              "<span style=\"color:cyan\"> |-Score: 0.24371859431266785</span>"
            ],
            "text/plain": [
              "<IPython.core.display.HTML object>"
            ]
          },
          "metadata": {
            "tags": []
          }
        },
        {
          "output_type": "display_data",
          "data": {
            "text/html": [
              "<span style=\"color:cyan\"> |-Best step: 0</span>"
            ],
            "text/plain": [
              "<IPython.core.display.HTML object>"
            ]
          },
          "metadata": {
            "tags": []
          }
        },
        {
          "output_type": "display_data",
          "data": {
            "text/html": [
              "<span style=\"color:#7E57C2\"><h2 style=\"font-size:16px\">Hyperparameters:</h2></span>"
            ],
            "text/plain": [
              "<IPython.core.display.HTML object>"
            ]
          },
          "metadata": {
            "tags": []
          }
        },
        {
          "output_type": "display_data",
          "data": {
            "text/html": [
              "<span style=\"color:cyan\"> |-conv_blocks: 3</span>"
            ],
            "text/plain": [
              "<IPython.core.display.HTML object>"
            ]
          },
          "metadata": {
            "tags": []
          }
        },
        {
          "output_type": "display_data",
          "data": {
            "text/html": [
              "<span style=\"color:blue\"> |-dropout: 0.1</span>"
            ],
            "text/plain": [
              "<IPython.core.display.HTML object>"
            ]
          },
          "metadata": {
            "tags": []
          }
        },
        {
          "output_type": "display_data",
          "data": {
            "text/html": [
              "<span style=\"color:cyan\"> |-filters_0: 192</span>"
            ],
            "text/plain": [
              "<IPython.core.display.HTML object>"
            ]
          },
          "metadata": {
            "tags": []
          }
        },
        {
          "output_type": "display_data",
          "data": {
            "text/html": [
              "<span style=\"color:blue\"> |-filters_1: 64</span>"
            ],
            "text/plain": [
              "<IPython.core.display.HTML object>"
            ]
          },
          "metadata": {
            "tags": []
          }
        },
        {
          "output_type": "display_data",
          "data": {
            "text/html": [
              "<span style=\"color:cyan\"> |-filters_2: 224</span>"
            ],
            "text/plain": [
              "<IPython.core.display.HTML object>"
            ]
          },
          "metadata": {
            "tags": []
          }
        },
        {
          "output_type": "display_data",
          "data": {
            "text/html": [
              "<span style=\"color:blue\"> |-filters_3: 96</span>"
            ],
            "text/plain": [
              "<IPython.core.display.HTML object>"
            ]
          },
          "metadata": {
            "tags": []
          }
        },
        {
          "output_type": "display_data",
          "data": {
            "text/html": [
              "<span style=\"color:cyan\"> |-filters_4: 192</span>"
            ],
            "text/plain": [
              "<IPython.core.display.HTML object>"
            ]
          },
          "metadata": {
            "tags": []
          }
        },
        {
          "output_type": "display_data",
          "data": {
            "text/html": [
              "<span style=\"color:blue\"> |-hidden_size: 40</span>"
            ],
            "text/plain": [
              "<IPython.core.display.HTML object>"
            ]
          },
          "metadata": {
            "tags": []
          }
        },
        {
          "output_type": "display_data",
          "data": {
            "text/html": [
              "<span style=\"color:cyan\"> |-learning_rate: 0.0009553859257850876</span>"
            ],
            "text/plain": [
              "<IPython.core.display.HTML object>"
            ]
          },
          "metadata": {
            "tags": []
          }
        },
        {
          "output_type": "display_data",
          "data": {
            "text/html": [
              "<span style=\"color:blue\"> |-pooling_0: max</span>"
            ],
            "text/plain": [
              "<IPython.core.display.HTML object>"
            ]
          },
          "metadata": {
            "tags": []
          }
        },
        {
          "output_type": "display_data",
          "data": {
            "text/html": [
              "<span style=\"color:cyan\"> |-pooling_1: max</span>"
            ],
            "text/plain": [
              "<IPython.core.display.HTML object>"
            ]
          },
          "metadata": {
            "tags": []
          }
        },
        {
          "output_type": "display_data",
          "data": {
            "text/html": [
              "<span style=\"color:blue\"> |-pooling_2: max</span>"
            ],
            "text/plain": [
              "<IPython.core.display.HTML object>"
            ]
          },
          "metadata": {
            "tags": []
          }
        },
        {
          "output_type": "display_data",
          "data": {
            "text/html": [
              "<span style=\"color:cyan\"> |-pooling_3: avg</span>"
            ],
            "text/plain": [
              "<IPython.core.display.HTML object>"
            ]
          },
          "metadata": {
            "tags": []
          }
        },
        {
          "output_type": "display_data",
          "data": {
            "text/html": [
              "<span style=\"color:blue\"> |-pooling_4: max</span>"
            ],
            "text/plain": [
              "<IPython.core.display.HTML object>"
            ]
          },
          "metadata": {
            "tags": []
          }
        },
        {
          "output_type": "display_data",
          "data": {
            "text/html": [
              "<span style=\"color:cyan\"> |-tuner/bracket: 2</span>"
            ],
            "text/plain": [
              "<IPython.core.display.HTML object>"
            ]
          },
          "metadata": {
            "tags": []
          }
        },
        {
          "output_type": "display_data",
          "data": {
            "text/html": [
              "<span style=\"color:blue\"> |-tuner/epochs: 3</span>"
            ],
            "text/plain": [
              "<IPython.core.display.HTML object>"
            ]
          },
          "metadata": {
            "tags": []
          }
        },
        {
          "output_type": "display_data",
          "data": {
            "text/html": [
              "<span style=\"color:cyan\"> |-tuner/initial_epoch: 0</span>"
            ],
            "text/plain": [
              "<IPython.core.display.HTML object>"
            ]
          },
          "metadata": {
            "tags": []
          }
        },
        {
          "output_type": "display_data",
          "data": {
            "text/html": [
              "<span style=\"color:blue\"> |-tuner/round: 0</span>"
            ],
            "text/plain": [
              "<IPython.core.display.HTML object>"
            ]
          },
          "metadata": {
            "tags": []
          }
        },
        {
          "output_type": "stream",
          "text": [
            "Epoch 1/3\n",
            "40/40 [==============================] - 2s 46ms/step - loss: 1.7072 - accuracy: 0.2126 - val_loss: 1.7674 - val_accuracy: 0.2462\n",
            "Epoch 2/3\n",
            "40/40 [==============================] - 1s 35ms/step - loss: 1.6158 - accuracy: 0.2176 - val_loss: 1.6742 - val_accuracy: 0.2362\n",
            "Epoch 3/3\n",
            "40/40 [==============================] - 1s 35ms/step - loss: 1.6108 - accuracy: 0.2314 - val_loss: 1.6417 - val_accuracy: 0.2462\n",
            "Epoch 1/3\n",
            "40/40 [==============================] - 2s 41ms/step - loss: 1.6960 - accuracy: 0.2176 - val_loss: 13.1011 - val_accuracy: 0.1508\n",
            "Epoch 2/3\n",
            "40/40 [==============================] - 1s 36ms/step - loss: 1.6236 - accuracy: 0.2151 - val_loss: 3.3822 - val_accuracy: 0.1508\n",
            "Epoch 3/3\n",
            "40/40 [==============================] - 1s 35ms/step - loss: 1.6133 - accuracy: 0.2189 - val_loss: 2.2184 - val_accuracy: 0.1709\n"
          ],
          "name": "stdout"
        },
        {
          "output_type": "display_data",
          "data": {
            "text/html": [
              "<span style=\"color:#4527A0\"><h1 style=\"font-size:18px\">Trial complete</h1></span>"
            ],
            "text/plain": [
              "<IPython.core.display.HTML object>"
            ]
          },
          "metadata": {
            "tags": []
          }
        },
        {
          "output_type": "display_data",
          "data": {
            "text/html": [
              "<span style=\"color:#4527A0\"><h1 style=\"font-size:18px\">Trial summary</h1></span>"
            ],
            "text/plain": [
              "<IPython.core.display.HTML object>"
            ]
          },
          "metadata": {
            "tags": []
          }
        },
        {
          "output_type": "display_data",
          "data": {
            "text/html": [
              "<span style=\"color:cyan\"> |-Trial ID: ed273029aa6acc2d62763e7facb74686</span>"
            ],
            "text/plain": [
              "<IPython.core.display.HTML object>"
            ]
          },
          "metadata": {
            "tags": []
          }
        },
        {
          "output_type": "display_data",
          "data": {
            "text/html": [
              "<span style=\"color:cyan\"> |-Score: 0.20854271203279495</span>"
            ],
            "text/plain": [
              "<IPython.core.display.HTML object>"
            ]
          },
          "metadata": {
            "tags": []
          }
        },
        {
          "output_type": "display_data",
          "data": {
            "text/html": [
              "<span style=\"color:cyan\"> |-Best step: 0</span>"
            ],
            "text/plain": [
              "<IPython.core.display.HTML object>"
            ]
          },
          "metadata": {
            "tags": []
          }
        },
        {
          "output_type": "display_data",
          "data": {
            "text/html": [
              "<span style=\"color:#7E57C2\"><h2 style=\"font-size:16px\">Hyperparameters:</h2></span>"
            ],
            "text/plain": [
              "<IPython.core.display.HTML object>"
            ]
          },
          "metadata": {
            "tags": []
          }
        },
        {
          "output_type": "display_data",
          "data": {
            "text/html": [
              "<span style=\"color:cyan\"> |-conv_blocks: 4</span>"
            ],
            "text/plain": [
              "<IPython.core.display.HTML object>"
            ]
          },
          "metadata": {
            "tags": []
          }
        },
        {
          "output_type": "display_data",
          "data": {
            "text/html": [
              "<span style=\"color:blue\"> |-dropout: 0.0</span>"
            ],
            "text/plain": [
              "<IPython.core.display.HTML object>"
            ]
          },
          "metadata": {
            "tags": []
          }
        },
        {
          "output_type": "display_data",
          "data": {
            "text/html": [
              "<span style=\"color:cyan\"> |-filters_0: 128</span>"
            ],
            "text/plain": [
              "<IPython.core.display.HTML object>"
            ]
          },
          "metadata": {
            "tags": []
          }
        },
        {
          "output_type": "display_data",
          "data": {
            "text/html": [
              "<span style=\"color:blue\"> |-filters_1: 64</span>"
            ],
            "text/plain": [
              "<IPython.core.display.HTML object>"
            ]
          },
          "metadata": {
            "tags": []
          }
        },
        {
          "output_type": "display_data",
          "data": {
            "text/html": [
              "<span style=\"color:cyan\"> |-filters_2: 96</span>"
            ],
            "text/plain": [
              "<IPython.core.display.HTML object>"
            ]
          },
          "metadata": {
            "tags": []
          }
        },
        {
          "output_type": "display_data",
          "data": {
            "text/html": [
              "<span style=\"color:blue\"> |-filters_3: 160</span>"
            ],
            "text/plain": [
              "<IPython.core.display.HTML object>"
            ]
          },
          "metadata": {
            "tags": []
          }
        },
        {
          "output_type": "display_data",
          "data": {
            "text/html": [
              "<span style=\"color:cyan\"> |-filters_4: 160</span>"
            ],
            "text/plain": [
              "<IPython.core.display.HTML object>"
            ]
          },
          "metadata": {
            "tags": []
          }
        },
        {
          "output_type": "display_data",
          "data": {
            "text/html": [
              "<span style=\"color:blue\"> |-hidden_size: 40</span>"
            ],
            "text/plain": [
              "<IPython.core.display.HTML object>"
            ]
          },
          "metadata": {
            "tags": []
          }
        },
        {
          "output_type": "display_data",
          "data": {
            "text/html": [
              "<span style=\"color:cyan\"> |-learning_rate: 0.001584132578436946</span>"
            ],
            "text/plain": [
              "<IPython.core.display.HTML object>"
            ]
          },
          "metadata": {
            "tags": []
          }
        },
        {
          "output_type": "display_data",
          "data": {
            "text/html": [
              "<span style=\"color:blue\"> |-pooling_0: avg</span>"
            ],
            "text/plain": [
              "<IPython.core.display.HTML object>"
            ]
          },
          "metadata": {
            "tags": []
          }
        },
        {
          "output_type": "display_data",
          "data": {
            "text/html": [
              "<span style=\"color:cyan\"> |-pooling_1: avg</span>"
            ],
            "text/plain": [
              "<IPython.core.display.HTML object>"
            ]
          },
          "metadata": {
            "tags": []
          }
        },
        {
          "output_type": "display_data",
          "data": {
            "text/html": [
              "<span style=\"color:blue\"> |-pooling_2: max</span>"
            ],
            "text/plain": [
              "<IPython.core.display.HTML object>"
            ]
          },
          "metadata": {
            "tags": []
          }
        },
        {
          "output_type": "display_data",
          "data": {
            "text/html": [
              "<span style=\"color:cyan\"> |-pooling_3: max</span>"
            ],
            "text/plain": [
              "<IPython.core.display.HTML object>"
            ]
          },
          "metadata": {
            "tags": []
          }
        },
        {
          "output_type": "display_data",
          "data": {
            "text/html": [
              "<span style=\"color:blue\"> |-pooling_4: max</span>"
            ],
            "text/plain": [
              "<IPython.core.display.HTML object>"
            ]
          },
          "metadata": {
            "tags": []
          }
        },
        {
          "output_type": "display_data",
          "data": {
            "text/html": [
              "<span style=\"color:cyan\"> |-tuner/bracket: 2</span>"
            ],
            "text/plain": [
              "<IPython.core.display.HTML object>"
            ]
          },
          "metadata": {
            "tags": []
          }
        },
        {
          "output_type": "display_data",
          "data": {
            "text/html": [
              "<span style=\"color:blue\"> |-tuner/epochs: 3</span>"
            ],
            "text/plain": [
              "<IPython.core.display.HTML object>"
            ]
          },
          "metadata": {
            "tags": []
          }
        },
        {
          "output_type": "display_data",
          "data": {
            "text/html": [
              "<span style=\"color:cyan\"> |-tuner/initial_epoch: 0</span>"
            ],
            "text/plain": [
              "<IPython.core.display.HTML object>"
            ]
          },
          "metadata": {
            "tags": []
          }
        },
        {
          "output_type": "display_data",
          "data": {
            "text/html": [
              "<span style=\"color:blue\"> |-tuner/round: 0</span>"
            ],
            "text/plain": [
              "<IPython.core.display.HTML object>"
            ]
          },
          "metadata": {
            "tags": []
          }
        },
        {
          "output_type": "stream",
          "text": [
            "Epoch 4/7\n",
            "40/40 [==============================] - 2s 40ms/step - loss: 1.7062 - accuracy: 0.2126 - val_loss: 1.5984 - val_accuracy: 0.2563\n",
            "Epoch 5/7\n",
            "40/40 [==============================] - 1s 32ms/step - loss: 1.6414 - accuracy: 0.2088 - val_loss: 1.6146 - val_accuracy: 0.2462\n",
            "Epoch 6/7\n",
            "40/40 [==============================] - 1s 32ms/step - loss: 1.6099 - accuracy: 0.2403 - val_loss: 1.6665 - val_accuracy: 0.2513\n",
            "Epoch 7/7\n",
            "40/40 [==============================] - 1s 32ms/step - loss: 1.6147 - accuracy: 0.2365 - val_loss: 1.7063 - val_accuracy: 0.1709\n",
            "Epoch 4/7\n",
            "40/40 [==============================] - 2s 40ms/step - loss: 1.7222 - accuracy: 0.2101 - val_loss: 1.6188 - val_accuracy: 0.2714\n",
            "Epoch 5/7\n",
            "40/40 [==============================] - 1s 32ms/step - loss: 1.6359 - accuracy: 0.2239 - val_loss: 1.6007 - val_accuracy: 0.2613\n",
            "Epoch 6/7\n",
            "40/40 [==============================] - 1s 32ms/step - loss: 1.6280 - accuracy: 0.1925 - val_loss: 1.6813 - val_accuracy: 0.2462\n",
            "Epoch 7/7\n",
            "40/40 [==============================] - 1s 32ms/step - loss: 1.6164 - accuracy: 0.2214 - val_loss: 1.6337 - val_accuracy: 0.2462\n"
          ],
          "name": "stdout"
        },
        {
          "output_type": "display_data",
          "data": {
            "text/html": [
              "<span style=\"color:#4527A0\"><h1 style=\"font-size:18px\">Trial complete</h1></span>"
            ],
            "text/plain": [
              "<IPython.core.display.HTML object>"
            ]
          },
          "metadata": {
            "tags": []
          }
        },
        {
          "output_type": "display_data",
          "data": {
            "text/html": [
              "<span style=\"color:#4527A0\"><h1 style=\"font-size:18px\">Trial summary</h1></span>"
            ],
            "text/plain": [
              "<IPython.core.display.HTML object>"
            ]
          },
          "metadata": {
            "tags": []
          }
        },
        {
          "output_type": "display_data",
          "data": {
            "text/html": [
              "<span style=\"color:cyan\"> |-Trial ID: 04ca2749f73515d9da61fdb9f3bb2461</span>"
            ],
            "text/plain": [
              "<IPython.core.display.HTML object>"
            ]
          },
          "metadata": {
            "tags": []
          }
        },
        {
          "output_type": "display_data",
          "data": {
            "text/html": [
              "<span style=\"color:cyan\"> |-Score: 0.2638190984725952</span>"
            ],
            "text/plain": [
              "<IPython.core.display.HTML object>"
            ]
          },
          "metadata": {
            "tags": []
          }
        },
        {
          "output_type": "display_data",
          "data": {
            "text/html": [
              "<span style=\"color:cyan\"> |-Best step: 0</span>"
            ],
            "text/plain": [
              "<IPython.core.display.HTML object>"
            ]
          },
          "metadata": {
            "tags": []
          }
        },
        {
          "output_type": "display_data",
          "data": {
            "text/html": [
              "<span style=\"color:#7E57C2\"><h2 style=\"font-size:16px\">Hyperparameters:</h2></span>"
            ],
            "text/plain": [
              "<IPython.core.display.HTML object>"
            ]
          },
          "metadata": {
            "tags": []
          }
        },
        {
          "output_type": "display_data",
          "data": {
            "text/html": [
              "<span style=\"color:cyan\"> |-conv_blocks: 5</span>"
            ],
            "text/plain": [
              "<IPython.core.display.HTML object>"
            ]
          },
          "metadata": {
            "tags": []
          }
        },
        {
          "output_type": "display_data",
          "data": {
            "text/html": [
              "<span style=\"color:blue\"> |-dropout: 0.1</span>"
            ],
            "text/plain": [
              "<IPython.core.display.HTML object>"
            ]
          },
          "metadata": {
            "tags": []
          }
        },
        {
          "output_type": "display_data",
          "data": {
            "text/html": [
              "<span style=\"color:cyan\"> |-filters_0: 96</span>"
            ],
            "text/plain": [
              "<IPython.core.display.HTML object>"
            ]
          },
          "metadata": {
            "tags": []
          }
        },
        {
          "output_type": "display_data",
          "data": {
            "text/html": [
              "<span style=\"color:blue\"> |-filters_1: 64</span>"
            ],
            "text/plain": [
              "<IPython.core.display.HTML object>"
            ]
          },
          "metadata": {
            "tags": []
          }
        },
        {
          "output_type": "display_data",
          "data": {
            "text/html": [
              "<span style=\"color:cyan\"> |-filters_2: 192</span>"
            ],
            "text/plain": [
              "<IPython.core.display.HTML object>"
            ]
          },
          "metadata": {
            "tags": []
          }
        },
        {
          "output_type": "display_data",
          "data": {
            "text/html": [
              "<span style=\"color:blue\"> |-filters_3: 32</span>"
            ],
            "text/plain": [
              "<IPython.core.display.HTML object>"
            ]
          },
          "metadata": {
            "tags": []
          }
        },
        {
          "output_type": "display_data",
          "data": {
            "text/html": [
              "<span style=\"color:cyan\"> |-filters_4: 96</span>"
            ],
            "text/plain": [
              "<IPython.core.display.HTML object>"
            ]
          },
          "metadata": {
            "tags": []
          }
        },
        {
          "output_type": "display_data",
          "data": {
            "text/html": [
              "<span style=\"color:blue\"> |-hidden_size: 90</span>"
            ],
            "text/plain": [
              "<IPython.core.display.HTML object>"
            ]
          },
          "metadata": {
            "tags": []
          }
        },
        {
          "output_type": "display_data",
          "data": {
            "text/html": [
              "<span style=\"color:cyan\"> |-learning_rate: 0.0012616129268124873</span>"
            ],
            "text/plain": [
              "<IPython.core.display.HTML object>"
            ]
          },
          "metadata": {
            "tags": []
          }
        },
        {
          "output_type": "display_data",
          "data": {
            "text/html": [
              "<span style=\"color:blue\"> |-pooling_0: max</span>"
            ],
            "text/plain": [
              "<IPython.core.display.HTML object>"
            ]
          },
          "metadata": {
            "tags": []
          }
        },
        {
          "output_type": "display_data",
          "data": {
            "text/html": [
              "<span style=\"color:cyan\"> |-pooling_1: avg</span>"
            ],
            "text/plain": [
              "<IPython.core.display.HTML object>"
            ]
          },
          "metadata": {
            "tags": []
          }
        },
        {
          "output_type": "display_data",
          "data": {
            "text/html": [
              "<span style=\"color:blue\"> |-pooling_2: avg</span>"
            ],
            "text/plain": [
              "<IPython.core.display.HTML object>"
            ]
          },
          "metadata": {
            "tags": []
          }
        },
        {
          "output_type": "display_data",
          "data": {
            "text/html": [
              "<span style=\"color:cyan\"> |-pooling_3: avg</span>"
            ],
            "text/plain": [
              "<IPython.core.display.HTML object>"
            ]
          },
          "metadata": {
            "tags": []
          }
        },
        {
          "output_type": "display_data",
          "data": {
            "text/html": [
              "<span style=\"color:blue\"> |-pooling_4: max</span>"
            ],
            "text/plain": [
              "<IPython.core.display.HTML object>"
            ]
          },
          "metadata": {
            "tags": []
          }
        },
        {
          "output_type": "display_data",
          "data": {
            "text/html": [
              "<span style=\"color:cyan\"> |-tuner/bracket: 2</span>"
            ],
            "text/plain": [
              "<IPython.core.display.HTML object>"
            ]
          },
          "metadata": {
            "tags": []
          }
        },
        {
          "output_type": "display_data",
          "data": {
            "text/html": [
              "<span style=\"color:blue\"> |-tuner/epochs: 7</span>"
            ],
            "text/plain": [
              "<IPython.core.display.HTML object>"
            ]
          },
          "metadata": {
            "tags": []
          }
        },
        {
          "output_type": "display_data",
          "data": {
            "text/html": [
              "<span style=\"color:cyan\"> |-tuner/initial_epoch: 3</span>"
            ],
            "text/plain": [
              "<IPython.core.display.HTML object>"
            ]
          },
          "metadata": {
            "tags": []
          }
        },
        {
          "output_type": "display_data",
          "data": {
            "text/html": [
              "<span style=\"color:blue\"> |-tuner/round: 1</span>"
            ],
            "text/plain": [
              "<IPython.core.display.HTML object>"
            ]
          },
          "metadata": {
            "tags": []
          }
        },
        {
          "output_type": "display_data",
          "data": {
            "text/html": [
              "<span style=\"color:cyan\"> |-tuner/trial_id: 7e70920df72c1159256fc5891f90e2c2</span>"
            ],
            "text/plain": [
              "<IPython.core.display.HTML object>"
            ]
          },
          "metadata": {
            "tags": []
          }
        },
        {
          "output_type": "stream",
          "text": [
            "Epoch 4/7\n",
            "40/40 [==============================] - 1s 30ms/step - loss: 1.6482 - accuracy: 0.1711 - val_loss: 1.6703 - val_accuracy: 0.2513\n",
            "Epoch 5/7\n",
            "40/40 [==============================] - 1s 22ms/step - loss: 1.6190 - accuracy: 0.1912 - val_loss: 1.6417 - val_accuracy: 0.1508\n",
            "Epoch 6/7\n",
            "40/40 [==============================] - 1s 23ms/step - loss: 1.6273 - accuracy: 0.1962 - val_loss: 1.6603 - val_accuracy: 0.2312\n",
            "Epoch 7/7\n",
            "40/40 [==============================] - 1s 24ms/step - loss: 1.6063 - accuracy: 0.2113 - val_loss: 1.7176 - val_accuracy: 0.2613\n",
            "Epoch 4/7\n",
            "40/40 [==============================] - 1s 28ms/step - loss: 1.6434 - accuracy: 0.2113 - val_loss: 2.3390 - val_accuracy: 0.1457\n",
            "Epoch 5/7\n",
            "40/40 [==============================] - 1s 22ms/step - loss: 1.6139 - accuracy: 0.2000 - val_loss: 2.6759 - val_accuracy: 0.1709\n",
            "Epoch 6/7\n",
            "40/40 [==============================] - 1s 22ms/step - loss: 1.6155 - accuracy: 0.1975 - val_loss: 2.2770 - val_accuracy: 0.2462\n",
            "Epoch 7/7\n",
            "40/40 [==============================] - 1s 22ms/step - loss: 1.6032 - accuracy: 0.2239 - val_loss: 1.7932 - val_accuracy: 0.2462\n"
          ],
          "name": "stdout"
        },
        {
          "output_type": "display_data",
          "data": {
            "text/html": [
              "<span style=\"color:#4527A0\"><h1 style=\"font-size:18px\">Trial complete</h1></span>"
            ],
            "text/plain": [
              "<IPython.core.display.HTML object>"
            ]
          },
          "metadata": {
            "tags": []
          }
        },
        {
          "output_type": "display_data",
          "data": {
            "text/html": [
              "<span style=\"color:#4527A0\"><h1 style=\"font-size:18px\">Trial summary</h1></span>"
            ],
            "text/plain": [
              "<IPython.core.display.HTML object>"
            ]
          },
          "metadata": {
            "tags": []
          }
        },
        {
          "output_type": "display_data",
          "data": {
            "text/html": [
              "<span style=\"color:cyan\"> |-Trial ID: f315b41e61b66763c90f76bd4b583116</span>"
            ],
            "text/plain": [
              "<IPython.core.display.HTML object>"
            ]
          },
          "metadata": {
            "tags": []
          }
        },
        {
          "output_type": "display_data",
          "data": {
            "text/html": [
              "<span style=\"color:cyan\"> |-Score: 0.25376883894205093</span>"
            ],
            "text/plain": [
              "<IPython.core.display.HTML object>"
            ]
          },
          "metadata": {
            "tags": []
          }
        },
        {
          "output_type": "display_data",
          "data": {
            "text/html": [
              "<span style=\"color:cyan\"> |-Best step: 0</span>"
            ],
            "text/plain": [
              "<IPython.core.display.HTML object>"
            ]
          },
          "metadata": {
            "tags": []
          }
        },
        {
          "output_type": "display_data",
          "data": {
            "text/html": [
              "<span style=\"color:#7E57C2\"><h2 style=\"font-size:16px\">Hyperparameters:</h2></span>"
            ],
            "text/plain": [
              "<IPython.core.display.HTML object>"
            ]
          },
          "metadata": {
            "tags": []
          }
        },
        {
          "output_type": "display_data",
          "data": {
            "text/html": [
              "<span style=\"color:cyan\"> |-conv_blocks: 4</span>"
            ],
            "text/plain": [
              "<IPython.core.display.HTML object>"
            ]
          },
          "metadata": {
            "tags": []
          }
        },
        {
          "output_type": "display_data",
          "data": {
            "text/html": [
              "<span style=\"color:blue\"> |-dropout: 0.1</span>"
            ],
            "text/plain": [
              "<IPython.core.display.HTML object>"
            ]
          },
          "metadata": {
            "tags": []
          }
        },
        {
          "output_type": "display_data",
          "data": {
            "text/html": [
              "<span style=\"color:cyan\"> |-filters_0: 64</span>"
            ],
            "text/plain": [
              "<IPython.core.display.HTML object>"
            ]
          },
          "metadata": {
            "tags": []
          }
        },
        {
          "output_type": "display_data",
          "data": {
            "text/html": [
              "<span style=\"color:blue\"> |-filters_1: 96</span>"
            ],
            "text/plain": [
              "<IPython.core.display.HTML object>"
            ]
          },
          "metadata": {
            "tags": []
          }
        },
        {
          "output_type": "display_data",
          "data": {
            "text/html": [
              "<span style=\"color:cyan\"> |-filters_2: 32</span>"
            ],
            "text/plain": [
              "<IPython.core.display.HTML object>"
            ]
          },
          "metadata": {
            "tags": []
          }
        },
        {
          "output_type": "display_data",
          "data": {
            "text/html": [
              "<span style=\"color:blue\"> |-filters_3: 32</span>"
            ],
            "text/plain": [
              "<IPython.core.display.HTML object>"
            ]
          },
          "metadata": {
            "tags": []
          }
        },
        {
          "output_type": "display_data",
          "data": {
            "text/html": [
              "<span style=\"color:cyan\"> |-hidden_size: 40</span>"
            ],
            "text/plain": [
              "<IPython.core.display.HTML object>"
            ]
          },
          "metadata": {
            "tags": []
          }
        },
        {
          "output_type": "display_data",
          "data": {
            "text/html": [
              "<span style=\"color:blue\"> |-learning_rate: 0.003706413051362313</span>"
            ],
            "text/plain": [
              "<IPython.core.display.HTML object>"
            ]
          },
          "metadata": {
            "tags": []
          }
        },
        {
          "output_type": "display_data",
          "data": {
            "text/html": [
              "<span style=\"color:cyan\"> |-pooling_0: avg</span>"
            ],
            "text/plain": [
              "<IPython.core.display.HTML object>"
            ]
          },
          "metadata": {
            "tags": []
          }
        },
        {
          "output_type": "display_data",
          "data": {
            "text/html": [
              "<span style=\"color:blue\"> |-pooling_1: max</span>"
            ],
            "text/plain": [
              "<IPython.core.display.HTML object>"
            ]
          },
          "metadata": {
            "tags": []
          }
        },
        {
          "output_type": "display_data",
          "data": {
            "text/html": [
              "<span style=\"color:cyan\"> |-pooling_2: max</span>"
            ],
            "text/plain": [
              "<IPython.core.display.HTML object>"
            ]
          },
          "metadata": {
            "tags": []
          }
        },
        {
          "output_type": "display_data",
          "data": {
            "text/html": [
              "<span style=\"color:blue\"> |-pooling_3: avg</span>"
            ],
            "text/plain": [
              "<IPython.core.display.HTML object>"
            ]
          },
          "metadata": {
            "tags": []
          }
        },
        {
          "output_type": "display_data",
          "data": {
            "text/html": [
              "<span style=\"color:cyan\"> |-tuner/bracket: 2</span>"
            ],
            "text/plain": [
              "<IPython.core.display.HTML object>"
            ]
          },
          "metadata": {
            "tags": []
          }
        },
        {
          "output_type": "display_data",
          "data": {
            "text/html": [
              "<span style=\"color:blue\"> |-tuner/epochs: 7</span>"
            ],
            "text/plain": [
              "<IPython.core.display.HTML object>"
            ]
          },
          "metadata": {
            "tags": []
          }
        },
        {
          "output_type": "display_data",
          "data": {
            "text/html": [
              "<span style=\"color:cyan\"> |-tuner/initial_epoch: 3</span>"
            ],
            "text/plain": [
              "<IPython.core.display.HTML object>"
            ]
          },
          "metadata": {
            "tags": []
          }
        },
        {
          "output_type": "display_data",
          "data": {
            "text/html": [
              "<span style=\"color:blue\"> |-tuner/round: 1</span>"
            ],
            "text/plain": [
              "<IPython.core.display.HTML object>"
            ]
          },
          "metadata": {
            "tags": []
          }
        },
        {
          "output_type": "display_data",
          "data": {
            "text/html": [
              "<span style=\"color:cyan\"> |-tuner/trial_id: 69df99f32350dfb7195e4213d01f9080</span>"
            ],
            "text/plain": [
              "<IPython.core.display.HTML object>"
            ]
          },
          "metadata": {
            "tags": []
          }
        },
        {
          "output_type": "stream",
          "text": [
            "Epoch 4/7\n",
            " 2/40 [>.............................] - ETA: 1s - loss: 1.7767 - accuracy: 0.1500WARNING:tensorflow:Callbacks method `on_train_batch_end` is slow compared to the batch time (batch time: 0.0226s vs `on_train_batch_end` time: 0.0361s). Check your callbacks.\n",
            "40/40 [==============================] - 3s 68ms/step - loss: 1.6761 - accuracy: 0.2453 - val_loss: 7.3758 - val_accuracy: 0.2462\n",
            "Epoch 5/7\n",
            "40/40 [==============================] - 3s 63ms/step - loss: 1.6126 - accuracy: 0.2151 - val_loss: 3.1400 - val_accuracy: 0.2563\n",
            "Epoch 6/7\n",
            "40/40 [==============================] - 2s 61ms/step - loss: 1.6158 - accuracy: 0.2289 - val_loss: 2.5780 - val_accuracy: 0.2261\n",
            "Epoch 7/7\n",
            "40/40 [==============================] - 2s 62ms/step - loss: 1.6099 - accuracy: 0.2063 - val_loss: 2.3108 - val_accuracy: 0.2462\n",
            "Epoch 4/7\n",
            " 2/40 [>.............................] - ETA: 1s - loss: 1.7522 - accuracy: 0.2500WARNING:tensorflow:Callbacks method `on_train_batch_end` is slow compared to the batch time (batch time: 0.0223s vs `on_train_batch_end` time: 0.0354s). Check your callbacks.\n",
            "40/40 [==============================] - 3s 67ms/step - loss: 1.6635 - accuracy: 0.2138 - val_loss: 3.4296 - val_accuracy: 0.1658\n",
            "Epoch 5/7\n",
            "40/40 [==============================] - 2s 62ms/step - loss: 1.6223 - accuracy: 0.1849 - val_loss: 1.7931 - val_accuracy: 0.1508\n",
            "Epoch 6/7\n",
            "40/40 [==============================] - 2s 62ms/step - loss: 1.6097 - accuracy: 0.2151 - val_loss: 1.6990 - val_accuracy: 0.1508\n",
            "Epoch 7/7\n",
            "40/40 [==============================] - 2s 62ms/step - loss: 1.6055 - accuracy: 0.2314 - val_loss: 1.7864 - val_accuracy: 0.1558\n"
          ],
          "name": "stdout"
        },
        {
          "output_type": "display_data",
          "data": {
            "text/html": [
              "<span style=\"color:#4527A0\"><h1 style=\"font-size:18px\">Trial complete</h1></span>"
            ],
            "text/plain": [
              "<IPython.core.display.HTML object>"
            ]
          },
          "metadata": {
            "tags": []
          }
        },
        {
          "output_type": "display_data",
          "data": {
            "text/html": [
              "<span style=\"color:#4527A0\"><h1 style=\"font-size:18px\">Trial summary</h1></span>"
            ],
            "text/plain": [
              "<IPython.core.display.HTML object>"
            ]
          },
          "metadata": {
            "tags": []
          }
        },
        {
          "output_type": "display_data",
          "data": {
            "text/html": [
              "<span style=\"color:cyan\"> |-Trial ID: 6bc6b7a38287feb9b23cd15403e75ea0</span>"
            ],
            "text/plain": [
              "<IPython.core.display.HTML object>"
            ]
          },
          "metadata": {
            "tags": []
          }
        },
        {
          "output_type": "display_data",
          "data": {
            "text/html": [
              "<span style=\"color:cyan\"> |-Score: 0.21105527877807617</span>"
            ],
            "text/plain": [
              "<IPython.core.display.HTML object>"
            ]
          },
          "metadata": {
            "tags": []
          }
        },
        {
          "output_type": "display_data",
          "data": {
            "text/html": [
              "<span style=\"color:cyan\"> |-Best step: 0</span>"
            ],
            "text/plain": [
              "<IPython.core.display.HTML object>"
            ]
          },
          "metadata": {
            "tags": []
          }
        },
        {
          "output_type": "display_data",
          "data": {
            "text/html": [
              "<span style=\"color:#7E57C2\"><h2 style=\"font-size:16px\">Hyperparameters:</h2></span>"
            ],
            "text/plain": [
              "<IPython.core.display.HTML object>"
            ]
          },
          "metadata": {
            "tags": []
          }
        },
        {
          "output_type": "display_data",
          "data": {
            "text/html": [
              "<span style=\"color:cyan\"> |-conv_blocks: 3</span>"
            ],
            "text/plain": [
              "<IPython.core.display.HTML object>"
            ]
          },
          "metadata": {
            "tags": []
          }
        },
        {
          "output_type": "display_data",
          "data": {
            "text/html": [
              "<span style=\"color:blue\"> |-dropout: 0.30000000000000004</span>"
            ],
            "text/plain": [
              "<IPython.core.display.HTML object>"
            ]
          },
          "metadata": {
            "tags": []
          }
        },
        {
          "output_type": "display_data",
          "data": {
            "text/html": [
              "<span style=\"color:cyan\"> |-filters_0: 160</span>"
            ],
            "text/plain": [
              "<IPython.core.display.HTML object>"
            ]
          },
          "metadata": {
            "tags": []
          }
        },
        {
          "output_type": "display_data",
          "data": {
            "text/html": [
              "<span style=\"color:blue\"> |-filters_1: 224</span>"
            ],
            "text/plain": [
              "<IPython.core.display.HTML object>"
            ]
          },
          "metadata": {
            "tags": []
          }
        },
        {
          "output_type": "display_data",
          "data": {
            "text/html": [
              "<span style=\"color:cyan\"> |-filters_2: 128</span>"
            ],
            "text/plain": [
              "<IPython.core.display.HTML object>"
            ]
          },
          "metadata": {
            "tags": []
          }
        },
        {
          "output_type": "display_data",
          "data": {
            "text/html": [
              "<span style=\"color:blue\"> |-filters_3: 256</span>"
            ],
            "text/plain": [
              "<IPython.core.display.HTML object>"
            ]
          },
          "metadata": {
            "tags": []
          }
        },
        {
          "output_type": "display_data",
          "data": {
            "text/html": [
              "<span style=\"color:cyan\"> |-hidden_size: 40</span>"
            ],
            "text/plain": [
              "<IPython.core.display.HTML object>"
            ]
          },
          "metadata": {
            "tags": []
          }
        },
        {
          "output_type": "display_data",
          "data": {
            "text/html": [
              "<span style=\"color:blue\"> |-learning_rate: 0.0027934251642032933</span>"
            ],
            "text/plain": [
              "<IPython.core.display.HTML object>"
            ]
          },
          "metadata": {
            "tags": []
          }
        },
        {
          "output_type": "display_data",
          "data": {
            "text/html": [
              "<span style=\"color:cyan\"> |-pooling_0: avg</span>"
            ],
            "text/plain": [
              "<IPython.core.display.HTML object>"
            ]
          },
          "metadata": {
            "tags": []
          }
        },
        {
          "output_type": "display_data",
          "data": {
            "text/html": [
              "<span style=\"color:blue\"> |-pooling_1: avg</span>"
            ],
            "text/plain": [
              "<IPython.core.display.HTML object>"
            ]
          },
          "metadata": {
            "tags": []
          }
        },
        {
          "output_type": "display_data",
          "data": {
            "text/html": [
              "<span style=\"color:cyan\"> |-pooling_2: avg</span>"
            ],
            "text/plain": [
              "<IPython.core.display.HTML object>"
            ]
          },
          "metadata": {
            "tags": []
          }
        },
        {
          "output_type": "display_data",
          "data": {
            "text/html": [
              "<span style=\"color:blue\"> |-pooling_3: max</span>"
            ],
            "text/plain": [
              "<IPython.core.display.HTML object>"
            ]
          },
          "metadata": {
            "tags": []
          }
        },
        {
          "output_type": "display_data",
          "data": {
            "text/html": [
              "<span style=\"color:cyan\"> |-tuner/bracket: 2</span>"
            ],
            "text/plain": [
              "<IPython.core.display.HTML object>"
            ]
          },
          "metadata": {
            "tags": []
          }
        },
        {
          "output_type": "display_data",
          "data": {
            "text/html": [
              "<span style=\"color:blue\"> |-tuner/epochs: 7</span>"
            ],
            "text/plain": [
              "<IPython.core.display.HTML object>"
            ]
          },
          "metadata": {
            "tags": []
          }
        },
        {
          "output_type": "display_data",
          "data": {
            "text/html": [
              "<span style=\"color:cyan\"> |-tuner/initial_epoch: 3</span>"
            ],
            "text/plain": [
              "<IPython.core.display.HTML object>"
            ]
          },
          "metadata": {
            "tags": []
          }
        },
        {
          "output_type": "display_data",
          "data": {
            "text/html": [
              "<span style=\"color:blue\"> |-tuner/round: 1</span>"
            ],
            "text/plain": [
              "<IPython.core.display.HTML object>"
            ]
          },
          "metadata": {
            "tags": []
          }
        },
        {
          "output_type": "display_data",
          "data": {
            "text/html": [
              "<span style=\"color:cyan\"> |-tuner/trial_id: ab24cf628794dc4d76537991500f4faa</span>"
            ],
            "text/plain": [
              "<IPython.core.display.HTML object>"
            ]
          },
          "metadata": {
            "tags": []
          }
        },
        {
          "output_type": "stream",
          "text": [
            "Epoch 4/7\n",
            "40/40 [==============================] - 2s 45ms/step - loss: 1.6356 - accuracy: 0.1862 - val_loss: 9.2143 - val_accuracy: 0.2010\n",
            "Epoch 5/7\n",
            "40/40 [==============================] - 1s 36ms/step - loss: 1.6144 - accuracy: 0.2088 - val_loss: 2.5861 - val_accuracy: 0.1709\n",
            "Epoch 6/7\n",
            "40/40 [==============================] - 2s 39ms/step - loss: 1.6144 - accuracy: 0.2415 - val_loss: 2.0746 - val_accuracy: 0.2312\n",
            "Epoch 7/7\n",
            "40/40 [==============================] - 2s 39ms/step - loss: 1.6146 - accuracy: 0.2038 - val_loss: 1.6892 - val_accuracy: 0.2462\n",
            "Epoch 4/7\n",
            "40/40 [==============================] - 2s 42ms/step - loss: 1.6454 - accuracy: 0.1899 - val_loss: 11.6589 - val_accuracy: 0.1709\n",
            "Epoch 5/7\n",
            "40/40 [==============================] - 1s 36ms/step - loss: 1.6123 - accuracy: 0.2189 - val_loss: 4.5661 - val_accuracy: 0.2462\n",
            "Epoch 6/7\n",
            "40/40 [==============================] - 1s 36ms/step - loss: 1.6123 - accuracy: 0.2151 - val_loss: 4.2669 - val_accuracy: 0.2462\n",
            "Epoch 7/7\n",
            "40/40 [==============================] - 1s 36ms/step - loss: 1.6036 - accuracy: 0.2302 - val_loss: 1.7849 - val_accuracy: 0.1608\n"
          ],
          "name": "stdout"
        },
        {
          "output_type": "display_data",
          "data": {
            "text/html": [
              "<span style=\"color:#4527A0\"><h1 style=\"font-size:18px\">Trial complete</h1></span>"
            ],
            "text/plain": [
              "<IPython.core.display.HTML object>"
            ]
          },
          "metadata": {
            "tags": []
          }
        },
        {
          "output_type": "display_data",
          "data": {
            "text/html": [
              "<span style=\"color:#4527A0\"><h1 style=\"font-size:18px\">Trial summary</h1></span>"
            ],
            "text/plain": [
              "<IPython.core.display.HTML object>"
            ]
          },
          "metadata": {
            "tags": []
          }
        },
        {
          "output_type": "display_data",
          "data": {
            "text/html": [
              "<span style=\"color:cyan\"> |-Trial ID: 9a8b5ab1fcecc62666ddd6fe760f7cbc</span>"
            ],
            "text/plain": [
              "<IPython.core.display.HTML object>"
            ]
          },
          "metadata": {
            "tags": []
          }
        },
        {
          "output_type": "display_data",
          "data": {
            "text/html": [
              "<span style=\"color:cyan\"> |-Score: 0.24623115360736847</span>"
            ],
            "text/plain": [
              "<IPython.core.display.HTML object>"
            ]
          },
          "metadata": {
            "tags": []
          }
        },
        {
          "output_type": "display_data",
          "data": {
            "text/html": [
              "<span style=\"color:cyan\"> |-Best step: 0</span>"
            ],
            "text/plain": [
              "<IPython.core.display.HTML object>"
            ]
          },
          "metadata": {
            "tags": []
          }
        },
        {
          "output_type": "display_data",
          "data": {
            "text/html": [
              "<span style=\"color:#7E57C2\"><h2 style=\"font-size:16px\">Hyperparameters:</h2></span>"
            ],
            "text/plain": [
              "<IPython.core.display.HTML object>"
            ]
          },
          "metadata": {
            "tags": []
          }
        },
        {
          "output_type": "display_data",
          "data": {
            "text/html": [
              "<span style=\"color:cyan\"> |-conv_blocks: 5</span>"
            ],
            "text/plain": [
              "<IPython.core.display.HTML object>"
            ]
          },
          "metadata": {
            "tags": []
          }
        },
        {
          "output_type": "display_data",
          "data": {
            "text/html": [
              "<span style=\"color:blue\"> |-dropout: 0.0</span>"
            ],
            "text/plain": [
              "<IPython.core.display.HTML object>"
            ]
          },
          "metadata": {
            "tags": []
          }
        },
        {
          "output_type": "display_data",
          "data": {
            "text/html": [
              "<span style=\"color:cyan\"> |-filters_0: 32</span>"
            ],
            "text/plain": [
              "<IPython.core.display.HTML object>"
            ]
          },
          "metadata": {
            "tags": []
          }
        },
        {
          "output_type": "display_data",
          "data": {
            "text/html": [
              "<span style=\"color:blue\"> |-filters_1: 256</span>"
            ],
            "text/plain": [
              "<IPython.core.display.HTML object>"
            ]
          },
          "metadata": {
            "tags": []
          }
        },
        {
          "output_type": "display_data",
          "data": {
            "text/html": [
              "<span style=\"color:cyan\"> |-filters_2: 256</span>"
            ],
            "text/plain": [
              "<IPython.core.display.HTML object>"
            ]
          },
          "metadata": {
            "tags": []
          }
        },
        {
          "output_type": "display_data",
          "data": {
            "text/html": [
              "<span style=\"color:blue\"> |-filters_3: 160</span>"
            ],
            "text/plain": [
              "<IPython.core.display.HTML object>"
            ]
          },
          "metadata": {
            "tags": []
          }
        },
        {
          "output_type": "display_data",
          "data": {
            "text/html": [
              "<span style=\"color:cyan\"> |-filters_4: 32</span>"
            ],
            "text/plain": [
              "<IPython.core.display.HTML object>"
            ]
          },
          "metadata": {
            "tags": []
          }
        },
        {
          "output_type": "display_data",
          "data": {
            "text/html": [
              "<span style=\"color:blue\"> |-hidden_size: 40</span>"
            ],
            "text/plain": [
              "<IPython.core.display.HTML object>"
            ]
          },
          "metadata": {
            "tags": []
          }
        },
        {
          "output_type": "display_data",
          "data": {
            "text/html": [
              "<span style=\"color:cyan\"> |-learning_rate: 0.0028410712033130328</span>"
            ],
            "text/plain": [
              "<IPython.core.display.HTML object>"
            ]
          },
          "metadata": {
            "tags": []
          }
        },
        {
          "output_type": "display_data",
          "data": {
            "text/html": [
              "<span style=\"color:blue\"> |-pooling_0: max</span>"
            ],
            "text/plain": [
              "<IPython.core.display.HTML object>"
            ]
          },
          "metadata": {
            "tags": []
          }
        },
        {
          "output_type": "display_data",
          "data": {
            "text/html": [
              "<span style=\"color:cyan\"> |-pooling_1: avg</span>"
            ],
            "text/plain": [
              "<IPython.core.display.HTML object>"
            ]
          },
          "metadata": {
            "tags": []
          }
        },
        {
          "output_type": "display_data",
          "data": {
            "text/html": [
              "<span style=\"color:blue\"> |-pooling_2: max</span>"
            ],
            "text/plain": [
              "<IPython.core.display.HTML object>"
            ]
          },
          "metadata": {
            "tags": []
          }
        },
        {
          "output_type": "display_data",
          "data": {
            "text/html": [
              "<span style=\"color:cyan\"> |-pooling_3: avg</span>"
            ],
            "text/plain": [
              "<IPython.core.display.HTML object>"
            ]
          },
          "metadata": {
            "tags": []
          }
        },
        {
          "output_type": "display_data",
          "data": {
            "text/html": [
              "<span style=\"color:blue\"> |-pooling_4: avg</span>"
            ],
            "text/plain": [
              "<IPython.core.display.HTML object>"
            ]
          },
          "metadata": {
            "tags": []
          }
        },
        {
          "output_type": "display_data",
          "data": {
            "text/html": [
              "<span style=\"color:cyan\"> |-tuner/bracket: 2</span>"
            ],
            "text/plain": [
              "<IPython.core.display.HTML object>"
            ]
          },
          "metadata": {
            "tags": []
          }
        },
        {
          "output_type": "display_data",
          "data": {
            "text/html": [
              "<span style=\"color:blue\"> |-tuner/epochs: 7</span>"
            ],
            "text/plain": [
              "<IPython.core.display.HTML object>"
            ]
          },
          "metadata": {
            "tags": []
          }
        },
        {
          "output_type": "display_data",
          "data": {
            "text/html": [
              "<span style=\"color:cyan\"> |-tuner/initial_epoch: 3</span>"
            ],
            "text/plain": [
              "<IPython.core.display.HTML object>"
            ]
          },
          "metadata": {
            "tags": []
          }
        },
        {
          "output_type": "display_data",
          "data": {
            "text/html": [
              "<span style=\"color:blue\"> |-tuner/round: 1</span>"
            ],
            "text/plain": [
              "<IPython.core.display.HTML object>"
            ]
          },
          "metadata": {
            "tags": []
          }
        },
        {
          "output_type": "display_data",
          "data": {
            "text/html": [
              "<span style=\"color:cyan\"> |-tuner/trial_id: 7d7621183019b2dc7d395ca1654e986e</span>"
            ],
            "text/plain": [
              "<IPython.core.display.HTML object>"
            ]
          },
          "metadata": {
            "tags": []
          }
        },
        {
          "output_type": "stream",
          "text": [
            "Epoch 8/20\n",
            "40/40 [==============================] - 2s 40ms/step - loss: 1.7150 - accuracy: 0.1799 - val_loss: 1.7729 - val_accuracy: 0.1759\n",
            "Epoch 9/20\n",
            "40/40 [==============================] - 1s 34ms/step - loss: 1.6431 - accuracy: 0.1950 - val_loss: 1.6162 - val_accuracy: 0.1859\n",
            "Epoch 10/20\n",
            "40/40 [==============================] - 1s 32ms/step - loss: 1.6281 - accuracy: 0.2113 - val_loss: 1.8038 - val_accuracy: 0.1457\n",
            "Epoch 11/20\n",
            "40/40 [==============================] - 1s 34ms/step - loss: 1.6243 - accuracy: 0.2063 - val_loss: 1.7221 - val_accuracy: 0.2462\n",
            "Epoch 12/20\n",
            "40/40 [==============================] - 1s 32ms/step - loss: 1.6039 - accuracy: 0.2340 - val_loss: 1.6649 - val_accuracy: 0.2462\n",
            "Epoch 13/20\n",
            "40/40 [==============================] - 1s 32ms/step - loss: 1.6129 - accuracy: 0.2189 - val_loss: 1.6425 - val_accuracy: 0.2412\n",
            "Epoch 14/20\n",
            "40/40 [==============================] - 1s 32ms/step - loss: 1.6124 - accuracy: 0.2340 - val_loss: 1.6733 - val_accuracy: 0.2412\n",
            "Epoch 15/20\n",
            "40/40 [==============================] - 1s 32ms/step - loss: 1.6148 - accuracy: 0.1975 - val_loss: 1.6618 - val_accuracy: 0.1407\n",
            "Epoch 16/20\n",
            "40/40 [==============================] - 1s 34ms/step - loss: 1.6076 - accuracy: 0.2252 - val_loss: 1.6288 - val_accuracy: 0.2563\n",
            "Epoch 17/20\n",
            "40/40 [==============================] - 1s 32ms/step - loss: 1.6063 - accuracy: 0.2252 - val_loss: 1.7086 - val_accuracy: 0.2261\n",
            "Epoch 18/20\n",
            "40/40 [==============================] - 1s 32ms/step - loss: 1.6030 - accuracy: 0.2239 - val_loss: 1.6463 - val_accuracy: 0.2010\n",
            "Epoch 19/20\n",
            "40/40 [==============================] - 1s 32ms/step - loss: 1.6068 - accuracy: 0.2352 - val_loss: 1.6704 - val_accuracy: 0.2261\n",
            "Epoch 20/20\n",
            "40/40 [==============================] - 1s 32ms/step - loss: 1.5978 - accuracy: 0.2541 - val_loss: 1.7052 - val_accuracy: 0.2312\n",
            "Epoch 8/20\n",
            "40/40 [==============================] - 2s 39ms/step - loss: 1.7048 - accuracy: 0.2063 - val_loss: 1.6147 - val_accuracy: 0.2462\n",
            "Epoch 9/20\n",
            "40/40 [==============================] - 1s 32ms/step - loss: 1.6601 - accuracy: 0.2101 - val_loss: 1.6219 - val_accuracy: 0.2462\n",
            "Epoch 10/20\n",
            "40/40 [==============================] - 1s 32ms/step - loss: 1.6189 - accuracy: 0.1987 - val_loss: 1.6418 - val_accuracy: 0.2362\n",
            "Epoch 11/20\n",
            "40/40 [==============================] - 1s 32ms/step - loss: 1.6336 - accuracy: 0.2201 - val_loss: 1.6585 - val_accuracy: 0.1508\n",
            "Epoch 12/20\n",
            "40/40 [==============================] - 1s 32ms/step - loss: 1.6271 - accuracy: 0.2075 - val_loss: 1.6759 - val_accuracy: 0.1759\n",
            "Epoch 13/20\n",
            "40/40 [==============================] - 1s 32ms/step - loss: 1.6219 - accuracy: 0.2000 - val_loss: 1.6647 - val_accuracy: 0.1508\n",
            "Epoch 14/20\n",
            "40/40 [==============================] - 1s 32ms/step - loss: 1.6093 - accuracy: 0.2327 - val_loss: 1.6568 - val_accuracy: 0.2462\n",
            "Epoch 15/20\n",
            "40/40 [==============================] - 1s 32ms/step - loss: 1.6043 - accuracy: 0.2403 - val_loss: 1.6309 - val_accuracy: 0.2161\n",
            "Epoch 16/20\n",
            "40/40 [==============================] - 1s 32ms/step - loss: 1.6124 - accuracy: 0.2189 - val_loss: 1.6420 - val_accuracy: 0.2462\n",
            "Epoch 17/20\n",
            "40/40 [==============================] - 1s 32ms/step - loss: 1.6017 - accuracy: 0.2352 - val_loss: 1.7121 - val_accuracy: 0.2462\n",
            "Epoch 18/20\n",
            "40/40 [==============================] - 1s 32ms/step - loss: 1.5981 - accuracy: 0.2314 - val_loss: 1.6676 - val_accuracy: 0.2412\n",
            "Epoch 19/20\n",
            "40/40 [==============================] - 1s 32ms/step - loss: 1.5794 - accuracy: 0.2805 - val_loss: 1.7637 - val_accuracy: 0.2161\n",
            "Epoch 20/20\n",
            "40/40 [==============================] - 1s 32ms/step - loss: 1.6072 - accuracy: 0.2289 - val_loss: 1.6388 - val_accuracy: 0.2362\n"
          ],
          "name": "stdout"
        },
        {
          "output_type": "display_data",
          "data": {
            "text/html": [
              "<span style=\"color:#4527A0\"><h1 style=\"font-size:18px\">Trial complete</h1></span>"
            ],
            "text/plain": [
              "<IPython.core.display.HTML object>"
            ]
          },
          "metadata": {
            "tags": []
          }
        },
        {
          "output_type": "display_data",
          "data": {
            "text/html": [
              "<span style=\"color:#4527A0\"><h1 style=\"font-size:18px\">Trial summary</h1></span>"
            ],
            "text/plain": [
              "<IPython.core.display.HTML object>"
            ]
          },
          "metadata": {
            "tags": []
          }
        },
        {
          "output_type": "display_data",
          "data": {
            "text/html": [
              "<span style=\"color:cyan\"> |-Trial ID: ad8aad82ae2384ee3807ab62c336a7cd</span>"
            ],
            "text/plain": [
              "<IPython.core.display.HTML object>"
            ]
          },
          "metadata": {
            "tags": []
          }
        },
        {
          "output_type": "display_data",
          "data": {
            "text/html": [
              "<span style=\"color:cyan\"> |-Score: 0.2512562796473503</span>"
            ],
            "text/plain": [
              "<IPython.core.display.HTML object>"
            ]
          },
          "metadata": {
            "tags": []
          }
        },
        {
          "output_type": "display_data",
          "data": {
            "text/html": [
              "<span style=\"color:cyan\"> |-Best step: 0</span>"
            ],
            "text/plain": [
              "<IPython.core.display.HTML object>"
            ]
          },
          "metadata": {
            "tags": []
          }
        },
        {
          "output_type": "display_data",
          "data": {
            "text/html": [
              "<span style=\"color:#7E57C2\"><h2 style=\"font-size:16px\">Hyperparameters:</h2></span>"
            ],
            "text/plain": [
              "<IPython.core.display.HTML object>"
            ]
          },
          "metadata": {
            "tags": []
          }
        },
        {
          "output_type": "display_data",
          "data": {
            "text/html": [
              "<span style=\"color:cyan\"> |-conv_blocks: 5</span>"
            ],
            "text/plain": [
              "<IPython.core.display.HTML object>"
            ]
          },
          "metadata": {
            "tags": []
          }
        },
        {
          "output_type": "display_data",
          "data": {
            "text/html": [
              "<span style=\"color:blue\"> |-dropout: 0.1</span>"
            ],
            "text/plain": [
              "<IPython.core.display.HTML object>"
            ]
          },
          "metadata": {
            "tags": []
          }
        },
        {
          "output_type": "display_data",
          "data": {
            "text/html": [
              "<span style=\"color:cyan\"> |-filters_0: 96</span>"
            ],
            "text/plain": [
              "<IPython.core.display.HTML object>"
            ]
          },
          "metadata": {
            "tags": []
          }
        },
        {
          "output_type": "display_data",
          "data": {
            "text/html": [
              "<span style=\"color:blue\"> |-filters_1: 64</span>"
            ],
            "text/plain": [
              "<IPython.core.display.HTML object>"
            ]
          },
          "metadata": {
            "tags": []
          }
        },
        {
          "output_type": "display_data",
          "data": {
            "text/html": [
              "<span style=\"color:cyan\"> |-filters_2: 192</span>"
            ],
            "text/plain": [
              "<IPython.core.display.HTML object>"
            ]
          },
          "metadata": {
            "tags": []
          }
        },
        {
          "output_type": "display_data",
          "data": {
            "text/html": [
              "<span style=\"color:blue\"> |-filters_3: 32</span>"
            ],
            "text/plain": [
              "<IPython.core.display.HTML object>"
            ]
          },
          "metadata": {
            "tags": []
          }
        },
        {
          "output_type": "display_data",
          "data": {
            "text/html": [
              "<span style=\"color:cyan\"> |-filters_4: 96</span>"
            ],
            "text/plain": [
              "<IPython.core.display.HTML object>"
            ]
          },
          "metadata": {
            "tags": []
          }
        },
        {
          "output_type": "display_data",
          "data": {
            "text/html": [
              "<span style=\"color:blue\"> |-hidden_size: 90</span>"
            ],
            "text/plain": [
              "<IPython.core.display.HTML object>"
            ]
          },
          "metadata": {
            "tags": []
          }
        },
        {
          "output_type": "display_data",
          "data": {
            "text/html": [
              "<span style=\"color:cyan\"> |-learning_rate: 0.0012616129268124873</span>"
            ],
            "text/plain": [
              "<IPython.core.display.HTML object>"
            ]
          },
          "metadata": {
            "tags": []
          }
        },
        {
          "output_type": "display_data",
          "data": {
            "text/html": [
              "<span style=\"color:blue\"> |-pooling_0: max</span>"
            ],
            "text/plain": [
              "<IPython.core.display.HTML object>"
            ]
          },
          "metadata": {
            "tags": []
          }
        },
        {
          "output_type": "display_data",
          "data": {
            "text/html": [
              "<span style=\"color:cyan\"> |-pooling_1: avg</span>"
            ],
            "text/plain": [
              "<IPython.core.display.HTML object>"
            ]
          },
          "metadata": {
            "tags": []
          }
        },
        {
          "output_type": "display_data",
          "data": {
            "text/html": [
              "<span style=\"color:blue\"> |-pooling_2: avg</span>"
            ],
            "text/plain": [
              "<IPython.core.display.HTML object>"
            ]
          },
          "metadata": {
            "tags": []
          }
        },
        {
          "output_type": "display_data",
          "data": {
            "text/html": [
              "<span style=\"color:cyan\"> |-pooling_3: avg</span>"
            ],
            "text/plain": [
              "<IPython.core.display.HTML object>"
            ]
          },
          "metadata": {
            "tags": []
          }
        },
        {
          "output_type": "display_data",
          "data": {
            "text/html": [
              "<span style=\"color:blue\"> |-pooling_4: max</span>"
            ],
            "text/plain": [
              "<IPython.core.display.HTML object>"
            ]
          },
          "metadata": {
            "tags": []
          }
        },
        {
          "output_type": "display_data",
          "data": {
            "text/html": [
              "<span style=\"color:cyan\"> |-tuner/bracket: 2</span>"
            ],
            "text/plain": [
              "<IPython.core.display.HTML object>"
            ]
          },
          "metadata": {
            "tags": []
          }
        },
        {
          "output_type": "display_data",
          "data": {
            "text/html": [
              "<span style=\"color:blue\"> |-tuner/epochs: 20</span>"
            ],
            "text/plain": [
              "<IPython.core.display.HTML object>"
            ]
          },
          "metadata": {
            "tags": []
          }
        },
        {
          "output_type": "display_data",
          "data": {
            "text/html": [
              "<span style=\"color:cyan\"> |-tuner/initial_epoch: 7</span>"
            ],
            "text/plain": [
              "<IPython.core.display.HTML object>"
            ]
          },
          "metadata": {
            "tags": []
          }
        },
        {
          "output_type": "display_data",
          "data": {
            "text/html": [
              "<span style=\"color:blue\"> |-tuner/round: 2</span>"
            ],
            "text/plain": [
              "<IPython.core.display.HTML object>"
            ]
          },
          "metadata": {
            "tags": []
          }
        },
        {
          "output_type": "display_data",
          "data": {
            "text/html": [
              "<span style=\"color:cyan\"> |-tuner/trial_id: 04ca2749f73515d9da61fdb9f3bb2461</span>"
            ],
            "text/plain": [
              "<IPython.core.display.HTML object>"
            ]
          },
          "metadata": {
            "tags": []
          }
        },
        {
          "output_type": "stream",
          "text": [
            "Epoch 8/20\n",
            "40/40 [==============================] - 1s 30ms/step - loss: 1.6534 - accuracy: 0.1962 - val_loss: 3.1127 - val_accuracy: 0.2412\n",
            "Epoch 9/20\n",
            "40/40 [==============================] - 1s 23ms/step - loss: 1.6343 - accuracy: 0.1874 - val_loss: 1.6202 - val_accuracy: 0.1709\n",
            "Epoch 10/20\n",
            "40/40 [==============================] - 1s 22ms/step - loss: 1.6196 - accuracy: 0.2050 - val_loss: 1.6920 - val_accuracy: 0.1508\n",
            "Epoch 11/20\n",
            "40/40 [==============================] - 1s 23ms/step - loss: 1.6171 - accuracy: 0.2050 - val_loss: 1.6415 - val_accuracy: 0.1558\n",
            "Epoch 12/20\n",
            "40/40 [==============================] - 1s 23ms/step - loss: 1.6171 - accuracy: 0.2050 - val_loss: 1.6069 - val_accuracy: 0.2060\n",
            "Epoch 13/20\n",
            "40/40 [==============================] - 1s 22ms/step - loss: 1.6099 - accuracy: 0.2302 - val_loss: 1.6122 - val_accuracy: 0.2412\n",
            "Epoch 14/20\n",
            "40/40 [==============================] - 1s 24ms/step - loss: 1.6131 - accuracy: 0.1937 - val_loss: 1.6119 - val_accuracy: 0.2563\n",
            "Epoch 15/20\n",
            "40/40 [==============================] - 1s 24ms/step - loss: 1.6089 - accuracy: 0.2113 - val_loss: 1.6166 - val_accuracy: 0.2613\n",
            "Epoch 16/20\n",
            "40/40 [==============================] - 1s 23ms/step - loss: 1.6080 - accuracy: 0.2226 - val_loss: 1.6200 - val_accuracy: 0.2111\n",
            "Epoch 17/20\n",
            "40/40 [==============================] - 1s 22ms/step - loss: 1.6070 - accuracy: 0.2138 - val_loss: 1.6115 - val_accuracy: 0.2211\n",
            "Epoch 18/20\n",
            "40/40 [==============================] - 1s 22ms/step - loss: 1.6064 - accuracy: 0.2164 - val_loss: 1.6289 - val_accuracy: 0.1658\n",
            "Epoch 19/20\n",
            "40/40 [==============================] - 1s 22ms/step - loss: 1.5955 - accuracy: 0.2541 - val_loss: 1.6229 - val_accuracy: 0.2513\n",
            "Epoch 20/20\n",
            "40/40 [==============================] - 1s 23ms/step - loss: 1.5998 - accuracy: 0.2289 - val_loss: 1.6412 - val_accuracy: 0.2161\n",
            "Epoch 8/20\n",
            "40/40 [==============================] - 1s 28ms/step - loss: 1.6394 - accuracy: 0.2000 - val_loss: 1.7674 - val_accuracy: 0.1558\n",
            "Epoch 9/20\n",
            "40/40 [==============================] - 1s 22ms/step - loss: 1.6166 - accuracy: 0.2013 - val_loss: 1.6086 - val_accuracy: 0.2513\n",
            "Epoch 10/20\n",
            "40/40 [==============================] - 1s 23ms/step - loss: 1.6181 - accuracy: 0.2025 - val_loss: 1.6569 - val_accuracy: 0.1859\n",
            "Epoch 11/20\n",
            "40/40 [==============================] - 1s 24ms/step - loss: 1.6133 - accuracy: 0.2025 - val_loss: 1.6852 - val_accuracy: 0.2714\n",
            "Epoch 12/20\n",
            "40/40 [==============================] - 1s 22ms/step - loss: 1.6047 - accuracy: 0.2214 - val_loss: 1.6763 - val_accuracy: 0.2362\n",
            "Epoch 13/20\n",
            "40/40 [==============================] - 1s 22ms/step - loss: 1.6014 - accuracy: 0.2314 - val_loss: 1.7073 - val_accuracy: 0.2412\n",
            "Epoch 14/20\n",
            "40/40 [==============================] - 1s 22ms/step - loss: 1.6019 - accuracy: 0.2277 - val_loss: 1.6738 - val_accuracy: 0.2563\n",
            "Epoch 15/20\n",
            "40/40 [==============================] - 1s 23ms/step - loss: 1.5970 - accuracy: 0.2101 - val_loss: 1.6573 - val_accuracy: 0.2563\n",
            "Epoch 16/20\n",
            "40/40 [==============================] - 1s 22ms/step - loss: 1.6010 - accuracy: 0.2365 - val_loss: 1.6913 - val_accuracy: 0.2613\n",
            "Epoch 17/20\n",
            "40/40 [==============================] - 1s 23ms/step - loss: 1.6036 - accuracy: 0.2101 - val_loss: 1.6234 - val_accuracy: 0.2312\n",
            "Epoch 18/20\n",
            "40/40 [==============================] - 1s 23ms/step - loss: 1.5951 - accuracy: 0.2390 - val_loss: 1.6411 - val_accuracy: 0.2412\n",
            "Epoch 19/20\n",
            "40/40 [==============================] - 1s 23ms/step - loss: 1.5969 - accuracy: 0.2465 - val_loss: 1.6913 - val_accuracy: 0.1910\n",
            "Epoch 20/20\n",
            "40/40 [==============================] - 1s 22ms/step - loss: 1.5900 - accuracy: 0.2629 - val_loss: 1.6400 - val_accuracy: 0.2060\n"
          ],
          "name": "stdout"
        },
        {
          "output_type": "display_data",
          "data": {
            "text/html": [
              "<span style=\"color:#4527A0\"><h1 style=\"font-size:18px\">Trial complete</h1></span>"
            ],
            "text/plain": [
              "<IPython.core.display.HTML object>"
            ]
          },
          "metadata": {
            "tags": []
          }
        },
        {
          "output_type": "display_data",
          "data": {
            "text/html": [
              "<span style=\"color:#4527A0\"><h1 style=\"font-size:18px\">Trial summary</h1></span>"
            ],
            "text/plain": [
              "<IPython.core.display.HTML object>"
            ]
          },
          "metadata": {
            "tags": []
          }
        },
        {
          "output_type": "display_data",
          "data": {
            "text/html": [
              "<span style=\"color:cyan\"> |-Trial ID: f6e3c4a94aadddfa482f62e309f51ba0</span>"
            ],
            "text/plain": [
              "<IPython.core.display.HTML object>"
            ]
          },
          "metadata": {
            "tags": []
          }
        },
        {
          "output_type": "display_data",
          "data": {
            "text/html": [
              "<span style=\"color:cyan\"> |-Score: 0.26633165776729584</span>"
            ],
            "text/plain": [
              "<IPython.core.display.HTML object>"
            ]
          },
          "metadata": {
            "tags": []
          }
        },
        {
          "output_type": "display_data",
          "data": {
            "text/html": [
              "<span style=\"color:cyan\"> |-Best step: 0</span>"
            ],
            "text/plain": [
              "<IPython.core.display.HTML object>"
            ]
          },
          "metadata": {
            "tags": []
          }
        },
        {
          "output_type": "display_data",
          "data": {
            "text/html": [
              "<span style=\"color:#7E57C2\"><h2 style=\"font-size:16px\">Hyperparameters:</h2></span>"
            ],
            "text/plain": [
              "<IPython.core.display.HTML object>"
            ]
          },
          "metadata": {
            "tags": []
          }
        },
        {
          "output_type": "display_data",
          "data": {
            "text/html": [
              "<span style=\"color:cyan\"> |-conv_blocks: 4</span>"
            ],
            "text/plain": [
              "<IPython.core.display.HTML object>"
            ]
          },
          "metadata": {
            "tags": []
          }
        },
        {
          "output_type": "display_data",
          "data": {
            "text/html": [
              "<span style=\"color:blue\"> |-dropout: 0.1</span>"
            ],
            "text/plain": [
              "<IPython.core.display.HTML object>"
            ]
          },
          "metadata": {
            "tags": []
          }
        },
        {
          "output_type": "display_data",
          "data": {
            "text/html": [
              "<span style=\"color:cyan\"> |-filters_0: 64</span>"
            ],
            "text/plain": [
              "<IPython.core.display.HTML object>"
            ]
          },
          "metadata": {
            "tags": []
          }
        },
        {
          "output_type": "display_data",
          "data": {
            "text/html": [
              "<span style=\"color:blue\"> |-filters_1: 96</span>"
            ],
            "text/plain": [
              "<IPython.core.display.HTML object>"
            ]
          },
          "metadata": {
            "tags": []
          }
        },
        {
          "output_type": "display_data",
          "data": {
            "text/html": [
              "<span style=\"color:cyan\"> |-filters_2: 32</span>"
            ],
            "text/plain": [
              "<IPython.core.display.HTML object>"
            ]
          },
          "metadata": {
            "tags": []
          }
        },
        {
          "output_type": "display_data",
          "data": {
            "text/html": [
              "<span style=\"color:blue\"> |-filters_3: 32</span>"
            ],
            "text/plain": [
              "<IPython.core.display.HTML object>"
            ]
          },
          "metadata": {
            "tags": []
          }
        },
        {
          "output_type": "display_data",
          "data": {
            "text/html": [
              "<span style=\"color:cyan\"> |-hidden_size: 40</span>"
            ],
            "text/plain": [
              "<IPython.core.display.HTML object>"
            ]
          },
          "metadata": {
            "tags": []
          }
        },
        {
          "output_type": "display_data",
          "data": {
            "text/html": [
              "<span style=\"color:blue\"> |-learning_rate: 0.003706413051362313</span>"
            ],
            "text/plain": [
              "<IPython.core.display.HTML object>"
            ]
          },
          "metadata": {
            "tags": []
          }
        },
        {
          "output_type": "display_data",
          "data": {
            "text/html": [
              "<span style=\"color:cyan\"> |-pooling_0: avg</span>"
            ],
            "text/plain": [
              "<IPython.core.display.HTML object>"
            ]
          },
          "metadata": {
            "tags": []
          }
        },
        {
          "output_type": "display_data",
          "data": {
            "text/html": [
              "<span style=\"color:blue\"> |-pooling_1: max</span>"
            ],
            "text/plain": [
              "<IPython.core.display.HTML object>"
            ]
          },
          "metadata": {
            "tags": []
          }
        },
        {
          "output_type": "display_data",
          "data": {
            "text/html": [
              "<span style=\"color:cyan\"> |-pooling_2: max</span>"
            ],
            "text/plain": [
              "<IPython.core.display.HTML object>"
            ]
          },
          "metadata": {
            "tags": []
          }
        },
        {
          "output_type": "display_data",
          "data": {
            "text/html": [
              "<span style=\"color:blue\"> |-pooling_3: avg</span>"
            ],
            "text/plain": [
              "<IPython.core.display.HTML object>"
            ]
          },
          "metadata": {
            "tags": []
          }
        },
        {
          "output_type": "display_data",
          "data": {
            "text/html": [
              "<span style=\"color:cyan\"> |-tuner/bracket: 2</span>"
            ],
            "text/plain": [
              "<IPython.core.display.HTML object>"
            ]
          },
          "metadata": {
            "tags": []
          }
        },
        {
          "output_type": "display_data",
          "data": {
            "text/html": [
              "<span style=\"color:blue\"> |-tuner/epochs: 20</span>"
            ],
            "text/plain": [
              "<IPython.core.display.HTML object>"
            ]
          },
          "metadata": {
            "tags": []
          }
        },
        {
          "output_type": "display_data",
          "data": {
            "text/html": [
              "<span style=\"color:cyan\"> |-tuner/initial_epoch: 7</span>"
            ],
            "text/plain": [
              "<IPython.core.display.HTML object>"
            ]
          },
          "metadata": {
            "tags": []
          }
        },
        {
          "output_type": "display_data",
          "data": {
            "text/html": [
              "<span style=\"color:blue\"> |-tuner/round: 2</span>"
            ],
            "text/plain": [
              "<IPython.core.display.HTML object>"
            ]
          },
          "metadata": {
            "tags": []
          }
        },
        {
          "output_type": "display_data",
          "data": {
            "text/html": [
              "<span style=\"color:cyan\"> |-tuner/trial_id: f315b41e61b66763c90f76bd4b583116</span>"
            ],
            "text/plain": [
              "<IPython.core.display.HTML object>"
            ]
          },
          "metadata": {
            "tags": []
          }
        },
        {
          "output_type": "stream",
          "text": [
            "Epoch 1/7\n",
            "40/40 [==============================] - 2s 39ms/step - loss: 1.7225 - accuracy: 0.1925 - val_loss: 40.8915 - val_accuracy: 0.1709\n",
            "Epoch 2/7\n",
            "40/40 [==============================] - 1s 32ms/step - loss: 1.6225 - accuracy: 0.1836 - val_loss: 1.6835 - val_accuracy: 0.1809\n",
            "Epoch 3/7\n",
            "40/40 [==============================] - 1s 30ms/step - loss: 1.6106 - accuracy: 0.2151 - val_loss: 1.6148 - val_accuracy: 0.1709\n",
            "Epoch 4/7\n",
            "40/40 [==============================] - 1s 30ms/step - loss: 1.6081 - accuracy: 0.2050 - val_loss: 1.6156 - val_accuracy: 0.1759\n",
            "Epoch 5/7\n",
            "40/40 [==============================] - 1s 32ms/step - loss: 1.6069 - accuracy: 0.2252 - val_loss: 1.6236 - val_accuracy: 0.2161\n",
            "Epoch 6/7\n",
            "40/40 [==============================] - 1s 30ms/step - loss: 1.6000 - accuracy: 0.2314 - val_loss: 1.6230 - val_accuracy: 0.1709\n",
            "Epoch 7/7\n",
            "40/40 [==============================] - 1s 30ms/step - loss: 1.6102 - accuracy: 0.2176 - val_loss: 1.6211 - val_accuracy: 0.1709\n",
            "Epoch 1/7\n",
            "40/40 [==============================] - 1s 36ms/step - loss: 1.6940 - accuracy: 0.1711 - val_loss: 38.3352 - val_accuracy: 0.1709\n",
            "Epoch 2/7\n",
            "40/40 [==============================] - 1s 30ms/step - loss: 1.6139 - accuracy: 0.1836 - val_loss: 1.6137 - val_accuracy: 0.1709\n",
            "Epoch 3/7\n",
            "40/40 [==============================] - 1s 30ms/step - loss: 1.6089 - accuracy: 0.2201 - val_loss: 1.6161 - val_accuracy: 0.1709\n",
            "Epoch 4/7\n",
            "40/40 [==============================] - 1s 30ms/step - loss: 1.6116 - accuracy: 0.2151 - val_loss: 1.6105 - val_accuracy: 0.1859\n",
            "Epoch 5/7\n",
            "40/40 [==============================] - 1s 30ms/step - loss: 1.6104 - accuracy: 0.2164 - val_loss: 1.6124 - val_accuracy: 0.1910\n",
            "Epoch 6/7\n",
            "40/40 [==============================] - 1s 30ms/step - loss: 1.6062 - accuracy: 0.2214 - val_loss: 1.6171 - val_accuracy: 0.1859\n",
            "Epoch 7/7\n",
            "40/40 [==============================] - 1s 30ms/step - loss: 1.6100 - accuracy: 0.2264 - val_loss: 1.6193 - val_accuracy: 0.1709\n"
          ],
          "name": "stdout"
        },
        {
          "output_type": "display_data",
          "data": {
            "text/html": [
              "<span style=\"color:#4527A0\"><h1 style=\"font-size:18px\">Trial complete</h1></span>"
            ],
            "text/plain": [
              "<IPython.core.display.HTML object>"
            ]
          },
          "metadata": {
            "tags": []
          }
        },
        {
          "output_type": "display_data",
          "data": {
            "text/html": [
              "<span style=\"color:#4527A0\"><h1 style=\"font-size:18px\">Trial summary</h1></span>"
            ],
            "text/plain": [
              "<IPython.core.display.HTML object>"
            ]
          },
          "metadata": {
            "tags": []
          }
        },
        {
          "output_type": "display_data",
          "data": {
            "text/html": [
              "<span style=\"color:cyan\"> |-Trial ID: f9f523fdaa5836387ec0633c3d3e9722</span>"
            ],
            "text/plain": [
              "<IPython.core.display.HTML object>"
            ]
          },
          "metadata": {
            "tags": []
          }
        },
        {
          "output_type": "display_data",
          "data": {
            "text/html": [
              "<span style=\"color:cyan\"> |-Score: 0.2035175859928131</span>"
            ],
            "text/plain": [
              "<IPython.core.display.HTML object>"
            ]
          },
          "metadata": {
            "tags": []
          }
        },
        {
          "output_type": "display_data",
          "data": {
            "text/html": [
              "<span style=\"color:cyan\"> |-Best step: 0</span>"
            ],
            "text/plain": [
              "<IPython.core.display.HTML object>"
            ]
          },
          "metadata": {
            "tags": []
          }
        },
        {
          "output_type": "display_data",
          "data": {
            "text/html": [
              "<span style=\"color:#7E57C2\"><h2 style=\"font-size:16px\">Hyperparameters:</h2></span>"
            ],
            "text/plain": [
              "<IPython.core.display.HTML object>"
            ]
          },
          "metadata": {
            "tags": []
          }
        },
        {
          "output_type": "display_data",
          "data": {
            "text/html": [
              "<span style=\"color:cyan\"> |-conv_blocks: 4</span>"
            ],
            "text/plain": [
              "<IPython.core.display.HTML object>"
            ]
          },
          "metadata": {
            "tags": []
          }
        },
        {
          "output_type": "display_data",
          "data": {
            "text/html": [
              "<span style=\"color:blue\"> |-dropout: 0.1</span>"
            ],
            "text/plain": [
              "<IPython.core.display.HTML object>"
            ]
          },
          "metadata": {
            "tags": []
          }
        },
        {
          "output_type": "display_data",
          "data": {
            "text/html": [
              "<span style=\"color:cyan\"> |-filters_0: 64</span>"
            ],
            "text/plain": [
              "<IPython.core.display.HTML object>"
            ]
          },
          "metadata": {
            "tags": []
          }
        },
        {
          "output_type": "display_data",
          "data": {
            "text/html": [
              "<span style=\"color:blue\"> |-filters_1: 160</span>"
            ],
            "text/plain": [
              "<IPython.core.display.HTML object>"
            ]
          },
          "metadata": {
            "tags": []
          }
        },
        {
          "output_type": "display_data",
          "data": {
            "text/html": [
              "<span style=\"color:cyan\"> |-filters_2: 128</span>"
            ],
            "text/plain": [
              "<IPython.core.display.HTML object>"
            ]
          },
          "metadata": {
            "tags": []
          }
        },
        {
          "output_type": "display_data",
          "data": {
            "text/html": [
              "<span style=\"color:blue\"> |-filters_3: 160</span>"
            ],
            "text/plain": [
              "<IPython.core.display.HTML object>"
            ]
          },
          "metadata": {
            "tags": []
          }
        },
        {
          "output_type": "display_data",
          "data": {
            "text/html": [
              "<span style=\"color:cyan\"> |-filters_4: 128</span>"
            ],
            "text/plain": [
              "<IPython.core.display.HTML object>"
            ]
          },
          "metadata": {
            "tags": []
          }
        },
        {
          "output_type": "display_data",
          "data": {
            "text/html": [
              "<span style=\"color:blue\"> |-hidden_size: 100</span>"
            ],
            "text/plain": [
              "<IPython.core.display.HTML object>"
            ]
          },
          "metadata": {
            "tags": []
          }
        },
        {
          "output_type": "display_data",
          "data": {
            "text/html": [
              "<span style=\"color:cyan\"> |-learning_rate: 0.008675558408876972</span>"
            ],
            "text/plain": [
              "<IPython.core.display.HTML object>"
            ]
          },
          "metadata": {
            "tags": []
          }
        },
        {
          "output_type": "display_data",
          "data": {
            "text/html": [
              "<span style=\"color:blue\"> |-pooling_0: max</span>"
            ],
            "text/plain": [
              "<IPython.core.display.HTML object>"
            ]
          },
          "metadata": {
            "tags": []
          }
        },
        {
          "output_type": "display_data",
          "data": {
            "text/html": [
              "<span style=\"color:cyan\"> |-pooling_1: avg</span>"
            ],
            "text/plain": [
              "<IPython.core.display.HTML object>"
            ]
          },
          "metadata": {
            "tags": []
          }
        },
        {
          "output_type": "display_data",
          "data": {
            "text/html": [
              "<span style=\"color:blue\"> |-pooling_2: max</span>"
            ],
            "text/plain": [
              "<IPython.core.display.HTML object>"
            ]
          },
          "metadata": {
            "tags": []
          }
        },
        {
          "output_type": "display_data",
          "data": {
            "text/html": [
              "<span style=\"color:cyan\"> |-pooling_3: avg</span>"
            ],
            "text/plain": [
              "<IPython.core.display.HTML object>"
            ]
          },
          "metadata": {
            "tags": []
          }
        },
        {
          "output_type": "display_data",
          "data": {
            "text/html": [
              "<span style=\"color:blue\"> |-pooling_4: max</span>"
            ],
            "text/plain": [
              "<IPython.core.display.HTML object>"
            ]
          },
          "metadata": {
            "tags": []
          }
        },
        {
          "output_type": "display_data",
          "data": {
            "text/html": [
              "<span style=\"color:cyan\"> |-tuner/bracket: 1</span>"
            ],
            "text/plain": [
              "<IPython.core.display.HTML object>"
            ]
          },
          "metadata": {
            "tags": []
          }
        },
        {
          "output_type": "display_data",
          "data": {
            "text/html": [
              "<span style=\"color:blue\"> |-tuner/epochs: 7</span>"
            ],
            "text/plain": [
              "<IPython.core.display.HTML object>"
            ]
          },
          "metadata": {
            "tags": []
          }
        },
        {
          "output_type": "display_data",
          "data": {
            "text/html": [
              "<span style=\"color:cyan\"> |-tuner/initial_epoch: 0</span>"
            ],
            "text/plain": [
              "<IPython.core.display.HTML object>"
            ]
          },
          "metadata": {
            "tags": []
          }
        },
        {
          "output_type": "display_data",
          "data": {
            "text/html": [
              "<span style=\"color:blue\"> |-tuner/round: 0</span>"
            ],
            "text/plain": [
              "<IPython.core.display.HTML object>"
            ]
          },
          "metadata": {
            "tags": []
          }
        },
        {
          "output_type": "stream",
          "text": [
            "Epoch 1/7\n",
            "40/40 [==============================] - 3s 66ms/step - loss: 1.7861 - accuracy: 0.2075 - val_loss: 13.8661 - val_accuracy: 0.1709\n",
            "Epoch 2/7\n",
            "40/40 [==============================] - 2s 57ms/step - loss: 1.6243 - accuracy: 0.1987 - val_loss: 5.0011 - val_accuracy: 0.2462\n",
            "Epoch 3/7\n",
            "40/40 [==============================] - 2s 58ms/step - loss: 1.6097 - accuracy: 0.2075 - val_loss: 3.8638 - val_accuracy: 0.2513\n",
            "Epoch 4/7\n",
            "40/40 [==============================] - 2s 55ms/step - loss: 1.6175 - accuracy: 0.1824 - val_loss: 3.1200 - val_accuracy: 0.1508\n",
            "Epoch 5/7\n",
            "40/40 [==============================] - 2s 54ms/step - loss: 1.6042 - accuracy: 0.2013 - val_loss: 2.4135 - val_accuracy: 0.2513\n",
            "Epoch 6/7\n",
            "40/40 [==============================] - 2s 54ms/step - loss: 1.6090 - accuracy: 0.2138 - val_loss: 2.3696 - val_accuracy: 0.1608\n",
            "Epoch 7/7\n",
            "40/40 [==============================] - 2s 53ms/step - loss: 1.6068 - accuracy: 0.2189 - val_loss: 1.6596 - val_accuracy: 0.2312\n",
            "Epoch 1/7\n",
            "40/40 [==============================] - 2s 62ms/step - loss: 1.7560 - accuracy: 0.2164 - val_loss: 5.4122 - val_accuracy: 0.2613\n",
            "Epoch 2/7\n",
            "40/40 [==============================] - 2s 53ms/step - loss: 1.6279 - accuracy: 0.1572 - val_loss: 1.6261 - val_accuracy: 0.1457\n",
            "Epoch 3/7\n",
            "40/40 [==============================] - 2s 53ms/step - loss: 1.6101 - accuracy: 0.2214 - val_loss: 1.6443 - val_accuracy: 0.1508\n",
            "Epoch 4/7\n",
            "40/40 [==============================] - 2s 53ms/step - loss: 1.6075 - accuracy: 0.2226 - val_loss: 1.6362 - val_accuracy: 0.2462\n",
            "Epoch 5/7\n",
            "40/40 [==============================] - 2s 53ms/step - loss: 1.6018 - accuracy: 0.2314 - val_loss: 1.6317 - val_accuracy: 0.2412\n",
            "Epoch 6/7\n",
            "40/40 [==============================] - 2s 53ms/step - loss: 1.6072 - accuracy: 0.2113 - val_loss: 1.6349 - val_accuracy: 0.2513\n",
            "Epoch 7/7\n",
            "40/40 [==============================] - 2s 53ms/step - loss: 1.6036 - accuracy: 0.2201 - val_loss: 1.6713 - val_accuracy: 0.2462\n"
          ],
          "name": "stdout"
        },
        {
          "output_type": "display_data",
          "data": {
            "text/html": [
              "<span style=\"color:#4527A0\"><h1 style=\"font-size:18px\">Trial complete</h1></span>"
            ],
            "text/plain": [
              "<IPython.core.display.HTML object>"
            ]
          },
          "metadata": {
            "tags": []
          }
        },
        {
          "output_type": "display_data",
          "data": {
            "text/html": [
              "<span style=\"color:#4527A0\"><h1 style=\"font-size:18px\">Trial summary</h1></span>"
            ],
            "text/plain": [
              "<IPython.core.display.HTML object>"
            ]
          },
          "metadata": {
            "tags": []
          }
        },
        {
          "output_type": "display_data",
          "data": {
            "text/html": [
              "<span style=\"color:cyan\"> |-Trial ID: 1c89b01ea27133154af44eb5ff177a2c</span>"
            ],
            "text/plain": [
              "<IPython.core.display.HTML object>"
            ]
          },
          "metadata": {
            "tags": []
          }
        },
        {
          "output_type": "display_data",
          "data": {
            "text/html": [
              "<span style=\"color:cyan\"> |-Score: 0.25628140568733215</span>"
            ],
            "text/plain": [
              "<IPython.core.display.HTML object>"
            ]
          },
          "metadata": {
            "tags": []
          }
        },
        {
          "output_type": "display_data",
          "data": {
            "text/html": [
              "<span style=\"color:cyan\"> |-Best step: 0</span>"
            ],
            "text/plain": [
              "<IPython.core.display.HTML object>"
            ]
          },
          "metadata": {
            "tags": []
          }
        },
        {
          "output_type": "display_data",
          "data": {
            "text/html": [
              "<span style=\"color:#7E57C2\"><h2 style=\"font-size:16px\">Hyperparameters:</h2></span>"
            ],
            "text/plain": [
              "<IPython.core.display.HTML object>"
            ]
          },
          "metadata": {
            "tags": []
          }
        },
        {
          "output_type": "display_data",
          "data": {
            "text/html": [
              "<span style=\"color:cyan\"> |-conv_blocks: 5</span>"
            ],
            "text/plain": [
              "<IPython.core.display.HTML object>"
            ]
          },
          "metadata": {
            "tags": []
          }
        },
        {
          "output_type": "display_data",
          "data": {
            "text/html": [
              "<span style=\"color:blue\"> |-dropout: 0.4</span>"
            ],
            "text/plain": [
              "<IPython.core.display.HTML object>"
            ]
          },
          "metadata": {
            "tags": []
          }
        },
        {
          "output_type": "display_data",
          "data": {
            "text/html": [
              "<span style=\"color:cyan\"> |-filters_0: 128</span>"
            ],
            "text/plain": [
              "<IPython.core.display.HTML object>"
            ]
          },
          "metadata": {
            "tags": []
          }
        },
        {
          "output_type": "display_data",
          "data": {
            "text/html": [
              "<span style=\"color:blue\"> |-filters_1: 224</span>"
            ],
            "text/plain": [
              "<IPython.core.display.HTML object>"
            ]
          },
          "metadata": {
            "tags": []
          }
        },
        {
          "output_type": "display_data",
          "data": {
            "text/html": [
              "<span style=\"color:cyan\"> |-filters_2: 192</span>"
            ],
            "text/plain": [
              "<IPython.core.display.HTML object>"
            ]
          },
          "metadata": {
            "tags": []
          }
        },
        {
          "output_type": "display_data",
          "data": {
            "text/html": [
              "<span style=\"color:blue\"> |-filters_3: 160</span>"
            ],
            "text/plain": [
              "<IPython.core.display.HTML object>"
            ]
          },
          "metadata": {
            "tags": []
          }
        },
        {
          "output_type": "display_data",
          "data": {
            "text/html": [
              "<span style=\"color:cyan\"> |-filters_4: 160</span>"
            ],
            "text/plain": [
              "<IPython.core.display.HTML object>"
            ]
          },
          "metadata": {
            "tags": []
          }
        },
        {
          "output_type": "display_data",
          "data": {
            "text/html": [
              "<span style=\"color:blue\"> |-hidden_size: 60</span>"
            ],
            "text/plain": [
              "<IPython.core.display.HTML object>"
            ]
          },
          "metadata": {
            "tags": []
          }
        },
        {
          "output_type": "display_data",
          "data": {
            "text/html": [
              "<span style=\"color:cyan\"> |-learning_rate: 0.002082550710767042</span>"
            ],
            "text/plain": [
              "<IPython.core.display.HTML object>"
            ]
          },
          "metadata": {
            "tags": []
          }
        },
        {
          "output_type": "display_data",
          "data": {
            "text/html": [
              "<span style=\"color:blue\"> |-pooling_0: max</span>"
            ],
            "text/plain": [
              "<IPython.core.display.HTML object>"
            ]
          },
          "metadata": {
            "tags": []
          }
        },
        {
          "output_type": "display_data",
          "data": {
            "text/html": [
              "<span style=\"color:cyan\"> |-pooling_1: max</span>"
            ],
            "text/plain": [
              "<IPython.core.display.HTML object>"
            ]
          },
          "metadata": {
            "tags": []
          }
        },
        {
          "output_type": "display_data",
          "data": {
            "text/html": [
              "<span style=\"color:blue\"> |-pooling_2: avg</span>"
            ],
            "text/plain": [
              "<IPython.core.display.HTML object>"
            ]
          },
          "metadata": {
            "tags": []
          }
        },
        {
          "output_type": "display_data",
          "data": {
            "text/html": [
              "<span style=\"color:cyan\"> |-pooling_3: max</span>"
            ],
            "text/plain": [
              "<IPython.core.display.HTML object>"
            ]
          },
          "metadata": {
            "tags": []
          }
        },
        {
          "output_type": "display_data",
          "data": {
            "text/html": [
              "<span style=\"color:blue\"> |-pooling_4: max</span>"
            ],
            "text/plain": [
              "<IPython.core.display.HTML object>"
            ]
          },
          "metadata": {
            "tags": []
          }
        },
        {
          "output_type": "display_data",
          "data": {
            "text/html": [
              "<span style=\"color:cyan\"> |-tuner/bracket: 1</span>"
            ],
            "text/plain": [
              "<IPython.core.display.HTML object>"
            ]
          },
          "metadata": {
            "tags": []
          }
        },
        {
          "output_type": "display_data",
          "data": {
            "text/html": [
              "<span style=\"color:blue\"> |-tuner/epochs: 7</span>"
            ],
            "text/plain": [
              "<IPython.core.display.HTML object>"
            ]
          },
          "metadata": {
            "tags": []
          }
        },
        {
          "output_type": "display_data",
          "data": {
            "text/html": [
              "<span style=\"color:cyan\"> |-tuner/initial_epoch: 0</span>"
            ],
            "text/plain": [
              "<IPython.core.display.HTML object>"
            ]
          },
          "metadata": {
            "tags": []
          }
        },
        {
          "output_type": "display_data",
          "data": {
            "text/html": [
              "<span style=\"color:blue\"> |-tuner/round: 0</span>"
            ],
            "text/plain": [
              "<IPython.core.display.HTML object>"
            ]
          },
          "metadata": {
            "tags": []
          }
        },
        {
          "output_type": "stream",
          "text": [
            "Epoch 1/7\n",
            "40/40 [==============================] - 2s 43ms/step - loss: 1.6997 - accuracy: 0.1975 - val_loss: 23.8438 - val_accuracy: 0.1508\n",
            "Epoch 2/7\n",
            "40/40 [==============================] - 1s 37ms/step - loss: 1.6115 - accuracy: 0.2038 - val_loss: 1.8604 - val_accuracy: 0.2563\n",
            "Epoch 3/7\n",
            "40/40 [==============================] - 1s 35ms/step - loss: 1.6086 - accuracy: 0.2365 - val_loss: 1.6303 - val_accuracy: 0.2261\n",
            "Epoch 4/7\n",
            "40/40 [==============================] - 1s 35ms/step - loss: 1.6088 - accuracy: 0.2126 - val_loss: 1.6488 - val_accuracy: 0.2312\n",
            "Epoch 5/7\n",
            "40/40 [==============================] - 1s 35ms/step - loss: 1.6074 - accuracy: 0.2075 - val_loss: 1.6401 - val_accuracy: 0.2261\n",
            "Epoch 6/7\n",
            "40/40 [==============================] - 1s 35ms/step - loss: 1.6053 - accuracy: 0.2126 - val_loss: 1.6183 - val_accuracy: 0.2312\n",
            "Epoch 7/7\n",
            "40/40 [==============================] - 1s 35ms/step - loss: 1.6055 - accuracy: 0.2063 - val_loss: 1.6181 - val_accuracy: 0.1859\n",
            "Epoch 1/7\n",
            "40/40 [==============================] - 2s 41ms/step - loss: 1.7018 - accuracy: 0.2013 - val_loss: 6.9783 - val_accuracy: 0.2462\n",
            "Epoch 2/7\n",
            "40/40 [==============================] - 1s 35ms/step - loss: 1.6056 - accuracy: 0.2239 - val_loss: 1.6151 - val_accuracy: 0.1658\n",
            "Epoch 3/7\n",
            "40/40 [==============================] - 1s 35ms/step - loss: 1.6041 - accuracy: 0.2365 - val_loss: 1.6613 - val_accuracy: 0.2111\n",
            "Epoch 4/7\n",
            "40/40 [==============================] - 1s 35ms/step - loss: 1.6038 - accuracy: 0.2289 - val_loss: 1.6592 - val_accuracy: 0.2412\n",
            "Epoch 5/7\n",
            "40/40 [==============================] - 1s 35ms/step - loss: 1.6068 - accuracy: 0.2050 - val_loss: 1.6520 - val_accuracy: 0.1960\n",
            "Epoch 6/7\n",
            "40/40 [==============================] - 1s 34ms/step - loss: 1.6053 - accuracy: 0.2314 - val_loss: 1.6642 - val_accuracy: 0.2261\n",
            "Epoch 7/7\n",
            "40/40 [==============================] - 1s 35ms/step - loss: 1.6037 - accuracy: 0.2201 - val_loss: 1.6257 - val_accuracy: 0.1910\n"
          ],
          "name": "stdout"
        },
        {
          "output_type": "display_data",
          "data": {
            "text/html": [
              "<span style=\"color:#4527A0\"><h1 style=\"font-size:18px\">Trial complete</h1></span>"
            ],
            "text/plain": [
              "<IPython.core.display.HTML object>"
            ]
          },
          "metadata": {
            "tags": []
          }
        },
        {
          "output_type": "display_data",
          "data": {
            "text/html": [
              "<span style=\"color:#4527A0\"><h1 style=\"font-size:18px\">Trial summary</h1></span>"
            ],
            "text/plain": [
              "<IPython.core.display.HTML object>"
            ]
          },
          "metadata": {
            "tags": []
          }
        },
        {
          "output_type": "display_data",
          "data": {
            "text/html": [
              "<span style=\"color:cyan\"> |-Trial ID: 9690b1937aecfaa0615509bfd90628db</span>"
            ],
            "text/plain": [
              "<IPython.core.display.HTML object>"
            ]
          },
          "metadata": {
            "tags": []
          }
        },
        {
          "output_type": "display_data",
          "data": {
            "text/html": [
              "<span style=\"color:cyan\"> |-Score: 0.2512562796473503</span>"
            ],
            "text/plain": [
              "<IPython.core.display.HTML object>"
            ]
          },
          "metadata": {
            "tags": []
          }
        },
        {
          "output_type": "display_data",
          "data": {
            "text/html": [
              "<span style=\"color:cyan\"> |-Best step: 0</span>"
            ],
            "text/plain": [
              "<IPython.core.display.HTML object>"
            ]
          },
          "metadata": {
            "tags": []
          }
        },
        {
          "output_type": "display_data",
          "data": {
            "text/html": [
              "<span style=\"color:#7E57C2\"><h2 style=\"font-size:16px\">Hyperparameters:</h2></span>"
            ],
            "text/plain": [
              "<IPython.core.display.HTML object>"
            ]
          },
          "metadata": {
            "tags": []
          }
        },
        {
          "output_type": "display_data",
          "data": {
            "text/html": [
              "<span style=\"color:cyan\"> |-conv_blocks: 4</span>"
            ],
            "text/plain": [
              "<IPython.core.display.HTML object>"
            ]
          },
          "metadata": {
            "tags": []
          }
        },
        {
          "output_type": "display_data",
          "data": {
            "text/html": [
              "<span style=\"color:blue\"> |-dropout: 0.1</span>"
            ],
            "text/plain": [
              "<IPython.core.display.HTML object>"
            ]
          },
          "metadata": {
            "tags": []
          }
        },
        {
          "output_type": "display_data",
          "data": {
            "text/html": [
              "<span style=\"color:cyan\"> |-filters_0: 96</span>"
            ],
            "text/plain": [
              "<IPython.core.display.HTML object>"
            ]
          },
          "metadata": {
            "tags": []
          }
        },
        {
          "output_type": "display_data",
          "data": {
            "text/html": [
              "<span style=\"color:blue\"> |-filters_1: 128</span>"
            ],
            "text/plain": [
              "<IPython.core.display.HTML object>"
            ]
          },
          "metadata": {
            "tags": []
          }
        },
        {
          "output_type": "display_data",
          "data": {
            "text/html": [
              "<span style=\"color:cyan\"> |-filters_2: 160</span>"
            ],
            "text/plain": [
              "<IPython.core.display.HTML object>"
            ]
          },
          "metadata": {
            "tags": []
          }
        },
        {
          "output_type": "display_data",
          "data": {
            "text/html": [
              "<span style=\"color:blue\"> |-filters_3: 128</span>"
            ],
            "text/plain": [
              "<IPython.core.display.HTML object>"
            ]
          },
          "metadata": {
            "tags": []
          }
        },
        {
          "output_type": "display_data",
          "data": {
            "text/html": [
              "<span style=\"color:cyan\"> |-filters_4: 64</span>"
            ],
            "text/plain": [
              "<IPython.core.display.HTML object>"
            ]
          },
          "metadata": {
            "tags": []
          }
        },
        {
          "output_type": "display_data",
          "data": {
            "text/html": [
              "<span style=\"color:blue\"> |-hidden_size: 50</span>"
            ],
            "text/plain": [
              "<IPython.core.display.HTML object>"
            ]
          },
          "metadata": {
            "tags": []
          }
        },
        {
          "output_type": "display_data",
          "data": {
            "text/html": [
              "<span style=\"color:cyan\"> |-learning_rate: 0.007755867889032286</span>"
            ],
            "text/plain": [
              "<IPython.core.display.HTML object>"
            ]
          },
          "metadata": {
            "tags": []
          }
        },
        {
          "output_type": "display_data",
          "data": {
            "text/html": [
              "<span style=\"color:blue\"> |-pooling_0: max</span>"
            ],
            "text/plain": [
              "<IPython.core.display.HTML object>"
            ]
          },
          "metadata": {
            "tags": []
          }
        },
        {
          "output_type": "display_data",
          "data": {
            "text/html": [
              "<span style=\"color:cyan\"> |-pooling_1: avg</span>"
            ],
            "text/plain": [
              "<IPython.core.display.HTML object>"
            ]
          },
          "metadata": {
            "tags": []
          }
        },
        {
          "output_type": "display_data",
          "data": {
            "text/html": [
              "<span style=\"color:blue\"> |-pooling_2: max</span>"
            ],
            "text/plain": [
              "<IPython.core.display.HTML object>"
            ]
          },
          "metadata": {
            "tags": []
          }
        },
        {
          "output_type": "display_data",
          "data": {
            "text/html": [
              "<span style=\"color:cyan\"> |-pooling_3: avg</span>"
            ],
            "text/plain": [
              "<IPython.core.display.HTML object>"
            ]
          },
          "metadata": {
            "tags": []
          }
        },
        {
          "output_type": "display_data",
          "data": {
            "text/html": [
              "<span style=\"color:blue\"> |-pooling_4: max</span>"
            ],
            "text/plain": [
              "<IPython.core.display.HTML object>"
            ]
          },
          "metadata": {
            "tags": []
          }
        },
        {
          "output_type": "display_data",
          "data": {
            "text/html": [
              "<span style=\"color:cyan\"> |-tuner/bracket: 1</span>"
            ],
            "text/plain": [
              "<IPython.core.display.HTML object>"
            ]
          },
          "metadata": {
            "tags": []
          }
        },
        {
          "output_type": "display_data",
          "data": {
            "text/html": [
              "<span style=\"color:blue\"> |-tuner/epochs: 7</span>"
            ],
            "text/plain": [
              "<IPython.core.display.HTML object>"
            ]
          },
          "metadata": {
            "tags": []
          }
        },
        {
          "output_type": "display_data",
          "data": {
            "text/html": [
              "<span style=\"color:cyan\"> |-tuner/initial_epoch: 0</span>"
            ],
            "text/plain": [
              "<IPython.core.display.HTML object>"
            ]
          },
          "metadata": {
            "tags": []
          }
        },
        {
          "output_type": "display_data",
          "data": {
            "text/html": [
              "<span style=\"color:blue\"> |-tuner/round: 0</span>"
            ],
            "text/plain": [
              "<IPython.core.display.HTML object>"
            ]
          },
          "metadata": {
            "tags": []
          }
        },
        {
          "output_type": "stream",
          "text": [
            "Epoch 1/7\n",
            "40/40 [==============================] - 2s 46ms/step - loss: 1.6921 - accuracy: 0.2214 - val_loss: 1.6664 - val_accuracy: 0.1658\n",
            "Epoch 2/7\n",
            "40/40 [==============================] - 2s 41ms/step - loss: 1.6225 - accuracy: 0.2113 - val_loss: 1.6557 - val_accuracy: 0.2462\n",
            "Epoch 3/7\n",
            "40/40 [==============================] - 2s 40ms/step - loss: 1.6095 - accuracy: 0.2075 - val_loss: 1.6678 - val_accuracy: 0.2462\n",
            "Epoch 4/7\n",
            "40/40 [==============================] - 2s 40ms/step - loss: 1.6121 - accuracy: 0.2038 - val_loss: 1.6480 - val_accuracy: 0.2462\n",
            "Epoch 5/7\n",
            "40/40 [==============================] - 2s 40ms/step - loss: 1.6112 - accuracy: 0.2151 - val_loss: 1.9259 - val_accuracy: 0.2462\n",
            "Epoch 6/7\n",
            "40/40 [==============================] - 2s 40ms/step - loss: 1.6103 - accuracy: 0.2264 - val_loss: 1.7182 - val_accuracy: 0.2462\n",
            "Epoch 7/7\n",
            "40/40 [==============================] - 2s 40ms/step - loss: 1.6052 - accuracy: 0.2151 - val_loss: 1.7535 - val_accuracy: 0.2462\n",
            "Epoch 1/7\n",
            "40/40 [==============================] - 2s 45ms/step - loss: 1.6974 - accuracy: 0.1862 - val_loss: 1.7136 - val_accuracy: 0.1910\n",
            "Epoch 2/7\n",
            "40/40 [==============================] - 2s 40ms/step - loss: 1.6048 - accuracy: 0.2201 - val_loss: 1.8558 - val_accuracy: 0.2462\n",
            "Epoch 3/7\n",
            "40/40 [==============================] - 2s 40ms/step - loss: 1.6123 - accuracy: 0.2151 - val_loss: 1.7330 - val_accuracy: 0.2462\n",
            "Epoch 4/7\n",
            "40/40 [==============================] - 2s 40ms/step - loss: 1.6050 - accuracy: 0.2440 - val_loss: 1.7468 - val_accuracy: 0.2462\n",
            "Epoch 5/7\n",
            "40/40 [==============================] - 2s 40ms/step - loss: 1.6047 - accuracy: 0.2252 - val_loss: 1.7811 - val_accuracy: 0.2462\n",
            "Epoch 6/7\n",
            "40/40 [==============================] - 2s 40ms/step - loss: 1.6039 - accuracy: 0.2340 - val_loss: 1.7467 - val_accuracy: 0.2462\n",
            "Epoch 7/7\n",
            "40/40 [==============================] - 2s 40ms/step - loss: 1.6052 - accuracy: 0.2226 - val_loss: 1.6911 - val_accuracy: 0.2462\n"
          ],
          "name": "stdout"
        },
        {
          "output_type": "display_data",
          "data": {
            "text/html": [
              "<span style=\"color:#4527A0\"><h1 style=\"font-size:18px\">Trial complete</h1></span>"
            ],
            "text/plain": [
              "<IPython.core.display.HTML object>"
            ]
          },
          "metadata": {
            "tags": []
          }
        },
        {
          "output_type": "display_data",
          "data": {
            "text/html": [
              "<span style=\"color:#4527A0\"><h1 style=\"font-size:18px\">Trial summary</h1></span>"
            ],
            "text/plain": [
              "<IPython.core.display.HTML object>"
            ]
          },
          "metadata": {
            "tags": []
          }
        },
        {
          "output_type": "display_data",
          "data": {
            "text/html": [
              "<span style=\"color:cyan\"> |-Trial ID: 3eb0f3cf5a47dc6e325d707c2c6d10c2</span>"
            ],
            "text/plain": [
              "<IPython.core.display.HTML object>"
            ]
          },
          "metadata": {
            "tags": []
          }
        },
        {
          "output_type": "display_data",
          "data": {
            "text/html": [
              "<span style=\"color:cyan\"> |-Score: 0.24623115360736847</span>"
            ],
            "text/plain": [
              "<IPython.core.display.HTML object>"
            ]
          },
          "metadata": {
            "tags": []
          }
        },
        {
          "output_type": "display_data",
          "data": {
            "text/html": [
              "<span style=\"color:cyan\"> |-Best step: 0</span>"
            ],
            "text/plain": [
              "<IPython.core.display.HTML object>"
            ]
          },
          "metadata": {
            "tags": []
          }
        },
        {
          "output_type": "display_data",
          "data": {
            "text/html": [
              "<span style=\"color:#7E57C2\"><h2 style=\"font-size:16px\">Hyperparameters:</h2></span>"
            ],
            "text/plain": [
              "<IPython.core.display.HTML object>"
            ]
          },
          "metadata": {
            "tags": []
          }
        },
        {
          "output_type": "display_data",
          "data": {
            "text/html": [
              "<span style=\"color:cyan\"> |-conv_blocks: 3</span>"
            ],
            "text/plain": [
              "<IPython.core.display.HTML object>"
            ]
          },
          "metadata": {
            "tags": []
          }
        },
        {
          "output_type": "display_data",
          "data": {
            "text/html": [
              "<span style=\"color:blue\"> |-dropout: 0.4</span>"
            ],
            "text/plain": [
              "<IPython.core.display.HTML object>"
            ]
          },
          "metadata": {
            "tags": []
          }
        },
        {
          "output_type": "display_data",
          "data": {
            "text/html": [
              "<span style=\"color:cyan\"> |-filters_0: 128</span>"
            ],
            "text/plain": [
              "<IPython.core.display.HTML object>"
            ]
          },
          "metadata": {
            "tags": []
          }
        },
        {
          "output_type": "display_data",
          "data": {
            "text/html": [
              "<span style=\"color:blue\"> |-filters_1: 128</span>"
            ],
            "text/plain": [
              "<IPython.core.display.HTML object>"
            ]
          },
          "metadata": {
            "tags": []
          }
        },
        {
          "output_type": "display_data",
          "data": {
            "text/html": [
              "<span style=\"color:cyan\"> |-filters_2: 160</span>"
            ],
            "text/plain": [
              "<IPython.core.display.HTML object>"
            ]
          },
          "metadata": {
            "tags": []
          }
        },
        {
          "output_type": "display_data",
          "data": {
            "text/html": [
              "<span style=\"color:blue\"> |-filters_3: 96</span>"
            ],
            "text/plain": [
              "<IPython.core.display.HTML object>"
            ]
          },
          "metadata": {
            "tags": []
          }
        },
        {
          "output_type": "display_data",
          "data": {
            "text/html": [
              "<span style=\"color:cyan\"> |-filters_4: 32</span>"
            ],
            "text/plain": [
              "<IPython.core.display.HTML object>"
            ]
          },
          "metadata": {
            "tags": []
          }
        },
        {
          "output_type": "display_data",
          "data": {
            "text/html": [
              "<span style=\"color:blue\"> |-hidden_size: 40</span>"
            ],
            "text/plain": [
              "<IPython.core.display.HTML object>"
            ]
          },
          "metadata": {
            "tags": []
          }
        },
        {
          "output_type": "display_data",
          "data": {
            "text/html": [
              "<span style=\"color:cyan\"> |-learning_rate: 0.0009359788534144154</span>"
            ],
            "text/plain": [
              "<IPython.core.display.HTML object>"
            ]
          },
          "metadata": {
            "tags": []
          }
        },
        {
          "output_type": "display_data",
          "data": {
            "text/html": [
              "<span style=\"color:blue\"> |-pooling_0: max</span>"
            ],
            "text/plain": [
              "<IPython.core.display.HTML object>"
            ]
          },
          "metadata": {
            "tags": []
          }
        },
        {
          "output_type": "display_data",
          "data": {
            "text/html": [
              "<span style=\"color:cyan\"> |-pooling_1: max</span>"
            ],
            "text/plain": [
              "<IPython.core.display.HTML object>"
            ]
          },
          "metadata": {
            "tags": []
          }
        },
        {
          "output_type": "display_data",
          "data": {
            "text/html": [
              "<span style=\"color:blue\"> |-pooling_2: avg</span>"
            ],
            "text/plain": [
              "<IPython.core.display.HTML object>"
            ]
          },
          "metadata": {
            "tags": []
          }
        },
        {
          "output_type": "display_data",
          "data": {
            "text/html": [
              "<span style=\"color:cyan\"> |-pooling_3: max</span>"
            ],
            "text/plain": [
              "<IPython.core.display.HTML object>"
            ]
          },
          "metadata": {
            "tags": []
          }
        },
        {
          "output_type": "display_data",
          "data": {
            "text/html": [
              "<span style=\"color:blue\"> |-pooling_4: max</span>"
            ],
            "text/plain": [
              "<IPython.core.display.HTML object>"
            ]
          },
          "metadata": {
            "tags": []
          }
        },
        {
          "output_type": "display_data",
          "data": {
            "text/html": [
              "<span style=\"color:cyan\"> |-tuner/bracket: 1</span>"
            ],
            "text/plain": [
              "<IPython.core.display.HTML object>"
            ]
          },
          "metadata": {
            "tags": []
          }
        },
        {
          "output_type": "display_data",
          "data": {
            "text/html": [
              "<span style=\"color:blue\"> |-tuner/epochs: 7</span>"
            ],
            "text/plain": [
              "<IPython.core.display.HTML object>"
            ]
          },
          "metadata": {
            "tags": []
          }
        },
        {
          "output_type": "display_data",
          "data": {
            "text/html": [
              "<span style=\"color:cyan\"> |-tuner/initial_epoch: 0</span>"
            ],
            "text/plain": [
              "<IPython.core.display.HTML object>"
            ]
          },
          "metadata": {
            "tags": []
          }
        },
        {
          "output_type": "display_data",
          "data": {
            "text/html": [
              "<span style=\"color:blue\"> |-tuner/round: 0</span>"
            ],
            "text/plain": [
              "<IPython.core.display.HTML object>"
            ]
          },
          "metadata": {
            "tags": []
          }
        },
        {
          "output_type": "stream",
          "text": [
            "Epoch 1/7\n",
            " 2/40 [>.............................] - ETA: 1s - loss: 1.8662 - accuracy: 0.1750WARNING:tensorflow:Callbacks method `on_train_batch_end` is slow compared to the batch time (batch time: 0.0233s vs `on_train_batch_end` time: 0.0382s). Check your callbacks.\n",
            "40/40 [==============================] - 3s 75ms/step - loss: 1.6559 - accuracy: 0.2151 - val_loss: 1.6146 - val_accuracy: 0.2362\n",
            "Epoch 2/7\n",
            "40/40 [==============================] - 3s 66ms/step - loss: 1.6133 - accuracy: 0.2239 - val_loss: 1.6551 - val_accuracy: 0.2462\n",
            "Epoch 3/7\n",
            "40/40 [==============================] - 3s 64ms/step - loss: 1.6040 - accuracy: 0.2453 - val_loss: 1.6758 - val_accuracy: 0.1709\n",
            "Epoch 4/7\n",
            "40/40 [==============================] - 3s 64ms/step - loss: 1.6019 - accuracy: 0.2390 - val_loss: 1.7257 - val_accuracy: 0.2362\n",
            "Epoch 5/7\n",
            "40/40 [==============================] - 3s 64ms/step - loss: 1.6089 - accuracy: 0.2214 - val_loss: 1.6693 - val_accuracy: 0.2462\n",
            "Epoch 6/7\n",
            "40/40 [==============================] - 3s 64ms/step - loss: 1.6019 - accuracy: 0.2239 - val_loss: 1.8844 - val_accuracy: 0.2462\n",
            "Epoch 7/7\n",
            "40/40 [==============================] - 3s 64ms/step - loss: 1.5907 - accuracy: 0.2566 - val_loss: 1.6628 - val_accuracy: 0.2412\n",
            "Epoch 1/7\n",
            " 2/40 [>.............................] - ETA: 1s - loss: 1.8107 - accuracy: 0.2500WARNING:tensorflow:Callbacks method `on_train_batch_end` is slow compared to the batch time (batch time: 0.0233s vs `on_train_batch_end` time: 0.0365s). Check your callbacks.\n",
            "40/40 [==============================] - 3s 70ms/step - loss: 1.6797 - accuracy: 0.1950 - val_loss: 1.6284 - val_accuracy: 0.1457\n",
            "Epoch 2/7\n",
            "40/40 [==============================] - 3s 66ms/step - loss: 1.6267 - accuracy: 0.2075 - val_loss: 1.6508 - val_accuracy: 0.2513\n",
            "Epoch 3/7\n",
            "40/40 [==============================] - 3s 64ms/step - loss: 1.6099 - accuracy: 0.2176 - val_loss: 1.7376 - val_accuracy: 0.2513\n",
            "Epoch 4/7\n",
            "40/40 [==============================] - 3s 66ms/step - loss: 1.6078 - accuracy: 0.2403 - val_loss: 1.6826 - val_accuracy: 0.2563\n",
            "Epoch 5/7\n",
            "40/40 [==============================] - 3s 64ms/step - loss: 1.6030 - accuracy: 0.2415 - val_loss: 1.6273 - val_accuracy: 0.1859\n",
            "Epoch 6/7\n",
            "40/40 [==============================] - 3s 64ms/step - loss: 1.6102 - accuracy: 0.2164 - val_loss: 1.6998 - val_accuracy: 0.2563\n",
            "Epoch 7/7\n",
            "40/40 [==============================] - 3s 64ms/step - loss: 1.5969 - accuracy: 0.2642 - val_loss: 1.6956 - val_accuracy: 0.2563\n"
          ],
          "name": "stdout"
        },
        {
          "output_type": "display_data",
          "data": {
            "text/html": [
              "<span style=\"color:#4527A0\"><h1 style=\"font-size:18px\">Trial complete</h1></span>"
            ],
            "text/plain": [
              "<IPython.core.display.HTML object>"
            ]
          },
          "metadata": {
            "tags": []
          }
        },
        {
          "output_type": "display_data",
          "data": {
            "text/html": [
              "<span style=\"color:#4527A0\"><h1 style=\"font-size:18px\">Trial summary</h1></span>"
            ],
            "text/plain": [
              "<IPython.core.display.HTML object>"
            ]
          },
          "metadata": {
            "tags": []
          }
        },
        {
          "output_type": "display_data",
          "data": {
            "text/html": [
              "<span style=\"color:cyan\"> |-Trial ID: c0d64d83952f234af446a81acb4fd04f</span>"
            ],
            "text/plain": [
              "<IPython.core.display.HTML object>"
            ]
          },
          "metadata": {
            "tags": []
          }
        },
        {
          "output_type": "display_data",
          "data": {
            "text/html": [
              "<span style=\"color:cyan\"> |-Score: 0.2512562796473503</span>"
            ],
            "text/plain": [
              "<IPython.core.display.HTML object>"
            ]
          },
          "metadata": {
            "tags": []
          }
        },
        {
          "output_type": "display_data",
          "data": {
            "text/html": [
              "<span style=\"color:cyan\"> |-Best step: 0</span>"
            ],
            "text/plain": [
              "<IPython.core.display.HTML object>"
            ]
          },
          "metadata": {
            "tags": []
          }
        },
        {
          "output_type": "display_data",
          "data": {
            "text/html": [
              "<span style=\"color:#7E57C2\"><h2 style=\"font-size:16px\">Hyperparameters:</h2></span>"
            ],
            "text/plain": [
              "<IPython.core.display.HTML object>"
            ]
          },
          "metadata": {
            "tags": []
          }
        },
        {
          "output_type": "display_data",
          "data": {
            "text/html": [
              "<span style=\"color:cyan\"> |-conv_blocks: 4</span>"
            ],
            "text/plain": [
              "<IPython.core.display.HTML object>"
            ]
          },
          "metadata": {
            "tags": []
          }
        },
        {
          "output_type": "display_data",
          "data": {
            "text/html": [
              "<span style=\"color:blue\"> |-dropout: 0.0</span>"
            ],
            "text/plain": [
              "<IPython.core.display.HTML object>"
            ]
          },
          "metadata": {
            "tags": []
          }
        },
        {
          "output_type": "display_data",
          "data": {
            "text/html": [
              "<span style=\"color:cyan\"> |-filters_0: 160</span>"
            ],
            "text/plain": [
              "<IPython.core.display.HTML object>"
            ]
          },
          "metadata": {
            "tags": []
          }
        },
        {
          "output_type": "display_data",
          "data": {
            "text/html": [
              "<span style=\"color:blue\"> |-filters_1: 256</span>"
            ],
            "text/plain": [
              "<IPython.core.display.HTML object>"
            ]
          },
          "metadata": {
            "tags": []
          }
        },
        {
          "output_type": "display_data",
          "data": {
            "text/html": [
              "<span style=\"color:cyan\"> |-filters_2: 32</span>"
            ],
            "text/plain": [
              "<IPython.core.display.HTML object>"
            ]
          },
          "metadata": {
            "tags": []
          }
        },
        {
          "output_type": "display_data",
          "data": {
            "text/html": [
              "<span style=\"color:blue\"> |-filters_3: 96</span>"
            ],
            "text/plain": [
              "<IPython.core.display.HTML object>"
            ]
          },
          "metadata": {
            "tags": []
          }
        },
        {
          "output_type": "display_data",
          "data": {
            "text/html": [
              "<span style=\"color:cyan\"> |-filters_4: 128</span>"
            ],
            "text/plain": [
              "<IPython.core.display.HTML object>"
            ]
          },
          "metadata": {
            "tags": []
          }
        },
        {
          "output_type": "display_data",
          "data": {
            "text/html": [
              "<span style=\"color:blue\"> |-hidden_size: 80</span>"
            ],
            "text/plain": [
              "<IPython.core.display.HTML object>"
            ]
          },
          "metadata": {
            "tags": []
          }
        },
        {
          "output_type": "display_data",
          "data": {
            "text/html": [
              "<span style=\"color:cyan\"> |-learning_rate: 0.0007268749912840059</span>"
            ],
            "text/plain": [
              "<IPython.core.display.HTML object>"
            ]
          },
          "metadata": {
            "tags": []
          }
        },
        {
          "output_type": "display_data",
          "data": {
            "text/html": [
              "<span style=\"color:blue\"> |-pooling_0: avg</span>"
            ],
            "text/plain": [
              "<IPython.core.display.HTML object>"
            ]
          },
          "metadata": {
            "tags": []
          }
        },
        {
          "output_type": "display_data",
          "data": {
            "text/html": [
              "<span style=\"color:cyan\"> |-pooling_1: max</span>"
            ],
            "text/plain": [
              "<IPython.core.display.HTML object>"
            ]
          },
          "metadata": {
            "tags": []
          }
        },
        {
          "output_type": "display_data",
          "data": {
            "text/html": [
              "<span style=\"color:blue\"> |-pooling_2: avg</span>"
            ],
            "text/plain": [
              "<IPython.core.display.HTML object>"
            ]
          },
          "metadata": {
            "tags": []
          }
        },
        {
          "output_type": "display_data",
          "data": {
            "text/html": [
              "<span style=\"color:cyan\"> |-pooling_3: max</span>"
            ],
            "text/plain": [
              "<IPython.core.display.HTML object>"
            ]
          },
          "metadata": {
            "tags": []
          }
        },
        {
          "output_type": "display_data",
          "data": {
            "text/html": [
              "<span style=\"color:blue\"> |-pooling_4: max</span>"
            ],
            "text/plain": [
              "<IPython.core.display.HTML object>"
            ]
          },
          "metadata": {
            "tags": []
          }
        },
        {
          "output_type": "display_data",
          "data": {
            "text/html": [
              "<span style=\"color:cyan\"> |-tuner/bracket: 1</span>"
            ],
            "text/plain": [
              "<IPython.core.display.HTML object>"
            ]
          },
          "metadata": {
            "tags": []
          }
        },
        {
          "output_type": "display_data",
          "data": {
            "text/html": [
              "<span style=\"color:blue\"> |-tuner/epochs: 7</span>"
            ],
            "text/plain": [
              "<IPython.core.display.HTML object>"
            ]
          },
          "metadata": {
            "tags": []
          }
        },
        {
          "output_type": "display_data",
          "data": {
            "text/html": [
              "<span style=\"color:cyan\"> |-tuner/initial_epoch: 0</span>"
            ],
            "text/plain": [
              "<IPython.core.display.HTML object>"
            ]
          },
          "metadata": {
            "tags": []
          }
        },
        {
          "output_type": "display_data",
          "data": {
            "text/html": [
              "<span style=\"color:blue\"> |-tuner/round: 0</span>"
            ],
            "text/plain": [
              "<IPython.core.display.HTML object>"
            ]
          },
          "metadata": {
            "tags": []
          }
        },
        {
          "output_type": "stream",
          "text": [
            "Epoch 1/7\n",
            "40/40 [==============================] - 3s 84ms/step - loss: 1.8131 - accuracy: 0.2101 - val_loss: 27.8766 - val_accuracy: 0.2462\n",
            "Epoch 2/7\n",
            "40/40 [==============================] - 3s 72ms/step - loss: 1.6241 - accuracy: 0.2050 - val_loss: 1.6097 - val_accuracy: 0.1709\n",
            "Epoch 3/7\n",
            "40/40 [==============================] - 3s 71ms/step - loss: 1.6076 - accuracy: 0.2189 - val_loss: 1.6099 - val_accuracy: 0.1709\n",
            "Epoch 4/7\n",
            "40/40 [==============================] - 3s 72ms/step - loss: 1.6138 - accuracy: 0.2113 - val_loss: 1.6433 - val_accuracy: 0.1709\n",
            "Epoch 5/7\n",
            "40/40 [==============================] - 3s 71ms/step - loss: 1.6092 - accuracy: 0.2000 - val_loss: 1.6138 - val_accuracy: 0.1608\n",
            "Epoch 6/7\n",
            "40/40 [==============================] - 3s 74ms/step - loss: 1.6071 - accuracy: 0.2050 - val_loss: 1.6482 - val_accuracy: 0.2563\n",
            "Epoch 7/7\n",
            "40/40 [==============================] - 3s 72ms/step - loss: 1.6044 - accuracy: 0.2314 - val_loss: 1.6477 - val_accuracy: 0.2462\n",
            "Epoch 1/7\n",
            "40/40 [==============================] - 3s 77ms/step - loss: 1.7533 - accuracy: 0.2000 - val_loss: 22.7138 - val_accuracy: 0.1709\n",
            "Epoch 2/7\n",
            "40/40 [==============================] - 3s 72ms/step - loss: 1.6253 - accuracy: 0.1887 - val_loss: 1.6614 - val_accuracy: 0.1759\n",
            "Epoch 3/7\n",
            "40/40 [==============================] - 3s 71ms/step - loss: 1.6134 - accuracy: 0.2013 - val_loss: 1.6236 - val_accuracy: 0.1859\n",
            "Epoch 4/7\n",
            "40/40 [==============================] - 3s 71ms/step - loss: 1.6065 - accuracy: 0.2365 - val_loss: 1.7026 - val_accuracy: 0.2513\n",
            "Epoch 5/7\n",
            "40/40 [==============================] - 3s 71ms/step - loss: 1.6076 - accuracy: 0.2151 - val_loss: 1.6222 - val_accuracy: 0.2111\n",
            "Epoch 6/7\n",
            "40/40 [==============================] - 3s 71ms/step - loss: 1.6070 - accuracy: 0.2000 - val_loss: 1.6480 - val_accuracy: 0.2261\n",
            "Epoch 7/7\n",
            "40/40 [==============================] - 3s 74ms/step - loss: 1.6009 - accuracy: 0.2252 - val_loss: 1.7323 - val_accuracy: 0.2663\n"
          ],
          "name": "stdout"
        },
        {
          "output_type": "display_data",
          "data": {
            "text/html": [
              "<span style=\"color:#4527A0\"><h1 style=\"font-size:18px\">Trial complete</h1></span>"
            ],
            "text/plain": [
              "<IPython.core.display.HTML object>"
            ]
          },
          "metadata": {
            "tags": []
          }
        },
        {
          "output_type": "display_data",
          "data": {
            "text/html": [
              "<span style=\"color:#4527A0\"><h1 style=\"font-size:18px\">Trial summary</h1></span>"
            ],
            "text/plain": [
              "<IPython.core.display.HTML object>"
            ]
          },
          "metadata": {
            "tags": []
          }
        },
        {
          "output_type": "display_data",
          "data": {
            "text/html": [
              "<span style=\"color:cyan\"> |-Trial ID: 6ff3a349112c81985e25d730403df3ac</span>"
            ],
            "text/plain": [
              "<IPython.core.display.HTML object>"
            ]
          },
          "metadata": {
            "tags": []
          }
        },
        {
          "output_type": "display_data",
          "data": {
            "text/html": [
              "<span style=\"color:cyan\"> |-Score: 0.2613065391778946</span>"
            ],
            "text/plain": [
              "<IPython.core.display.HTML object>"
            ]
          },
          "metadata": {
            "tags": []
          }
        },
        {
          "output_type": "display_data",
          "data": {
            "text/html": [
              "<span style=\"color:cyan\"> |-Best step: 0</span>"
            ],
            "text/plain": [
              "<IPython.core.display.HTML object>"
            ]
          },
          "metadata": {
            "tags": []
          }
        },
        {
          "output_type": "display_data",
          "data": {
            "text/html": [
              "<span style=\"color:#7E57C2\"><h2 style=\"font-size:16px\">Hyperparameters:</h2></span>"
            ],
            "text/plain": [
              "<IPython.core.display.HTML object>"
            ]
          },
          "metadata": {
            "tags": []
          }
        },
        {
          "output_type": "display_data",
          "data": {
            "text/html": [
              "<span style=\"color:cyan\"> |-conv_blocks: 4</span>"
            ],
            "text/plain": [
              "<IPython.core.display.HTML object>"
            ]
          },
          "metadata": {
            "tags": []
          }
        },
        {
          "output_type": "display_data",
          "data": {
            "text/html": [
              "<span style=\"color:blue\"> |-dropout: 0.30000000000000004</span>"
            ],
            "text/plain": [
              "<IPython.core.display.HTML object>"
            ]
          },
          "metadata": {
            "tags": []
          }
        },
        {
          "output_type": "display_data",
          "data": {
            "text/html": [
              "<span style=\"color:cyan\"> |-filters_0: 224</span>"
            ],
            "text/plain": [
              "<IPython.core.display.HTML object>"
            ]
          },
          "metadata": {
            "tags": []
          }
        },
        {
          "output_type": "display_data",
          "data": {
            "text/html": [
              "<span style=\"color:blue\"> |-filters_1: 96</span>"
            ],
            "text/plain": [
              "<IPython.core.display.HTML object>"
            ]
          },
          "metadata": {
            "tags": []
          }
        },
        {
          "output_type": "display_data",
          "data": {
            "text/html": [
              "<span style=\"color:cyan\"> |-filters_2: 224</span>"
            ],
            "text/plain": [
              "<IPython.core.display.HTML object>"
            ]
          },
          "metadata": {
            "tags": []
          }
        },
        {
          "output_type": "display_data",
          "data": {
            "text/html": [
              "<span style=\"color:blue\"> |-filters_3: 224</span>"
            ],
            "text/plain": [
              "<IPython.core.display.HTML object>"
            ]
          },
          "metadata": {
            "tags": []
          }
        },
        {
          "output_type": "display_data",
          "data": {
            "text/html": [
              "<span style=\"color:cyan\"> |-filters_4: 32</span>"
            ],
            "text/plain": [
              "<IPython.core.display.HTML object>"
            ]
          },
          "metadata": {
            "tags": []
          }
        },
        {
          "output_type": "display_data",
          "data": {
            "text/html": [
              "<span style=\"color:blue\"> |-hidden_size: 90</span>"
            ],
            "text/plain": [
              "<IPython.core.display.HTML object>"
            ]
          },
          "metadata": {
            "tags": []
          }
        },
        {
          "output_type": "display_data",
          "data": {
            "text/html": [
              "<span style=\"color:cyan\"> |-learning_rate: 0.0039080605915127</span>"
            ],
            "text/plain": [
              "<IPython.core.display.HTML object>"
            ]
          },
          "metadata": {
            "tags": []
          }
        },
        {
          "output_type": "display_data",
          "data": {
            "text/html": [
              "<span style=\"color:blue\"> |-pooling_0: avg</span>"
            ],
            "text/plain": [
              "<IPython.core.display.HTML object>"
            ]
          },
          "metadata": {
            "tags": []
          }
        },
        {
          "output_type": "display_data",
          "data": {
            "text/html": [
              "<span style=\"color:cyan\"> |-pooling_1: max</span>"
            ],
            "text/plain": [
              "<IPython.core.display.HTML object>"
            ]
          },
          "metadata": {
            "tags": []
          }
        },
        {
          "output_type": "display_data",
          "data": {
            "text/html": [
              "<span style=\"color:blue\"> |-pooling_2: avg</span>"
            ],
            "text/plain": [
              "<IPython.core.display.HTML object>"
            ]
          },
          "metadata": {
            "tags": []
          }
        },
        {
          "output_type": "display_data",
          "data": {
            "text/html": [
              "<span style=\"color:cyan\"> |-pooling_3: max</span>"
            ],
            "text/plain": [
              "<IPython.core.display.HTML object>"
            ]
          },
          "metadata": {
            "tags": []
          }
        },
        {
          "output_type": "display_data",
          "data": {
            "text/html": [
              "<span style=\"color:blue\"> |-pooling_4: max</span>"
            ],
            "text/plain": [
              "<IPython.core.display.HTML object>"
            ]
          },
          "metadata": {
            "tags": []
          }
        },
        {
          "output_type": "display_data",
          "data": {
            "text/html": [
              "<span style=\"color:cyan\"> |-tuner/bracket: 1</span>"
            ],
            "text/plain": [
              "<IPython.core.display.HTML object>"
            ]
          },
          "metadata": {
            "tags": []
          }
        },
        {
          "output_type": "display_data",
          "data": {
            "text/html": [
              "<span style=\"color:blue\"> |-tuner/epochs: 7</span>"
            ],
            "text/plain": [
              "<IPython.core.display.HTML object>"
            ]
          },
          "metadata": {
            "tags": []
          }
        },
        {
          "output_type": "display_data",
          "data": {
            "text/html": [
              "<span style=\"color:cyan\"> |-tuner/initial_epoch: 0</span>"
            ],
            "text/plain": [
              "<IPython.core.display.HTML object>"
            ]
          },
          "metadata": {
            "tags": []
          }
        },
        {
          "output_type": "display_data",
          "data": {
            "text/html": [
              "<span style=\"color:blue\"> |-tuner/round: 0</span>"
            ],
            "text/plain": [
              "<IPython.core.display.HTML object>"
            ]
          },
          "metadata": {
            "tags": []
          }
        },
        {
          "output_type": "stream",
          "text": [
            "Epoch 8/20\n",
            "40/40 [==============================] - 3s 80ms/step - loss: 1.7896 - accuracy: 0.2075 - val_loss: 37.1764 - val_accuracy: 0.1709\n",
            "Epoch 9/20\n",
            "40/40 [==============================] - 3s 71ms/step - loss: 1.6139 - accuracy: 0.2075 - val_loss: 1.6125 - val_accuracy: 0.1709\n",
            "Epoch 10/20\n",
            "40/40 [==============================] - 3s 72ms/step - loss: 1.6102 - accuracy: 0.2201 - val_loss: 1.6157 - val_accuracy: 0.1709\n",
            "Epoch 11/20\n",
            "40/40 [==============================] - 3s 72ms/step - loss: 1.6123 - accuracy: 0.2013 - val_loss: 1.6251 - val_accuracy: 0.1709\n",
            "Epoch 12/20\n",
            "40/40 [==============================] - 3s 74ms/step - loss: 1.6066 - accuracy: 0.2050 - val_loss: 1.6279 - val_accuracy: 0.2362\n",
            "Epoch 13/20\n",
            "40/40 [==============================] - 3s 71ms/step - loss: 1.6071 - accuracy: 0.2176 - val_loss: 1.6266 - val_accuracy: 0.2312\n",
            "Epoch 14/20\n",
            "40/40 [==============================] - 3s 72ms/step - loss: 1.6093 - accuracy: 0.2264 - val_loss: 1.6253 - val_accuracy: 0.2261\n",
            "Epoch 15/20\n",
            "40/40 [==============================] - 3s 75ms/step - loss: 1.6075 - accuracy: 0.2252 - val_loss: 1.6021 - val_accuracy: 0.2663\n",
            "Epoch 16/20\n",
            "40/40 [==============================] - 3s 72ms/step - loss: 1.6060 - accuracy: 0.2201 - val_loss: 1.6607 - val_accuracy: 0.2513\n",
            "Epoch 17/20\n",
            "40/40 [==============================] - 3s 72ms/step - loss: 1.5984 - accuracy: 0.2164 - val_loss: 1.6870 - val_accuracy: 0.2412\n",
            "Epoch 18/20\n",
            "40/40 [==============================] - 3s 71ms/step - loss: 1.6085 - accuracy: 0.2013 - val_loss: 1.6289 - val_accuracy: 0.1709\n",
            "Epoch 19/20\n",
            "40/40 [==============================] - 3s 71ms/step - loss: 1.6058 - accuracy: 0.2201 - val_loss: 1.6268 - val_accuracy: 0.2211\n",
            "Epoch 20/20\n",
            "40/40 [==============================] - 3s 72ms/step - loss: 1.6038 - accuracy: 0.2252 - val_loss: 1.6300 - val_accuracy: 0.1960\n",
            "Epoch 8/20\n",
            "40/40 [==============================] - 3s 78ms/step - loss: 1.8198 - accuracy: 0.1975 - val_loss: 53.5474 - val_accuracy: 0.1508\n",
            "Epoch 9/20\n",
            "40/40 [==============================] - 3s 71ms/step - loss: 1.6340 - accuracy: 0.2252 - val_loss: 1.6221 - val_accuracy: 0.2613\n",
            "Epoch 10/20\n",
            "40/40 [==============================] - 3s 72ms/step - loss: 1.6212 - accuracy: 0.2025 - val_loss: 1.6252 - val_accuracy: 0.2010\n",
            "Epoch 11/20\n",
            "40/40 [==============================] - 3s 72ms/step - loss: 1.6049 - accuracy: 0.2075 - val_loss: 1.6252 - val_accuracy: 0.2462\n",
            "Epoch 12/20\n",
            "40/40 [==============================] - 3s 72ms/step - loss: 1.6025 - accuracy: 0.2176 - val_loss: 1.6446 - val_accuracy: 0.2513\n",
            "Epoch 13/20\n",
            "40/40 [==============================] - 3s 71ms/step - loss: 1.6038 - accuracy: 0.2189 - val_loss: 1.7230 - val_accuracy: 0.2462\n",
            "Epoch 14/20\n",
            "40/40 [==============================] - 3s 71ms/step - loss: 1.6042 - accuracy: 0.2302 - val_loss: 1.6778 - val_accuracy: 0.2462\n",
            "Epoch 15/20\n",
            "40/40 [==============================] - 3s 71ms/step - loss: 1.6067 - accuracy: 0.2189 - val_loss: 1.6534 - val_accuracy: 0.2462\n",
            "Epoch 16/20\n",
            "40/40 [==============================] - 3s 71ms/step - loss: 1.6058 - accuracy: 0.2189 - val_loss: 1.6529 - val_accuracy: 0.2412\n",
            "Epoch 17/20\n",
            "40/40 [==============================] - 3s 71ms/step - loss: 1.5997 - accuracy: 0.2226 - val_loss: 1.6587 - val_accuracy: 0.2613\n",
            "Epoch 18/20\n",
            "40/40 [==============================] - 3s 72ms/step - loss: 1.6062 - accuracy: 0.2151 - val_loss: 1.6420 - val_accuracy: 0.2513\n",
            "Epoch 19/20\n",
            "40/40 [==============================] - 3s 71ms/step - loss: 1.5988 - accuracy: 0.2164 - val_loss: 1.6407 - val_accuracy: 0.2563\n",
            "Epoch 20/20\n",
            "40/40 [==============================] - 3s 72ms/step - loss: 1.6035 - accuracy: 0.2289 - val_loss: 1.6387 - val_accuracy: 0.1960\n"
          ],
          "name": "stdout"
        },
        {
          "output_type": "display_data",
          "data": {
            "text/html": [
              "<span style=\"color:#4527A0\"><h1 style=\"font-size:18px\">Trial complete</h1></span>"
            ],
            "text/plain": [
              "<IPython.core.display.HTML object>"
            ]
          },
          "metadata": {
            "tags": []
          }
        },
        {
          "output_type": "display_data",
          "data": {
            "text/html": [
              "<span style=\"color:#4527A0\"><h1 style=\"font-size:18px\">Trial summary</h1></span>"
            ],
            "text/plain": [
              "<IPython.core.display.HTML object>"
            ]
          },
          "metadata": {
            "tags": []
          }
        },
        {
          "output_type": "display_data",
          "data": {
            "text/html": [
              "<span style=\"color:cyan\"> |-Trial ID: 776560fef95335a00eb375b24df7415b</span>"
            ],
            "text/plain": [
              "<IPython.core.display.HTML object>"
            ]
          },
          "metadata": {
            "tags": []
          }
        },
        {
          "output_type": "display_data",
          "data": {
            "text/html": [
              "<span style=\"color:cyan\"> |-Score: 0.2638190984725952</span>"
            ],
            "text/plain": [
              "<IPython.core.display.HTML object>"
            ]
          },
          "metadata": {
            "tags": []
          }
        },
        {
          "output_type": "display_data",
          "data": {
            "text/html": [
              "<span style=\"color:cyan\"> |-Best step: 0</span>"
            ],
            "text/plain": [
              "<IPython.core.display.HTML object>"
            ]
          },
          "metadata": {
            "tags": []
          }
        },
        {
          "output_type": "display_data",
          "data": {
            "text/html": [
              "<span style=\"color:#7E57C2\"><h2 style=\"font-size:16px\">Hyperparameters:</h2></span>"
            ],
            "text/plain": [
              "<IPython.core.display.HTML object>"
            ]
          },
          "metadata": {
            "tags": []
          }
        },
        {
          "output_type": "display_data",
          "data": {
            "text/html": [
              "<span style=\"color:cyan\"> |-conv_blocks: 4</span>"
            ],
            "text/plain": [
              "<IPython.core.display.HTML object>"
            ]
          },
          "metadata": {
            "tags": []
          }
        },
        {
          "output_type": "display_data",
          "data": {
            "text/html": [
              "<span style=\"color:blue\"> |-dropout: 0.30000000000000004</span>"
            ],
            "text/plain": [
              "<IPython.core.display.HTML object>"
            ]
          },
          "metadata": {
            "tags": []
          }
        },
        {
          "output_type": "display_data",
          "data": {
            "text/html": [
              "<span style=\"color:cyan\"> |-filters_0: 224</span>"
            ],
            "text/plain": [
              "<IPython.core.display.HTML object>"
            ]
          },
          "metadata": {
            "tags": []
          }
        },
        {
          "output_type": "display_data",
          "data": {
            "text/html": [
              "<span style=\"color:blue\"> |-filters_1: 96</span>"
            ],
            "text/plain": [
              "<IPython.core.display.HTML object>"
            ]
          },
          "metadata": {
            "tags": []
          }
        },
        {
          "output_type": "display_data",
          "data": {
            "text/html": [
              "<span style=\"color:cyan\"> |-filters_2: 224</span>"
            ],
            "text/plain": [
              "<IPython.core.display.HTML object>"
            ]
          },
          "metadata": {
            "tags": []
          }
        },
        {
          "output_type": "display_data",
          "data": {
            "text/html": [
              "<span style=\"color:blue\"> |-filters_3: 224</span>"
            ],
            "text/plain": [
              "<IPython.core.display.HTML object>"
            ]
          },
          "metadata": {
            "tags": []
          }
        },
        {
          "output_type": "display_data",
          "data": {
            "text/html": [
              "<span style=\"color:cyan\"> |-filters_4: 32</span>"
            ],
            "text/plain": [
              "<IPython.core.display.HTML object>"
            ]
          },
          "metadata": {
            "tags": []
          }
        },
        {
          "output_type": "display_data",
          "data": {
            "text/html": [
              "<span style=\"color:blue\"> |-hidden_size: 90</span>"
            ],
            "text/plain": [
              "<IPython.core.display.HTML object>"
            ]
          },
          "metadata": {
            "tags": []
          }
        },
        {
          "output_type": "display_data",
          "data": {
            "text/html": [
              "<span style=\"color:cyan\"> |-learning_rate: 0.0039080605915127</span>"
            ],
            "text/plain": [
              "<IPython.core.display.HTML object>"
            ]
          },
          "metadata": {
            "tags": []
          }
        },
        {
          "output_type": "display_data",
          "data": {
            "text/html": [
              "<span style=\"color:blue\"> |-pooling_0: avg</span>"
            ],
            "text/plain": [
              "<IPython.core.display.HTML object>"
            ]
          },
          "metadata": {
            "tags": []
          }
        },
        {
          "output_type": "display_data",
          "data": {
            "text/html": [
              "<span style=\"color:cyan\"> |-pooling_1: max</span>"
            ],
            "text/plain": [
              "<IPython.core.display.HTML object>"
            ]
          },
          "metadata": {
            "tags": []
          }
        },
        {
          "output_type": "display_data",
          "data": {
            "text/html": [
              "<span style=\"color:blue\"> |-pooling_2: avg</span>"
            ],
            "text/plain": [
              "<IPython.core.display.HTML object>"
            ]
          },
          "metadata": {
            "tags": []
          }
        },
        {
          "output_type": "display_data",
          "data": {
            "text/html": [
              "<span style=\"color:cyan\"> |-pooling_3: max</span>"
            ],
            "text/plain": [
              "<IPython.core.display.HTML object>"
            ]
          },
          "metadata": {
            "tags": []
          }
        },
        {
          "output_type": "display_data",
          "data": {
            "text/html": [
              "<span style=\"color:blue\"> |-pooling_4: max</span>"
            ],
            "text/plain": [
              "<IPython.core.display.HTML object>"
            ]
          },
          "metadata": {
            "tags": []
          }
        },
        {
          "output_type": "display_data",
          "data": {
            "text/html": [
              "<span style=\"color:cyan\"> |-tuner/bracket: 1</span>"
            ],
            "text/plain": [
              "<IPython.core.display.HTML object>"
            ]
          },
          "metadata": {
            "tags": []
          }
        },
        {
          "output_type": "display_data",
          "data": {
            "text/html": [
              "<span style=\"color:blue\"> |-tuner/epochs: 20</span>"
            ],
            "text/plain": [
              "<IPython.core.display.HTML object>"
            ]
          },
          "metadata": {
            "tags": []
          }
        },
        {
          "output_type": "display_data",
          "data": {
            "text/html": [
              "<span style=\"color:cyan\"> |-tuner/initial_epoch: 7</span>"
            ],
            "text/plain": [
              "<IPython.core.display.HTML object>"
            ]
          },
          "metadata": {
            "tags": []
          }
        },
        {
          "output_type": "display_data",
          "data": {
            "text/html": [
              "<span style=\"color:blue\"> |-tuner/round: 1</span>"
            ],
            "text/plain": [
              "<IPython.core.display.HTML object>"
            ]
          },
          "metadata": {
            "tags": []
          }
        },
        {
          "output_type": "display_data",
          "data": {
            "text/html": [
              "<span style=\"color:cyan\"> |-tuner/trial_id: 6ff3a349112c81985e25d730403df3ac</span>"
            ],
            "text/plain": [
              "<IPython.core.display.HTML object>"
            ]
          },
          "metadata": {
            "tags": []
          }
        },
        {
          "output_type": "stream",
          "text": [
            "Epoch 8/20\n",
            "40/40 [==============================] - 2s 62ms/step - loss: 1.7965 - accuracy: 0.2025 - val_loss: 25.9720 - val_accuracy: 0.1709\n",
            "Epoch 9/20\n",
            "40/40 [==============================] - 2s 57ms/step - loss: 1.6332 - accuracy: 0.2164 - val_loss: 11.4953 - val_accuracy: 0.2462\n",
            "Epoch 10/20\n",
            "40/40 [==============================] - 2s 54ms/step - loss: 1.6211 - accuracy: 0.1962 - val_loss: 1.6351 - val_accuracy: 0.1558\n",
            "Epoch 11/20\n",
            "40/40 [==============================] - 2s 53ms/step - loss: 1.6113 - accuracy: 0.2151 - val_loss: 1.6183 - val_accuracy: 0.1508\n",
            "Epoch 12/20\n",
            "40/40 [==============================] - 2s 53ms/step - loss: 1.6094 - accuracy: 0.1950 - val_loss: 1.6563 - val_accuracy: 0.1508\n",
            "Epoch 13/20\n",
            "40/40 [==============================] - 2s 53ms/step - loss: 1.6053 - accuracy: 0.2050 - val_loss: 2.1159 - val_accuracy: 0.1608\n",
            "Epoch 14/20\n",
            "40/40 [==============================] - 2s 53ms/step - loss: 1.6099 - accuracy: 0.2289 - val_loss: 1.6062 - val_accuracy: 0.1709\n",
            "Epoch 15/20\n",
            "40/40 [==============================] - 2s 53ms/step - loss: 1.6104 - accuracy: 0.2138 - val_loss: 1.6107 - val_accuracy: 0.2060\n",
            "Epoch 16/20\n",
            "40/40 [==============================] - 2s 52ms/step - loss: 1.6100 - accuracy: 0.2226 - val_loss: 1.6158 - val_accuracy: 0.1709\n",
            "Epoch 17/20\n",
            "40/40 [==============================] - 2s 53ms/step - loss: 1.6083 - accuracy: 0.2151 - val_loss: 1.6177 - val_accuracy: 0.1709\n",
            "Epoch 18/20\n",
            "40/40 [==============================] - 2s 54ms/step - loss: 1.6074 - accuracy: 0.2176 - val_loss: 1.6176 - val_accuracy: 0.1709\n",
            "Epoch 19/20\n",
            "40/40 [==============================] - 2s 53ms/step - loss: 1.6080 - accuracy: 0.2176 - val_loss: 1.6181 - val_accuracy: 0.1709\n",
            "Epoch 20/20\n",
            "40/40 [==============================] - 2s 53ms/step - loss: 1.6086 - accuracy: 0.2176 - val_loss: 1.6179 - val_accuracy: 0.1709\n",
            "Epoch 8/20\n",
            "40/40 [==============================] - 2s 60ms/step - loss: 1.7673 - accuracy: 0.1887 - val_loss: 5.3460 - val_accuracy: 0.1709\n",
            "Epoch 9/20\n",
            "40/40 [==============================] - 2s 53ms/step - loss: 1.6328 - accuracy: 0.2126 - val_loss: 1.7222 - val_accuracy: 0.1608\n",
            "Epoch 10/20\n",
            "40/40 [==============================] - 2s 53ms/step - loss: 1.6141 - accuracy: 0.2201 - val_loss: 1.6188 - val_accuracy: 0.2462\n",
            "Epoch 11/20\n",
            "40/40 [==============================] - 2s 53ms/step - loss: 1.6156 - accuracy: 0.1887 - val_loss: 1.6176 - val_accuracy: 0.2261\n",
            "Epoch 12/20\n",
            "40/40 [==============================] - 2s 52ms/step - loss: 1.6139 - accuracy: 0.1937 - val_loss: 1.6128 - val_accuracy: 0.1608\n",
            "Epoch 13/20\n",
            "40/40 [==============================] - 2s 53ms/step - loss: 1.6091 - accuracy: 0.2101 - val_loss: 1.6137 - val_accuracy: 0.1558\n",
            "Epoch 14/20\n",
            "40/40 [==============================] - 2s 53ms/step - loss: 1.6101 - accuracy: 0.2189 - val_loss: 1.6146 - val_accuracy: 0.1709\n",
            "Epoch 15/20\n",
            "40/40 [==============================] - 2s 54ms/step - loss: 1.6082 - accuracy: 0.2239 - val_loss: 1.6262 - val_accuracy: 0.1658\n",
            "Epoch 16/20\n",
            "40/40 [==============================] - 2s 53ms/step - loss: 1.6096 - accuracy: 0.2138 - val_loss: 1.6153 - val_accuracy: 0.1709\n",
            "Epoch 17/20\n",
            "40/40 [==============================] - 2s 52ms/step - loss: 1.6055 - accuracy: 0.2063 - val_loss: 1.6212 - val_accuracy: 0.1709\n",
            "Epoch 18/20\n",
            "40/40 [==============================] - 2s 53ms/step - loss: 1.6111 - accuracy: 0.2126 - val_loss: 1.6147 - val_accuracy: 0.1709\n",
            "Epoch 19/20\n",
            "40/40 [==============================] - 2s 53ms/step - loss: 1.6089 - accuracy: 0.2176 - val_loss: 1.6159 - val_accuracy: 0.1709\n",
            "Epoch 20/20\n",
            "40/40 [==============================] - 2s 53ms/step - loss: 1.6086 - accuracy: 0.2176 - val_loss: 1.6181 - val_accuracy: 0.1709\n"
          ],
          "name": "stdout"
        },
        {
          "output_type": "display_data",
          "data": {
            "text/html": [
              "<span style=\"color:#4527A0\"><h1 style=\"font-size:18px\">Trial complete</h1></span>"
            ],
            "text/plain": [
              "<IPython.core.display.HTML object>"
            ]
          },
          "metadata": {
            "tags": []
          }
        },
        {
          "output_type": "display_data",
          "data": {
            "text/html": [
              "<span style=\"color:#4527A0\"><h1 style=\"font-size:18px\">Trial summary</h1></span>"
            ],
            "text/plain": [
              "<IPython.core.display.HTML object>"
            ]
          },
          "metadata": {
            "tags": []
          }
        },
        {
          "output_type": "display_data",
          "data": {
            "text/html": [
              "<span style=\"color:cyan\"> |-Trial ID: 2afe07be340624b9046436429ce86b0f</span>"
            ],
            "text/plain": [
              "<IPython.core.display.HTML object>"
            ]
          },
          "metadata": {
            "tags": []
          }
        },
        {
          "output_type": "display_data",
          "data": {
            "text/html": [
              "<span style=\"color:cyan\"> |-Score: 0.24623115360736847</span>"
            ],
            "text/plain": [
              "<IPython.core.display.HTML object>"
            ]
          },
          "metadata": {
            "tags": []
          }
        },
        {
          "output_type": "display_data",
          "data": {
            "text/html": [
              "<span style=\"color:cyan\"> |-Best step: 0</span>"
            ],
            "text/plain": [
              "<IPython.core.display.HTML object>"
            ]
          },
          "metadata": {
            "tags": []
          }
        },
        {
          "output_type": "display_data",
          "data": {
            "text/html": [
              "<span style=\"color:#7E57C2\"><h2 style=\"font-size:16px\">Hyperparameters:</h2></span>"
            ],
            "text/plain": [
              "<IPython.core.display.HTML object>"
            ]
          },
          "metadata": {
            "tags": []
          }
        },
        {
          "output_type": "display_data",
          "data": {
            "text/html": [
              "<span style=\"color:cyan\"> |-conv_blocks: 5</span>"
            ],
            "text/plain": [
              "<IPython.core.display.HTML object>"
            ]
          },
          "metadata": {
            "tags": []
          }
        },
        {
          "output_type": "display_data",
          "data": {
            "text/html": [
              "<span style=\"color:blue\"> |-dropout: 0.4</span>"
            ],
            "text/plain": [
              "<IPython.core.display.HTML object>"
            ]
          },
          "metadata": {
            "tags": []
          }
        },
        {
          "output_type": "display_data",
          "data": {
            "text/html": [
              "<span style=\"color:cyan\"> |-filters_0: 128</span>"
            ],
            "text/plain": [
              "<IPython.core.display.HTML object>"
            ]
          },
          "metadata": {
            "tags": []
          }
        },
        {
          "output_type": "display_data",
          "data": {
            "text/html": [
              "<span style=\"color:blue\"> |-filters_1: 224</span>"
            ],
            "text/plain": [
              "<IPython.core.display.HTML object>"
            ]
          },
          "metadata": {
            "tags": []
          }
        },
        {
          "output_type": "display_data",
          "data": {
            "text/html": [
              "<span style=\"color:cyan\"> |-filters_2: 192</span>"
            ],
            "text/plain": [
              "<IPython.core.display.HTML object>"
            ]
          },
          "metadata": {
            "tags": []
          }
        },
        {
          "output_type": "display_data",
          "data": {
            "text/html": [
              "<span style=\"color:blue\"> |-filters_3: 160</span>"
            ],
            "text/plain": [
              "<IPython.core.display.HTML object>"
            ]
          },
          "metadata": {
            "tags": []
          }
        },
        {
          "output_type": "display_data",
          "data": {
            "text/html": [
              "<span style=\"color:cyan\"> |-filters_4: 160</span>"
            ],
            "text/plain": [
              "<IPython.core.display.HTML object>"
            ]
          },
          "metadata": {
            "tags": []
          }
        },
        {
          "output_type": "display_data",
          "data": {
            "text/html": [
              "<span style=\"color:blue\"> |-hidden_size: 60</span>"
            ],
            "text/plain": [
              "<IPython.core.display.HTML object>"
            ]
          },
          "metadata": {
            "tags": []
          }
        },
        {
          "output_type": "display_data",
          "data": {
            "text/html": [
              "<span style=\"color:cyan\"> |-learning_rate: 0.002082550710767042</span>"
            ],
            "text/plain": [
              "<IPython.core.display.HTML object>"
            ]
          },
          "metadata": {
            "tags": []
          }
        },
        {
          "output_type": "display_data",
          "data": {
            "text/html": [
              "<span style=\"color:blue\"> |-pooling_0: max</span>"
            ],
            "text/plain": [
              "<IPython.core.display.HTML object>"
            ]
          },
          "metadata": {
            "tags": []
          }
        },
        {
          "output_type": "display_data",
          "data": {
            "text/html": [
              "<span style=\"color:cyan\"> |-pooling_1: max</span>"
            ],
            "text/plain": [
              "<IPython.core.display.HTML object>"
            ]
          },
          "metadata": {
            "tags": []
          }
        },
        {
          "output_type": "display_data",
          "data": {
            "text/html": [
              "<span style=\"color:blue\"> |-pooling_2: avg</span>"
            ],
            "text/plain": [
              "<IPython.core.display.HTML object>"
            ]
          },
          "metadata": {
            "tags": []
          }
        },
        {
          "output_type": "display_data",
          "data": {
            "text/html": [
              "<span style=\"color:cyan\"> |-pooling_3: max</span>"
            ],
            "text/plain": [
              "<IPython.core.display.HTML object>"
            ]
          },
          "metadata": {
            "tags": []
          }
        },
        {
          "output_type": "display_data",
          "data": {
            "text/html": [
              "<span style=\"color:blue\"> |-pooling_4: max</span>"
            ],
            "text/plain": [
              "<IPython.core.display.HTML object>"
            ]
          },
          "metadata": {
            "tags": []
          }
        },
        {
          "output_type": "display_data",
          "data": {
            "text/html": [
              "<span style=\"color:cyan\"> |-tuner/bracket: 1</span>"
            ],
            "text/plain": [
              "<IPython.core.display.HTML object>"
            ]
          },
          "metadata": {
            "tags": []
          }
        },
        {
          "output_type": "display_data",
          "data": {
            "text/html": [
              "<span style=\"color:blue\"> |-tuner/epochs: 20</span>"
            ],
            "text/plain": [
              "<IPython.core.display.HTML object>"
            ]
          },
          "metadata": {
            "tags": []
          }
        },
        {
          "output_type": "display_data",
          "data": {
            "text/html": [
              "<span style=\"color:cyan\"> |-tuner/initial_epoch: 7</span>"
            ],
            "text/plain": [
              "<IPython.core.display.HTML object>"
            ]
          },
          "metadata": {
            "tags": []
          }
        },
        {
          "output_type": "display_data",
          "data": {
            "text/html": [
              "<span style=\"color:blue\"> |-tuner/round: 1</span>"
            ],
            "text/plain": [
              "<IPython.core.display.HTML object>"
            ]
          },
          "metadata": {
            "tags": []
          }
        },
        {
          "output_type": "display_data",
          "data": {
            "text/html": [
              "<span style=\"color:cyan\"> |-tuner/trial_id: 1c89b01ea27133154af44eb5ff177a2c</span>"
            ],
            "text/plain": [
              "<IPython.core.display.HTML object>"
            ]
          },
          "metadata": {
            "tags": []
          }
        },
        {
          "output_type": "stream",
          "text": [
            "Epoch 1/20\n",
            "40/40 [==============================] - 2s 49ms/step - loss: 1.8304 - accuracy: 0.2101 - val_loss: 3.8099 - val_accuracy: 0.2613\n",
            "Epoch 2/20\n",
            "40/40 [==============================] - 2s 38ms/step - loss: 1.6227 - accuracy: 0.2025 - val_loss: 1.6079 - val_accuracy: 0.1910\n",
            "Epoch 3/20\n",
            "40/40 [==============================] - 2s 38ms/step - loss: 1.6059 - accuracy: 0.2101 - val_loss: 1.6529 - val_accuracy: 0.1709\n",
            "Epoch 4/20\n",
            "40/40 [==============================] - 2s 38ms/step - loss: 1.6144 - accuracy: 0.2151 - val_loss: 1.6229 - val_accuracy: 0.1709\n",
            "Epoch 5/20\n",
            "40/40 [==============================] - 2s 38ms/step - loss: 1.6085 - accuracy: 0.2138 - val_loss: 1.6145 - val_accuracy: 0.1859\n",
            "Epoch 6/20\n",
            "40/40 [==============================] - 2s 38ms/step - loss: 1.6099 - accuracy: 0.2013 - val_loss: 1.6139 - val_accuracy: 0.1709\n",
            "Epoch 7/20\n",
            "40/40 [==============================] - 2s 38ms/step - loss: 1.6089 - accuracy: 0.1975 - val_loss: 1.6156 - val_accuracy: 0.1608\n",
            "Epoch 8/20\n",
            "40/40 [==============================] - 1s 37ms/step - loss: 1.6060 - accuracy: 0.2151 - val_loss: 1.6170 - val_accuracy: 0.1709\n",
            "Epoch 9/20\n",
            "40/40 [==============================] - 1s 37ms/step - loss: 1.6078 - accuracy: 0.2164 - val_loss: 1.6170 - val_accuracy: 0.1709\n",
            "Epoch 10/20\n",
            "40/40 [==============================] - 1s 37ms/step - loss: 1.6089 - accuracy: 0.1937 - val_loss: 1.6160 - val_accuracy: 0.1709\n",
            "Epoch 11/20\n",
            "40/40 [==============================] - 1s 37ms/step - loss: 1.6086 - accuracy: 0.2176 - val_loss: 1.6168 - val_accuracy: 0.1709\n",
            "Epoch 12/20\n",
            "40/40 [==============================] - 1s 37ms/step - loss: 1.6084 - accuracy: 0.2176 - val_loss: 1.6165 - val_accuracy: 0.1709\n",
            "Epoch 13/20\n",
            "40/40 [==============================] - 1s 37ms/step - loss: 1.6087 - accuracy: 0.2176 - val_loss: 1.6168 - val_accuracy: 0.1709\n",
            "Epoch 14/20\n",
            "40/40 [==============================] - 1s 37ms/step - loss: 1.6084 - accuracy: 0.2176 - val_loss: 1.6174 - val_accuracy: 0.1709\n",
            "Epoch 15/20\n",
            "40/40 [==============================] - 1s 37ms/step - loss: 1.6083 - accuracy: 0.2176 - val_loss: 1.6179 - val_accuracy: 0.1709\n",
            "Epoch 16/20\n",
            "40/40 [==============================] - 1s 37ms/step - loss: 1.6083 - accuracy: 0.2176 - val_loss: 1.6178 - val_accuracy: 0.1709\n",
            "Epoch 17/20\n",
            "40/40 [==============================] - 1s 37ms/step - loss: 1.6083 - accuracy: 0.2176 - val_loss: 1.6185 - val_accuracy: 0.1709\n",
            "Epoch 18/20\n",
            "40/40 [==============================] - 1s 37ms/step - loss: 1.6083 - accuracy: 0.2176 - val_loss: 1.6178 - val_accuracy: 0.1709\n",
            "Epoch 19/20\n",
            "40/40 [==============================] - 1s 37ms/step - loss: 1.6084 - accuracy: 0.2176 - val_loss: 1.6185 - val_accuracy: 0.1709\n",
            "Epoch 20/20\n",
            "40/40 [==============================] - 1s 37ms/step - loss: 1.6083 - accuracy: 0.2176 - val_loss: 1.6182 - val_accuracy: 0.1709\n",
            "Epoch 1/20\n",
            "40/40 [==============================] - 2s 43ms/step - loss: 1.8415 - accuracy: 0.1723 - val_loss: 7.8663 - val_accuracy: 0.2462\n",
            "Epoch 2/20\n",
            "40/40 [==============================] - 1s 37ms/step - loss: 1.6140 - accuracy: 0.1925 - val_loss: 1.7089 - val_accuracy: 0.1709\n",
            "Epoch 3/20\n",
            "40/40 [==============================] - 1s 37ms/step - loss: 1.6111 - accuracy: 0.2151 - val_loss: 1.6118 - val_accuracy: 0.1608\n",
            "Epoch 4/20\n",
            "40/40 [==============================] - 1s 37ms/step - loss: 1.6098 - accuracy: 0.2214 - val_loss: 1.6101 - val_accuracy: 0.1558\n",
            "Epoch 5/20\n",
            "40/40 [==============================] - 1s 37ms/step - loss: 1.6089 - accuracy: 0.2176 - val_loss: 1.6122 - val_accuracy: 0.1608\n",
            "Epoch 6/20\n",
            "40/40 [==============================] - 1s 37ms/step - loss: 1.6075 - accuracy: 0.2252 - val_loss: 1.6171 - val_accuracy: 0.1457\n",
            "Epoch 7/20\n",
            "40/40 [==============================] - 1s 37ms/step - loss: 1.6098 - accuracy: 0.2113 - val_loss: 1.6146 - val_accuracy: 0.1709\n",
            "Epoch 8/20\n",
            "40/40 [==============================] - 1s 37ms/step - loss: 1.6086 - accuracy: 0.2176 - val_loss: 1.6149 - val_accuracy: 0.1709\n",
            "Epoch 9/20\n",
            "40/40 [==============================] - 1s 37ms/step - loss: 1.6084 - accuracy: 0.2176 - val_loss: 1.6151 - val_accuracy: 0.1709\n",
            "Epoch 10/20\n",
            "40/40 [==============================] - 1s 37ms/step - loss: 1.6083 - accuracy: 0.2176 - val_loss: 1.6168 - val_accuracy: 0.1709\n",
            "Epoch 11/20\n",
            "40/40 [==============================] - 1s 37ms/step - loss: 1.6084 - accuracy: 0.2176 - val_loss: 1.6163 - val_accuracy: 0.1709\n",
            "Epoch 12/20\n",
            "40/40 [==============================] - 1s 37ms/step - loss: 1.6084 - accuracy: 0.2176 - val_loss: 1.6178 - val_accuracy: 0.1709\n",
            "Epoch 13/20\n",
            "40/40 [==============================] - 1s 37ms/step - loss: 1.6084 - accuracy: 0.2176 - val_loss: 1.6176 - val_accuracy: 0.1709\n",
            "Epoch 14/20\n",
            "40/40 [==============================] - 1s 37ms/step - loss: 1.6083 - accuracy: 0.2176 - val_loss: 1.6180 - val_accuracy: 0.1709\n",
            "Epoch 15/20\n",
            "40/40 [==============================] - 1s 37ms/step - loss: 1.6083 - accuracy: 0.2176 - val_loss: 1.6185 - val_accuracy: 0.1709\n",
            "Epoch 16/20\n",
            "40/40 [==============================] - 1s 37ms/step - loss: 1.6084 - accuracy: 0.2176 - val_loss: 1.6178 - val_accuracy: 0.1709\n",
            "Epoch 17/20\n",
            "40/40 [==============================] - 1s 37ms/step - loss: 1.6083 - accuracy: 0.2176 - val_loss: 1.6184 - val_accuracy: 0.1709\n",
            "Epoch 18/20\n",
            "40/40 [==============================] - 1s 37ms/step - loss: 1.6084 - accuracy: 0.2176 - val_loss: 1.6186 - val_accuracy: 0.1709\n",
            "Epoch 19/20\n",
            "40/40 [==============================] - 1s 37ms/step - loss: 1.6084 - accuracy: 0.2176 - val_loss: 1.6183 - val_accuracy: 0.1709\n",
            "Epoch 20/20\n",
            "40/40 [==============================] - 1s 37ms/step - loss: 1.6083 - accuracy: 0.2176 - val_loss: 1.6196 - val_accuracy: 0.1709\n"
          ],
          "name": "stdout"
        },
        {
          "output_type": "display_data",
          "data": {
            "text/html": [
              "<span style=\"color:#4527A0\"><h1 style=\"font-size:18px\">Trial complete</h1></span>"
            ],
            "text/plain": [
              "<IPython.core.display.HTML object>"
            ]
          },
          "metadata": {
            "tags": []
          }
        },
        {
          "output_type": "display_data",
          "data": {
            "text/html": [
              "<span style=\"color:#4527A0\"><h1 style=\"font-size:18px\">Trial summary</h1></span>"
            ],
            "text/plain": [
              "<IPython.core.display.HTML object>"
            ]
          },
          "metadata": {
            "tags": []
          }
        },
        {
          "output_type": "display_data",
          "data": {
            "text/html": [
              "<span style=\"color:cyan\"> |-Trial ID: c9dde296e8893114e14328cf70908de5</span>"
            ],
            "text/plain": [
              "<IPython.core.display.HTML object>"
            ]
          },
          "metadata": {
            "tags": []
          }
        },
        {
          "output_type": "display_data",
          "data": {
            "text/html": [
              "<span style=\"color:cyan\"> |-Score: 0.25376883894205093</span>"
            ],
            "text/plain": [
              "<IPython.core.display.HTML object>"
            ]
          },
          "metadata": {
            "tags": []
          }
        },
        {
          "output_type": "display_data",
          "data": {
            "text/html": [
              "<span style=\"color:cyan\"> |-Best step: 0</span>"
            ],
            "text/plain": [
              "<IPython.core.display.HTML object>"
            ]
          },
          "metadata": {
            "tags": []
          }
        },
        {
          "output_type": "display_data",
          "data": {
            "text/html": [
              "<span style=\"color:#7E57C2\"><h2 style=\"font-size:16px\">Hyperparameters:</h2></span>"
            ],
            "text/plain": [
              "<IPython.core.display.HTML object>"
            ]
          },
          "metadata": {
            "tags": []
          }
        },
        {
          "output_type": "display_data",
          "data": {
            "text/html": [
              "<span style=\"color:cyan\"> |-conv_blocks: 4</span>"
            ],
            "text/plain": [
              "<IPython.core.display.HTML object>"
            ]
          },
          "metadata": {
            "tags": []
          }
        },
        {
          "output_type": "display_data",
          "data": {
            "text/html": [
              "<span style=\"color:blue\"> |-dropout: 0.5</span>"
            ],
            "text/plain": [
              "<IPython.core.display.HTML object>"
            ]
          },
          "metadata": {
            "tags": []
          }
        },
        {
          "output_type": "display_data",
          "data": {
            "text/html": [
              "<span style=\"color:cyan\"> |-filters_0: 96</span>"
            ],
            "text/plain": [
              "<IPython.core.display.HTML object>"
            ]
          },
          "metadata": {
            "tags": []
          }
        },
        {
          "output_type": "display_data",
          "data": {
            "text/html": [
              "<span style=\"color:blue\"> |-filters_1: 160</span>"
            ],
            "text/plain": [
              "<IPython.core.display.HTML object>"
            ]
          },
          "metadata": {
            "tags": []
          }
        },
        {
          "output_type": "display_data",
          "data": {
            "text/html": [
              "<span style=\"color:cyan\"> |-filters_2: 96</span>"
            ],
            "text/plain": [
              "<IPython.core.display.HTML object>"
            ]
          },
          "metadata": {
            "tags": []
          }
        },
        {
          "output_type": "display_data",
          "data": {
            "text/html": [
              "<span style=\"color:blue\"> |-filters_3: 192</span>"
            ],
            "text/plain": [
              "<IPython.core.display.HTML object>"
            ]
          },
          "metadata": {
            "tags": []
          }
        },
        {
          "output_type": "display_data",
          "data": {
            "text/html": [
              "<span style=\"color:cyan\"> |-filters_4: 192</span>"
            ],
            "text/plain": [
              "<IPython.core.display.HTML object>"
            ]
          },
          "metadata": {
            "tags": []
          }
        },
        {
          "output_type": "display_data",
          "data": {
            "text/html": [
              "<span style=\"color:blue\"> |-hidden_size: 40</span>"
            ],
            "text/plain": [
              "<IPython.core.display.HTML object>"
            ]
          },
          "metadata": {
            "tags": []
          }
        },
        {
          "output_type": "display_data",
          "data": {
            "text/html": [
              "<span style=\"color:cyan\"> |-learning_rate: 0.002007431323449956</span>"
            ],
            "text/plain": [
              "<IPython.core.display.HTML object>"
            ]
          },
          "metadata": {
            "tags": []
          }
        },
        {
          "output_type": "display_data",
          "data": {
            "text/html": [
              "<span style=\"color:blue\"> |-pooling_0: max</span>"
            ],
            "text/plain": [
              "<IPython.core.display.HTML object>"
            ]
          },
          "metadata": {
            "tags": []
          }
        },
        {
          "output_type": "display_data",
          "data": {
            "text/html": [
              "<span style=\"color:cyan\"> |-pooling_1: max</span>"
            ],
            "text/plain": [
              "<IPython.core.display.HTML object>"
            ]
          },
          "metadata": {
            "tags": []
          }
        },
        {
          "output_type": "display_data",
          "data": {
            "text/html": [
              "<span style=\"color:blue\"> |-pooling_2: max</span>"
            ],
            "text/plain": [
              "<IPython.core.display.HTML object>"
            ]
          },
          "metadata": {
            "tags": []
          }
        },
        {
          "output_type": "display_data",
          "data": {
            "text/html": [
              "<span style=\"color:cyan\"> |-pooling_3: max</span>"
            ],
            "text/plain": [
              "<IPython.core.display.HTML object>"
            ]
          },
          "metadata": {
            "tags": []
          }
        },
        {
          "output_type": "display_data",
          "data": {
            "text/html": [
              "<span style=\"color:blue\"> |-pooling_4: avg</span>"
            ],
            "text/plain": [
              "<IPython.core.display.HTML object>"
            ]
          },
          "metadata": {
            "tags": []
          }
        },
        {
          "output_type": "display_data",
          "data": {
            "text/html": [
              "<span style=\"color:cyan\"> |-tuner/bracket: 0</span>"
            ],
            "text/plain": [
              "<IPython.core.display.HTML object>"
            ]
          },
          "metadata": {
            "tags": []
          }
        },
        {
          "output_type": "display_data",
          "data": {
            "text/html": [
              "<span style=\"color:blue\"> |-tuner/epochs: 20</span>"
            ],
            "text/plain": [
              "<IPython.core.display.HTML object>"
            ]
          },
          "metadata": {
            "tags": []
          }
        },
        {
          "output_type": "display_data",
          "data": {
            "text/html": [
              "<span style=\"color:cyan\"> |-tuner/initial_epoch: 0</span>"
            ],
            "text/plain": [
              "<IPython.core.display.HTML object>"
            ]
          },
          "metadata": {
            "tags": []
          }
        },
        {
          "output_type": "display_data",
          "data": {
            "text/html": [
              "<span style=\"color:blue\"> |-tuner/round: 0</span>"
            ],
            "text/plain": [
              "<IPython.core.display.HTML object>"
            ]
          },
          "metadata": {
            "tags": []
          }
        },
        {
          "output_type": "stream",
          "text": [
            "Epoch 1/20\n",
            "40/40 [==============================] - 2s 49ms/step - loss: 1.7547 - accuracy: 0.2101 - val_loss: 1.6380 - val_accuracy: 0.2211\n",
            "Epoch 2/20\n",
            "40/40 [==============================] - 2s 40ms/step - loss: 1.6848 - accuracy: 0.1962 - val_loss: 1.6402 - val_accuracy: 0.1709\n",
            "Epoch 3/20\n",
            "40/40 [==============================] - 2s 40ms/step - loss: 1.6214 - accuracy: 0.1912 - val_loss: 1.6295 - val_accuracy: 0.1709\n",
            "Epoch 4/20\n",
            "40/40 [==============================] - 2s 42ms/step - loss: 1.6058 - accuracy: 0.2591 - val_loss: 1.6387 - val_accuracy: 0.2462\n",
            "Epoch 5/20\n",
            "40/40 [==============================] - 2s 40ms/step - loss: 1.5996 - accuracy: 0.2528 - val_loss: 1.7003 - val_accuracy: 0.2211\n",
            "Epoch 6/20\n",
            "40/40 [==============================] - 2s 40ms/step - loss: 1.6055 - accuracy: 0.2176 - val_loss: 1.6858 - val_accuracy: 0.1709\n",
            "Epoch 7/20\n",
            "40/40 [==============================] - 2s 40ms/step - loss: 1.5961 - accuracy: 0.2289 - val_loss: 1.6663 - val_accuracy: 0.1709\n",
            "Epoch 8/20\n",
            "40/40 [==============================] - 2s 42ms/step - loss: 1.5939 - accuracy: 0.2390 - val_loss: 1.6483 - val_accuracy: 0.2563\n",
            "Epoch 9/20\n",
            "40/40 [==============================] - 2s 40ms/step - loss: 1.5940 - accuracy: 0.2264 - val_loss: 1.6553 - val_accuracy: 0.2362\n",
            "Epoch 10/20\n",
            "40/40 [==============================] - 2s 40ms/step - loss: 1.5960 - accuracy: 0.2428 - val_loss: 1.6806 - val_accuracy: 0.2010\n",
            "Epoch 11/20\n",
            "40/40 [==============================] - 2s 39ms/step - loss: 1.6052 - accuracy: 0.2352 - val_loss: 1.6707 - val_accuracy: 0.1558\n",
            "Epoch 12/20\n",
            "40/40 [==============================] - 2s 40ms/step - loss: 1.5867 - accuracy: 0.2465 - val_loss: 1.6584 - val_accuracy: 0.1859\n",
            "Epoch 13/20\n",
            "40/40 [==============================] - 2s 40ms/step - loss: 1.5962 - accuracy: 0.2340 - val_loss: 1.6615 - val_accuracy: 0.1558\n",
            "Epoch 14/20\n",
            "40/40 [==============================] - 2s 40ms/step - loss: 1.5941 - accuracy: 0.2390 - val_loss: 1.6378 - val_accuracy: 0.2060\n",
            "Epoch 15/20\n",
            "40/40 [==============================] - 2s 40ms/step - loss: 1.5791 - accuracy: 0.2579 - val_loss: 1.7032 - val_accuracy: 0.1809\n",
            "Epoch 16/20\n",
            "40/40 [==============================] - 2s 40ms/step - loss: 1.5901 - accuracy: 0.2327 - val_loss: 1.6477 - val_accuracy: 0.2261\n",
            "Epoch 17/20\n",
            "40/40 [==============================] - 2s 40ms/step - loss: 1.5866 - accuracy: 0.2541 - val_loss: 1.7736 - val_accuracy: 0.1910\n",
            "Epoch 18/20\n",
            "40/40 [==============================] - 2s 40ms/step - loss: 1.5965 - accuracy: 0.2226 - val_loss: 2.0996 - val_accuracy: 0.1809\n",
            "Epoch 19/20\n",
            "40/40 [==============================] - 2s 39ms/step - loss: 1.5842 - accuracy: 0.2604 - val_loss: 1.7029 - val_accuracy: 0.2010\n",
            "Epoch 20/20\n",
            "40/40 [==============================] - 2s 40ms/step - loss: 1.5828 - accuracy: 0.2604 - val_loss: 1.6134 - val_accuracy: 0.2211\n",
            "Epoch 1/20\n",
            "40/40 [==============================] - 2s 45ms/step - loss: 1.7199 - accuracy: 0.2239 - val_loss: 1.6083 - val_accuracy: 0.1960\n",
            "Epoch 2/20\n",
            "40/40 [==============================] - 2s 40ms/step - loss: 1.6059 - accuracy: 0.2365 - val_loss: 1.6137 - val_accuracy: 0.2462\n",
            "Epoch 3/20\n",
            "40/40 [==============================] - 2s 39ms/step - loss: 1.5979 - accuracy: 0.2755 - val_loss: 1.7027 - val_accuracy: 0.1508\n",
            "Epoch 4/20\n",
            "40/40 [==============================] - 2s 40ms/step - loss: 1.6034 - accuracy: 0.2252 - val_loss: 1.7570 - val_accuracy: 0.2060\n",
            "Epoch 5/20\n",
            "40/40 [==============================] - 2s 40ms/step - loss: 1.5887 - accuracy: 0.2679 - val_loss: 1.7211 - val_accuracy: 0.2261\n",
            "Epoch 6/20\n",
            "40/40 [==============================] - 2s 40ms/step - loss: 1.5912 - accuracy: 0.2843 - val_loss: 1.9628 - val_accuracy: 0.1759\n",
            "Epoch 7/20\n",
            "40/40 [==============================] - 2s 40ms/step - loss: 1.5894 - accuracy: 0.2390 - val_loss: 1.7518 - val_accuracy: 0.2462\n",
            "Epoch 8/20\n",
            "40/40 [==============================] - 2s 40ms/step - loss: 1.5899 - accuracy: 0.2503 - val_loss: 1.7843 - val_accuracy: 0.2362\n",
            "Epoch 9/20\n",
            "40/40 [==============================] - 2s 40ms/step - loss: 1.5902 - accuracy: 0.2553 - val_loss: 1.7476 - val_accuracy: 0.2462\n",
            "Epoch 10/20\n",
            "40/40 [==============================] - 2s 40ms/step - loss: 1.5812 - accuracy: 0.2591 - val_loss: 1.8951 - val_accuracy: 0.2010\n",
            "Epoch 11/20\n",
            "40/40 [==============================] - 2s 40ms/step - loss: 1.5803 - accuracy: 0.2465 - val_loss: 1.8872 - val_accuracy: 0.2362\n",
            "Epoch 12/20\n",
            "40/40 [==============================] - 2s 40ms/step - loss: 1.5656 - accuracy: 0.2906 - val_loss: 1.8196 - val_accuracy: 0.2362\n",
            "Epoch 13/20\n",
            "40/40 [==============================] - 2s 40ms/step - loss: 1.5596 - accuracy: 0.2642 - val_loss: 1.9212 - val_accuracy: 0.2261\n",
            "Epoch 14/20\n",
            "40/40 [==============================] - 2s 40ms/step - loss: 1.5724 - accuracy: 0.2755 - val_loss: 1.6814 - val_accuracy: 0.2462\n",
            "Epoch 15/20\n",
            "40/40 [==============================] - 2s 39ms/step - loss: 1.5687 - accuracy: 0.2553 - val_loss: 1.6826 - val_accuracy: 0.2412\n",
            "Epoch 16/20\n",
            "40/40 [==============================] - 2s 42ms/step - loss: 1.5443 - accuracy: 0.3119 - val_loss: 1.6133 - val_accuracy: 0.2714\n",
            "Epoch 17/20\n",
            "40/40 [==============================] - 2s 40ms/step - loss: 1.5453 - accuracy: 0.2855 - val_loss: 1.6033 - val_accuracy: 0.2111\n",
            "Epoch 18/20\n",
            "40/40 [==============================] - 2s 40ms/step - loss: 1.5492 - accuracy: 0.2704 - val_loss: 1.6354 - val_accuracy: 0.2261\n",
            "Epoch 19/20\n",
            "40/40 [==============================] - 2s 40ms/step - loss: 1.5297 - accuracy: 0.3006 - val_loss: 1.6252 - val_accuracy: 0.2563\n",
            "Epoch 20/20\n",
            "40/40 [==============================] - 2s 40ms/step - loss: 1.5407 - accuracy: 0.2918 - val_loss: 1.6746 - val_accuracy: 0.2010\n"
          ],
          "name": "stdout"
        },
        {
          "output_type": "display_data",
          "data": {
            "text/html": [
              "<span style=\"color:#4527A0\"><h1 style=\"font-size:18px\">Trial complete</h1></span>"
            ],
            "text/plain": [
              "<IPython.core.display.HTML object>"
            ]
          },
          "metadata": {
            "tags": []
          }
        },
        {
          "output_type": "display_data",
          "data": {
            "text/html": [
              "<span style=\"color:#4527A0\"><h1 style=\"font-size:18px\">Trial summary</h1></span>"
            ],
            "text/plain": [
              "<IPython.core.display.HTML object>"
            ]
          },
          "metadata": {
            "tags": []
          }
        },
        {
          "output_type": "display_data",
          "data": {
            "text/html": [
              "<span style=\"color:cyan\"> |-Trial ID: f0168246944a337920d6c8045450af15</span>"
            ],
            "text/plain": [
              "<IPython.core.display.HTML object>"
            ]
          },
          "metadata": {
            "tags": []
          }
        },
        {
          "output_type": "display_data",
          "data": {
            "text/html": [
              "<span style=\"color:cyan\"> |-Score: 0.2638190984725952</span>"
            ],
            "text/plain": [
              "<IPython.core.display.HTML object>"
            ]
          },
          "metadata": {
            "tags": []
          }
        },
        {
          "output_type": "display_data",
          "data": {
            "text/html": [
              "<span style=\"color:cyan\"> |-Best step: 0</span>"
            ],
            "text/plain": [
              "<IPython.core.display.HTML object>"
            ]
          },
          "metadata": {
            "tags": []
          }
        },
        {
          "output_type": "display_data",
          "data": {
            "text/html": [
              "<span style=\"color:#7E57C2\"><h2 style=\"font-size:16px\">Hyperparameters:</h2></span>"
            ],
            "text/plain": [
              "<IPython.core.display.HTML object>"
            ]
          },
          "metadata": {
            "tags": []
          }
        },
        {
          "output_type": "display_data",
          "data": {
            "text/html": [
              "<span style=\"color:cyan\"> |-conv_blocks: 4</span>"
            ],
            "text/plain": [
              "<IPython.core.display.HTML object>"
            ]
          },
          "metadata": {
            "tags": []
          }
        },
        {
          "output_type": "display_data",
          "data": {
            "text/html": [
              "<span style=\"color:blue\"> |-dropout: 0.2</span>"
            ],
            "text/plain": [
              "<IPython.core.display.HTML object>"
            ]
          },
          "metadata": {
            "tags": []
          }
        },
        {
          "output_type": "display_data",
          "data": {
            "text/html": [
              "<span style=\"color:cyan\"> |-filters_0: 128</span>"
            ],
            "text/plain": [
              "<IPython.core.display.HTML object>"
            ]
          },
          "metadata": {
            "tags": []
          }
        },
        {
          "output_type": "display_data",
          "data": {
            "text/html": [
              "<span style=\"color:blue\"> |-filters_1: 128</span>"
            ],
            "text/plain": [
              "<IPython.core.display.HTML object>"
            ]
          },
          "metadata": {
            "tags": []
          }
        },
        {
          "output_type": "display_data",
          "data": {
            "text/html": [
              "<span style=\"color:cyan\"> |-filters_2: 96</span>"
            ],
            "text/plain": [
              "<IPython.core.display.HTML object>"
            ]
          },
          "metadata": {
            "tags": []
          }
        },
        {
          "output_type": "display_data",
          "data": {
            "text/html": [
              "<span style=\"color:blue\"> |-filters_3: 256</span>"
            ],
            "text/plain": [
              "<IPython.core.display.HTML object>"
            ]
          },
          "metadata": {
            "tags": []
          }
        },
        {
          "output_type": "display_data",
          "data": {
            "text/html": [
              "<span style=\"color:cyan\"> |-filters_4: 64</span>"
            ],
            "text/plain": [
              "<IPython.core.display.HTML object>"
            ]
          },
          "metadata": {
            "tags": []
          }
        },
        {
          "output_type": "display_data",
          "data": {
            "text/html": [
              "<span style=\"color:blue\"> |-hidden_size: 60</span>"
            ],
            "text/plain": [
              "<IPython.core.display.HTML object>"
            ]
          },
          "metadata": {
            "tags": []
          }
        },
        {
          "output_type": "display_data",
          "data": {
            "text/html": [
              "<span style=\"color:cyan\"> |-learning_rate: 0.0005488931309506657</span>"
            ],
            "text/plain": [
              "<IPython.core.display.HTML object>"
            ]
          },
          "metadata": {
            "tags": []
          }
        },
        {
          "output_type": "display_data",
          "data": {
            "text/html": [
              "<span style=\"color:blue\"> |-pooling_0: avg</span>"
            ],
            "text/plain": [
              "<IPython.core.display.HTML object>"
            ]
          },
          "metadata": {
            "tags": []
          }
        },
        {
          "output_type": "display_data",
          "data": {
            "text/html": [
              "<span style=\"color:cyan\"> |-pooling_1: max</span>"
            ],
            "text/plain": [
              "<IPython.core.display.HTML object>"
            ]
          },
          "metadata": {
            "tags": []
          }
        },
        {
          "output_type": "display_data",
          "data": {
            "text/html": [
              "<span style=\"color:blue\"> |-pooling_2: max</span>"
            ],
            "text/plain": [
              "<IPython.core.display.HTML object>"
            ]
          },
          "metadata": {
            "tags": []
          }
        },
        {
          "output_type": "display_data",
          "data": {
            "text/html": [
              "<span style=\"color:cyan\"> |-pooling_3: max</span>"
            ],
            "text/plain": [
              "<IPython.core.display.HTML object>"
            ]
          },
          "metadata": {
            "tags": []
          }
        },
        {
          "output_type": "display_data",
          "data": {
            "text/html": [
              "<span style=\"color:blue\"> |-pooling_4: max</span>"
            ],
            "text/plain": [
              "<IPython.core.display.HTML object>"
            ]
          },
          "metadata": {
            "tags": []
          }
        },
        {
          "output_type": "display_data",
          "data": {
            "text/html": [
              "<span style=\"color:cyan\"> |-tuner/bracket: 0</span>"
            ],
            "text/plain": [
              "<IPython.core.display.HTML object>"
            ]
          },
          "metadata": {
            "tags": []
          }
        },
        {
          "output_type": "display_data",
          "data": {
            "text/html": [
              "<span style=\"color:blue\"> |-tuner/epochs: 20</span>"
            ],
            "text/plain": [
              "<IPython.core.display.HTML object>"
            ]
          },
          "metadata": {
            "tags": []
          }
        },
        {
          "output_type": "display_data",
          "data": {
            "text/html": [
              "<span style=\"color:cyan\"> |-tuner/initial_epoch: 0</span>"
            ],
            "text/plain": [
              "<IPython.core.display.HTML object>"
            ]
          },
          "metadata": {
            "tags": []
          }
        },
        {
          "output_type": "display_data",
          "data": {
            "text/html": [
              "<span style=\"color:blue\"> |-tuner/round: 0</span>"
            ],
            "text/plain": [
              "<IPython.core.display.HTML object>"
            ]
          },
          "metadata": {
            "tags": []
          }
        },
        {
          "output_type": "stream",
          "text": [
            "Epoch 1/20\n",
            "40/40 [==============================] - 1s 31ms/step - loss: 1.6889 - accuracy: 0.2252 - val_loss: 4.6653 - val_accuracy: 0.2513\n",
            "Epoch 2/20\n",
            "40/40 [==============================] - 1s 24ms/step - loss: 1.6040 - accuracy: 0.2264 - val_loss: 1.6926 - val_accuracy: 0.2010\n",
            "Epoch 3/20\n",
            "40/40 [==============================] - 1s 24ms/step - loss: 1.6081 - accuracy: 0.2138 - val_loss: 1.6589 - val_accuracy: 0.2261\n",
            "Epoch 4/20\n",
            "40/40 [==============================] - 1s 24ms/step - loss: 1.6017 - accuracy: 0.2352 - val_loss: 1.6271 - val_accuracy: 0.2161\n",
            "Epoch 5/20\n",
            "40/40 [==============================] - 1s 24ms/step - loss: 1.6036 - accuracy: 0.2365 - val_loss: 1.6986 - val_accuracy: 0.2111\n",
            "Epoch 6/20\n",
            "40/40 [==============================] - 1s 24ms/step - loss: 1.6058 - accuracy: 0.2277 - val_loss: 1.6750 - val_accuracy: 0.2111\n",
            "Epoch 7/20\n",
            "40/40 [==============================] - 1s 24ms/step - loss: 1.5986 - accuracy: 0.2264 - val_loss: 1.7001 - val_accuracy: 0.2010\n",
            "Epoch 8/20\n",
            "40/40 [==============================] - 1s 24ms/step - loss: 1.5999 - accuracy: 0.2126 - val_loss: 1.6553 - val_accuracy: 0.2010\n",
            "Epoch 9/20\n",
            "40/40 [==============================] - 1s 24ms/step - loss: 1.6053 - accuracy: 0.2277 - val_loss: 1.7015 - val_accuracy: 0.2060\n",
            "Epoch 10/20\n",
            "40/40 [==============================] - 1s 24ms/step - loss: 1.6019 - accuracy: 0.2264 - val_loss: 1.6240 - val_accuracy: 0.2010\n",
            "Epoch 11/20\n",
            "40/40 [==============================] - 1s 24ms/step - loss: 1.6045 - accuracy: 0.2277 - val_loss: 1.6399 - val_accuracy: 0.2060\n",
            "Epoch 12/20\n",
            "40/40 [==============================] - 1s 24ms/step - loss: 1.6026 - accuracy: 0.2314 - val_loss: 1.6268 - val_accuracy: 0.2010\n",
            "Epoch 13/20\n",
            "40/40 [==============================] - 1s 24ms/step - loss: 1.6024 - accuracy: 0.2239 - val_loss: 1.6358 - val_accuracy: 0.2111\n",
            "Epoch 14/20\n",
            "40/40 [==============================] - 1s 24ms/step - loss: 1.6029 - accuracy: 0.2302 - val_loss: 1.6465 - val_accuracy: 0.2060\n",
            "Epoch 15/20\n",
            "40/40 [==============================] - 1s 24ms/step - loss: 1.6014 - accuracy: 0.2252 - val_loss: 1.6263 - val_accuracy: 0.2111\n",
            "Epoch 16/20\n",
            "40/40 [==============================] - 1s 24ms/step - loss: 1.6026 - accuracy: 0.2201 - val_loss: 1.7094 - val_accuracy: 0.2060\n",
            "Epoch 17/20\n",
            "40/40 [==============================] - 1s 24ms/step - loss: 1.6019 - accuracy: 0.2302 - val_loss: 1.6572 - val_accuracy: 0.2010\n",
            "Epoch 18/20\n",
            "40/40 [==============================] - 1s 24ms/step - loss: 1.6010 - accuracy: 0.2226 - val_loss: 1.6371 - val_accuracy: 0.2010\n",
            "Epoch 19/20\n",
            "40/40 [==============================] - 1s 24ms/step - loss: 1.6006 - accuracy: 0.2327 - val_loss: 1.6193 - val_accuracy: 0.1960\n",
            "Epoch 20/20\n",
            "40/40 [==============================] - 1s 24ms/step - loss: 1.6031 - accuracy: 0.2214 - val_loss: 1.6210 - val_accuracy: 0.1709\n",
            "Epoch 1/20\n",
            "40/40 [==============================] - 1s 29ms/step - loss: 1.6979 - accuracy: 0.2126 - val_loss: 2.0253 - val_accuracy: 0.2462\n",
            "Epoch 2/20\n",
            "40/40 [==============================] - 1s 24ms/step - loss: 1.6139 - accuracy: 0.1862 - val_loss: 1.6957 - val_accuracy: 0.1558\n",
            "Epoch 3/20\n",
            "40/40 [==============================] - 1s 24ms/step - loss: 1.6091 - accuracy: 0.2176 - val_loss: 1.6269 - val_accuracy: 0.1608\n",
            "Epoch 4/20\n",
            "40/40 [==============================] - 1s 24ms/step - loss: 1.6088 - accuracy: 0.2176 - val_loss: 1.6204 - val_accuracy: 0.1910\n",
            "Epoch 5/20\n",
            "40/40 [==============================] - 1s 24ms/step - loss: 1.6095 - accuracy: 0.2176 - val_loss: 1.6195 - val_accuracy: 0.1709\n",
            "Epoch 6/20\n",
            "40/40 [==============================] - 1s 24ms/step - loss: 1.6096 - accuracy: 0.2176 - val_loss: 1.6188 - val_accuracy: 0.1709\n",
            "Epoch 7/20\n",
            "40/40 [==============================] - 1s 24ms/step - loss: 1.6092 - accuracy: 0.2176 - val_loss: 1.6175 - val_accuracy: 0.1709\n",
            "Epoch 8/20\n",
            "40/40 [==============================] - 1s 24ms/step - loss: 1.6090 - accuracy: 0.2176 - val_loss: 1.6202 - val_accuracy: 0.1709\n",
            "Epoch 9/20\n",
            "40/40 [==============================] - 1s 24ms/step - loss: 1.6094 - accuracy: 0.2176 - val_loss: 1.6176 - val_accuracy: 0.1709\n",
            "Epoch 10/20\n",
            "40/40 [==============================] - 1s 24ms/step - loss: 1.6089 - accuracy: 0.2176 - val_loss: 1.6196 - val_accuracy: 0.1709\n",
            "Epoch 11/20\n",
            "40/40 [==============================] - 1s 24ms/step - loss: 1.6092 - accuracy: 0.2164 - val_loss: 1.6185 - val_accuracy: 0.1709\n",
            "Epoch 12/20\n",
            "40/40 [==============================] - 1s 24ms/step - loss: 1.6055 - accuracy: 0.2340 - val_loss: 1.6154 - val_accuracy: 0.1759\n",
            "Epoch 13/20\n",
            "40/40 [==============================] - 1s 24ms/step - loss: 1.6092 - accuracy: 0.2302 - val_loss: 1.6199 - val_accuracy: 0.1709\n",
            "Epoch 14/20\n",
            "40/40 [==============================] - 1s 24ms/step - loss: 1.6100 - accuracy: 0.2176 - val_loss: 1.6198 - val_accuracy: 0.1709\n",
            "Epoch 15/20\n",
            "40/40 [==============================] - 1s 24ms/step - loss: 1.6090 - accuracy: 0.2176 - val_loss: 1.6212 - val_accuracy: 0.1709\n",
            "Epoch 16/20\n",
            "40/40 [==============================] - 1s 24ms/step - loss: 1.6090 - accuracy: 0.2176 - val_loss: 1.6194 - val_accuracy: 0.1709\n",
            "Epoch 17/20\n",
            "40/40 [==============================] - 1s 24ms/step - loss: 1.6092 - accuracy: 0.2176 - val_loss: 1.6208 - val_accuracy: 0.1709\n",
            "Epoch 18/20\n",
            "40/40 [==============================] - 1s 24ms/step - loss: 1.6089 - accuracy: 0.2176 - val_loss: 1.6190 - val_accuracy: 0.1709\n",
            "Epoch 19/20\n",
            "40/40 [==============================] - 1s 24ms/step - loss: 1.6089 - accuracy: 0.2176 - val_loss: 1.6196 - val_accuracy: 0.1709\n",
            "Epoch 20/20\n",
            "40/40 [==============================] - 1s 24ms/step - loss: 1.6093 - accuracy: 0.2176 - val_loss: 1.6198 - val_accuracy: 0.1709\n"
          ],
          "name": "stdout"
        },
        {
          "output_type": "display_data",
          "data": {
            "text/html": [
              "<span style=\"color:#4527A0\"><h1 style=\"font-size:18px\">Trial complete</h1></span>"
            ],
            "text/plain": [
              "<IPython.core.display.HTML object>"
            ]
          },
          "metadata": {
            "tags": []
          }
        },
        {
          "output_type": "display_data",
          "data": {
            "text/html": [
              "<span style=\"color:#4527A0\"><h1 style=\"font-size:18px\">Trial summary</h1></span>"
            ],
            "text/plain": [
              "<IPython.core.display.HTML object>"
            ]
          },
          "metadata": {
            "tags": []
          }
        },
        {
          "output_type": "display_data",
          "data": {
            "text/html": [
              "<span style=\"color:cyan\"> |-Trial ID: 70457c5518c35600a908093c822829f0</span>"
            ],
            "text/plain": [
              "<IPython.core.display.HTML object>"
            ]
          },
          "metadata": {
            "tags": []
          }
        },
        {
          "output_type": "display_data",
          "data": {
            "text/html": [
              "<span style=\"color:cyan\"> |-Score: 0.2487437203526497</span>"
            ],
            "text/plain": [
              "<IPython.core.display.HTML object>"
            ]
          },
          "metadata": {
            "tags": []
          }
        },
        {
          "output_type": "display_data",
          "data": {
            "text/html": [
              "<span style=\"color:cyan\"> |-Best step: 0</span>"
            ],
            "text/plain": [
              "<IPython.core.display.HTML object>"
            ]
          },
          "metadata": {
            "tags": []
          }
        },
        {
          "output_type": "display_data",
          "data": {
            "text/html": [
              "<span style=\"color:#7E57C2\"><h2 style=\"font-size:16px\">Hyperparameters:</h2></span>"
            ],
            "text/plain": [
              "<IPython.core.display.HTML object>"
            ]
          },
          "metadata": {
            "tags": []
          }
        },
        {
          "output_type": "display_data",
          "data": {
            "text/html": [
              "<span style=\"color:cyan\"> |-conv_blocks: 3</span>"
            ],
            "text/plain": [
              "<IPython.core.display.HTML object>"
            ]
          },
          "metadata": {
            "tags": []
          }
        },
        {
          "output_type": "display_data",
          "data": {
            "text/html": [
              "<span style=\"color:blue\"> |-dropout: 0.2</span>"
            ],
            "text/plain": [
              "<IPython.core.display.HTML object>"
            ]
          },
          "metadata": {
            "tags": []
          }
        },
        {
          "output_type": "display_data",
          "data": {
            "text/html": [
              "<span style=\"color:cyan\"> |-filters_0: 64</span>"
            ],
            "text/plain": [
              "<IPython.core.display.HTML object>"
            ]
          },
          "metadata": {
            "tags": []
          }
        },
        {
          "output_type": "display_data",
          "data": {
            "text/html": [
              "<span style=\"color:blue\"> |-filters_1: 96</span>"
            ],
            "text/plain": [
              "<IPython.core.display.HTML object>"
            ]
          },
          "metadata": {
            "tags": []
          }
        },
        {
          "output_type": "display_data",
          "data": {
            "text/html": [
              "<span style=\"color:cyan\"> |-filters_2: 160</span>"
            ],
            "text/plain": [
              "<IPython.core.display.HTML object>"
            ]
          },
          "metadata": {
            "tags": []
          }
        },
        {
          "output_type": "display_data",
          "data": {
            "text/html": [
              "<span style=\"color:blue\"> |-filters_3: 224</span>"
            ],
            "text/plain": [
              "<IPython.core.display.HTML object>"
            ]
          },
          "metadata": {
            "tags": []
          }
        },
        {
          "output_type": "display_data",
          "data": {
            "text/html": [
              "<span style=\"color:cyan\"> |-filters_4: 64</span>"
            ],
            "text/plain": [
              "<IPython.core.display.HTML object>"
            ]
          },
          "metadata": {
            "tags": []
          }
        },
        {
          "output_type": "display_data",
          "data": {
            "text/html": [
              "<span style=\"color:blue\"> |-hidden_size: 70</span>"
            ],
            "text/plain": [
              "<IPython.core.display.HTML object>"
            ]
          },
          "metadata": {
            "tags": []
          }
        },
        {
          "output_type": "display_data",
          "data": {
            "text/html": [
              "<span style=\"color:cyan\"> |-learning_rate: 0.007795489030652708</span>"
            ],
            "text/plain": [
              "<IPython.core.display.HTML object>"
            ]
          },
          "metadata": {
            "tags": []
          }
        },
        {
          "output_type": "display_data",
          "data": {
            "text/html": [
              "<span style=\"color:blue\"> |-pooling_0: max</span>"
            ],
            "text/plain": [
              "<IPython.core.display.HTML object>"
            ]
          },
          "metadata": {
            "tags": []
          }
        },
        {
          "output_type": "display_data",
          "data": {
            "text/html": [
              "<span style=\"color:cyan\"> |-pooling_1: max</span>"
            ],
            "text/plain": [
              "<IPython.core.display.HTML object>"
            ]
          },
          "metadata": {
            "tags": []
          }
        },
        {
          "output_type": "display_data",
          "data": {
            "text/html": [
              "<span style=\"color:blue\"> |-pooling_2: avg</span>"
            ],
            "text/plain": [
              "<IPython.core.display.HTML object>"
            ]
          },
          "metadata": {
            "tags": []
          }
        },
        {
          "output_type": "display_data",
          "data": {
            "text/html": [
              "<span style=\"color:cyan\"> |-pooling_3: avg</span>"
            ],
            "text/plain": [
              "<IPython.core.display.HTML object>"
            ]
          },
          "metadata": {
            "tags": []
          }
        },
        {
          "output_type": "display_data",
          "data": {
            "text/html": [
              "<span style=\"color:blue\"> |-pooling_4: max</span>"
            ],
            "text/plain": [
              "<IPython.core.display.HTML object>"
            ]
          },
          "metadata": {
            "tags": []
          }
        },
        {
          "output_type": "display_data",
          "data": {
            "text/html": [
              "<span style=\"color:cyan\"> |-tuner/bracket: 0</span>"
            ],
            "text/plain": [
              "<IPython.core.display.HTML object>"
            ]
          },
          "metadata": {
            "tags": []
          }
        },
        {
          "output_type": "display_data",
          "data": {
            "text/html": [
              "<span style=\"color:blue\"> |-tuner/epochs: 20</span>"
            ],
            "text/plain": [
              "<IPython.core.display.HTML object>"
            ]
          },
          "metadata": {
            "tags": []
          }
        },
        {
          "output_type": "display_data",
          "data": {
            "text/html": [
              "<span style=\"color:cyan\"> |-tuner/initial_epoch: 0</span>"
            ],
            "text/plain": [
              "<IPython.core.display.HTML object>"
            ]
          },
          "metadata": {
            "tags": []
          }
        },
        {
          "output_type": "display_data",
          "data": {
            "text/html": [
              "<span style=\"color:blue\"> |-tuner/round: 0</span>"
            ],
            "text/plain": [
              "<IPython.core.display.HTML object>"
            ]
          },
          "metadata": {
            "tags": []
          }
        },
        {
          "output_type": "stream",
          "text": [
            "Epoch 1/20\n",
            "40/40 [==============================] - 2s 38ms/step - loss: 1.6420 - accuracy: 0.2038 - val_loss: 9.1663 - val_accuracy: 0.1508\n",
            "Epoch 2/20\n",
            "40/40 [==============================] - 1s 32ms/step - loss: 1.6276 - accuracy: 0.2088 - val_loss: 1.6722 - val_accuracy: 0.1809\n",
            "Epoch 3/20\n",
            "40/40 [==============================] - 1s 33ms/step - loss: 1.6127 - accuracy: 0.2264 - val_loss: 1.6618 - val_accuracy: 0.2312\n",
            "Epoch 4/20\n",
            "40/40 [==============================] - 1s 31ms/step - loss: 1.6108 - accuracy: 0.2289 - val_loss: 1.6697 - val_accuracy: 0.2111\n",
            "Epoch 5/20\n",
            "40/40 [==============================] - 1s 31ms/step - loss: 1.6024 - accuracy: 0.2428 - val_loss: 1.6728 - val_accuracy: 0.2111\n",
            "Epoch 6/20\n",
            "40/40 [==============================] - 1s 31ms/step - loss: 1.6072 - accuracy: 0.2075 - val_loss: 1.6751 - val_accuracy: 0.1960\n",
            "Epoch 7/20\n",
            "40/40 [==============================] - 1s 31ms/step - loss: 1.5960 - accuracy: 0.2403 - val_loss: 1.6620 - val_accuracy: 0.2060\n",
            "Epoch 8/20\n",
            "40/40 [==============================] - 1s 32ms/step - loss: 1.5933 - accuracy: 0.2289 - val_loss: 1.6848 - val_accuracy: 0.2111\n",
            "Epoch 9/20\n",
            "40/40 [==============================] - 1s 31ms/step - loss: 1.6023 - accuracy: 0.2302 - val_loss: 1.6580 - val_accuracy: 0.1910\n",
            "Epoch 10/20\n",
            "40/40 [==============================] - 1s 31ms/step - loss: 1.6034 - accuracy: 0.2025 - val_loss: 1.6327 - val_accuracy: 0.2010\n",
            "Epoch 11/20\n",
            "40/40 [==============================] - 1s 33ms/step - loss: 1.5960 - accuracy: 0.2176 - val_loss: 1.6331 - val_accuracy: 0.2362\n",
            "Epoch 12/20\n",
            "40/40 [==============================] - 1s 31ms/step - loss: 1.5991 - accuracy: 0.2201 - val_loss: 1.6212 - val_accuracy: 0.2161\n",
            "Epoch 13/20\n",
            "40/40 [==============================] - 1s 33ms/step - loss: 1.6000 - accuracy: 0.2415 - val_loss: 1.6353 - val_accuracy: 0.2563\n",
            "Epoch 14/20\n",
            "40/40 [==============================] - 1s 31ms/step - loss: 1.5976 - accuracy: 0.2164 - val_loss: 1.6283 - val_accuracy: 0.2111\n",
            "Epoch 15/20\n",
            "40/40 [==============================] - 1s 31ms/step - loss: 1.5952 - accuracy: 0.2314 - val_loss: 1.6569 - val_accuracy: 0.2161\n",
            "Epoch 16/20\n",
            "40/40 [==============================] - 1s 31ms/step - loss: 1.5901 - accuracy: 0.2239 - val_loss: 1.6667 - val_accuracy: 0.2111\n",
            "Epoch 17/20\n",
            "40/40 [==============================] - 1s 31ms/step - loss: 1.5986 - accuracy: 0.2352 - val_loss: 1.6286 - val_accuracy: 0.2211\n",
            "Epoch 18/20\n",
            "40/40 [==============================] - 1s 31ms/step - loss: 1.5916 - accuracy: 0.2491 - val_loss: 1.6447 - val_accuracy: 0.2111\n",
            "Epoch 19/20\n",
            "40/40 [==============================] - 1s 31ms/step - loss: 1.5901 - accuracy: 0.2214 - val_loss: 1.6318 - val_accuracy: 0.2111\n",
            "Epoch 20/20\n",
            "40/40 [==============================] - 1s 31ms/step - loss: 1.5906 - accuracy: 0.2415 - val_loss: 1.6465 - val_accuracy: 0.1658\n",
            "Epoch 1/20\n",
            "40/40 [==============================] - 1s 37ms/step - loss: 1.6428 - accuracy: 0.1811 - val_loss: 18.1347 - val_accuracy: 0.1709\n",
            "Epoch 2/20\n",
            "40/40 [==============================] - 1s 31ms/step - loss: 1.6243 - accuracy: 0.2201 - val_loss: 1.6158 - val_accuracy: 0.1759\n",
            "Epoch 3/20\n",
            "40/40 [==============================] - 1s 31ms/step - loss: 1.6152 - accuracy: 0.2025 - val_loss: 1.6782 - val_accuracy: 0.2462\n",
            "Epoch 4/20\n",
            "40/40 [==============================] - 1s 31ms/step - loss: 1.6075 - accuracy: 0.2277 - val_loss: 1.8075 - val_accuracy: 0.2462\n",
            "Epoch 5/20\n",
            "40/40 [==============================] - 1s 31ms/step - loss: 1.6087 - accuracy: 0.2151 - val_loss: 1.6328 - val_accuracy: 0.2261\n",
            "Epoch 6/20\n",
            "40/40 [==============================] - 1s 33ms/step - loss: 1.6130 - accuracy: 0.2038 - val_loss: 1.6276 - val_accuracy: 0.2764\n",
            "Epoch 7/20\n",
            "40/40 [==============================] - 1s 31ms/step - loss: 1.6037 - accuracy: 0.2365 - val_loss: 1.6994 - val_accuracy: 0.2513\n",
            "Epoch 8/20\n",
            "40/40 [==============================] - 1s 31ms/step - loss: 1.5992 - accuracy: 0.2327 - val_loss: 1.8497 - val_accuracy: 0.2462\n",
            "Epoch 9/20\n",
            "40/40 [==============================] - 1s 31ms/step - loss: 1.6110 - accuracy: 0.1887 - val_loss: 1.6285 - val_accuracy: 0.1910\n",
            "Epoch 10/20\n",
            "40/40 [==============================] - 1s 31ms/step - loss: 1.6031 - accuracy: 0.2025 - val_loss: 1.6593 - val_accuracy: 0.2362\n",
            "Epoch 11/20\n",
            "40/40 [==============================] - 1s 31ms/step - loss: 1.6010 - accuracy: 0.2327 - val_loss: 1.6566 - val_accuracy: 0.2161\n",
            "Epoch 12/20\n",
            "40/40 [==============================] - 1s 31ms/step - loss: 1.5956 - accuracy: 0.2377 - val_loss: 1.6611 - val_accuracy: 0.2462\n",
            "Epoch 13/20\n",
            "40/40 [==============================] - 1s 31ms/step - loss: 1.5990 - accuracy: 0.2642 - val_loss: 1.6878 - val_accuracy: 0.2060\n",
            "Epoch 14/20\n",
            "40/40 [==============================] - 1s 31ms/step - loss: 1.5997 - accuracy: 0.2252 - val_loss: 1.6672 - val_accuracy: 0.1910\n",
            "Epoch 15/20\n",
            "40/40 [==============================] - 1s 31ms/step - loss: 1.5962 - accuracy: 0.2528 - val_loss: 1.6937 - val_accuracy: 0.2362\n",
            "Epoch 16/20\n",
            "40/40 [==============================] - 1s 31ms/step - loss: 1.6016 - accuracy: 0.2264 - val_loss: 1.6644 - val_accuracy: 0.2060\n",
            "Epoch 17/20\n",
            "40/40 [==============================] - 1s 31ms/step - loss: 1.6022 - accuracy: 0.2277 - val_loss: 1.6563 - val_accuracy: 0.1709\n",
            "Epoch 18/20\n",
            "40/40 [==============================] - 1s 31ms/step - loss: 1.5928 - accuracy: 0.2201 - val_loss: 1.6652 - val_accuracy: 0.2663\n",
            "Epoch 19/20\n",
            "40/40 [==============================] - 1s 31ms/step - loss: 1.5906 - accuracy: 0.2591 - val_loss: 1.7049 - val_accuracy: 0.1960\n",
            "Epoch 20/20\n",
            "40/40 [==============================] - 1s 31ms/step - loss: 1.5982 - accuracy: 0.2403 - val_loss: 1.6323 - val_accuracy: 0.2060\n"
          ],
          "name": "stdout"
        },
        {
          "output_type": "display_data",
          "data": {
            "text/html": [
              "<span style=\"color:#4527A0\"><h1 style=\"font-size:18px\">Trial complete</h1></span>"
            ],
            "text/plain": [
              "<IPython.core.display.HTML object>"
            ]
          },
          "metadata": {
            "tags": []
          }
        },
        {
          "output_type": "display_data",
          "data": {
            "text/html": [
              "<span style=\"color:#4527A0\"><h1 style=\"font-size:18px\">Trial summary</h1></span>"
            ],
            "text/plain": [
              "<IPython.core.display.HTML object>"
            ]
          },
          "metadata": {
            "tags": []
          }
        },
        {
          "output_type": "display_data",
          "data": {
            "text/html": [
              "<span style=\"color:cyan\"> |-Trial ID: 30c5edc23adf70da95d788aacd612771</span>"
            ],
            "text/plain": [
              "<IPython.core.display.HTML object>"
            ]
          },
          "metadata": {
            "tags": []
          }
        },
        {
          "output_type": "display_data",
          "data": {
            "text/html": [
              "<span style=\"color:cyan\"> |-Score: 0.26633165776729584</span>"
            ],
            "text/plain": [
              "<IPython.core.display.HTML object>"
            ]
          },
          "metadata": {
            "tags": []
          }
        },
        {
          "output_type": "display_data",
          "data": {
            "text/html": [
              "<span style=\"color:cyan\"> |-Best step: 0</span>"
            ],
            "text/plain": [
              "<IPython.core.display.HTML object>"
            ]
          },
          "metadata": {
            "tags": []
          }
        },
        {
          "output_type": "display_data",
          "data": {
            "text/html": [
              "<span style=\"color:#7E57C2\"><h2 style=\"font-size:16px\">Hyperparameters:</h2></span>"
            ],
            "text/plain": [
              "<IPython.core.display.HTML object>"
            ]
          },
          "metadata": {
            "tags": []
          }
        },
        {
          "output_type": "display_data",
          "data": {
            "text/html": [
              "<span style=\"color:cyan\"> |-conv_blocks: 4</span>"
            ],
            "text/plain": [
              "<IPython.core.display.HTML object>"
            ]
          },
          "metadata": {
            "tags": []
          }
        },
        {
          "output_type": "display_data",
          "data": {
            "text/html": [
              "<span style=\"color:blue\"> |-dropout: 0.2</span>"
            ],
            "text/plain": [
              "<IPython.core.display.HTML object>"
            ]
          },
          "metadata": {
            "tags": []
          }
        },
        {
          "output_type": "display_data",
          "data": {
            "text/html": [
              "<span style=\"color:cyan\"> |-filters_0: 96</span>"
            ],
            "text/plain": [
              "<IPython.core.display.HTML object>"
            ]
          },
          "metadata": {
            "tags": []
          }
        },
        {
          "output_type": "display_data",
          "data": {
            "text/html": [
              "<span style=\"color:blue\"> |-filters_1: 96</span>"
            ],
            "text/plain": [
              "<IPython.core.display.HTML object>"
            ]
          },
          "metadata": {
            "tags": []
          }
        },
        {
          "output_type": "display_data",
          "data": {
            "text/html": [
              "<span style=\"color:cyan\"> |-filters_2: 96</span>"
            ],
            "text/plain": [
              "<IPython.core.display.HTML object>"
            ]
          },
          "metadata": {
            "tags": []
          }
        },
        {
          "output_type": "display_data",
          "data": {
            "text/html": [
              "<span style=\"color:blue\"> |-filters_3: 32</span>"
            ],
            "text/plain": [
              "<IPython.core.display.HTML object>"
            ]
          },
          "metadata": {
            "tags": []
          }
        },
        {
          "output_type": "display_data",
          "data": {
            "text/html": [
              "<span style=\"color:cyan\"> |-filters_4: 96</span>"
            ],
            "text/plain": [
              "<IPython.core.display.HTML object>"
            ]
          },
          "metadata": {
            "tags": []
          }
        },
        {
          "output_type": "display_data",
          "data": {
            "text/html": [
              "<span style=\"color:blue\"> |-hidden_size: 60</span>"
            ],
            "text/plain": [
              "<IPython.core.display.HTML object>"
            ]
          },
          "metadata": {
            "tags": []
          }
        },
        {
          "output_type": "display_data",
          "data": {
            "text/html": [
              "<span style=\"color:cyan\"> |-learning_rate: 0.004281670239561954</span>"
            ],
            "text/plain": [
              "<IPython.core.display.HTML object>"
            ]
          },
          "metadata": {
            "tags": []
          }
        },
        {
          "output_type": "display_data",
          "data": {
            "text/html": [
              "<span style=\"color:blue\"> |-pooling_0: avg</span>"
            ],
            "text/plain": [
              "<IPython.core.display.HTML object>"
            ]
          },
          "metadata": {
            "tags": []
          }
        },
        {
          "output_type": "display_data",
          "data": {
            "text/html": [
              "<span style=\"color:cyan\"> |-pooling_1: max</span>"
            ],
            "text/plain": [
              "<IPython.core.display.HTML object>"
            ]
          },
          "metadata": {
            "tags": []
          }
        },
        {
          "output_type": "display_data",
          "data": {
            "text/html": [
              "<span style=\"color:blue\"> |-pooling_2: max</span>"
            ],
            "text/plain": [
              "<IPython.core.display.HTML object>"
            ]
          },
          "metadata": {
            "tags": []
          }
        },
        {
          "output_type": "display_data",
          "data": {
            "text/html": [
              "<span style=\"color:cyan\"> |-pooling_3: avg</span>"
            ],
            "text/plain": [
              "<IPython.core.display.HTML object>"
            ]
          },
          "metadata": {
            "tags": []
          }
        },
        {
          "output_type": "display_data",
          "data": {
            "text/html": [
              "<span style=\"color:blue\"> |-pooling_4: avg</span>"
            ],
            "text/plain": [
              "<IPython.core.display.HTML object>"
            ]
          },
          "metadata": {
            "tags": []
          }
        },
        {
          "output_type": "display_data",
          "data": {
            "text/html": [
              "<span style=\"color:cyan\"> |-tuner/bracket: 0</span>"
            ],
            "text/plain": [
              "<IPython.core.display.HTML object>"
            ]
          },
          "metadata": {
            "tags": []
          }
        },
        {
          "output_type": "display_data",
          "data": {
            "text/html": [
              "<span style=\"color:blue\"> |-tuner/epochs: 20</span>"
            ],
            "text/plain": [
              "<IPython.core.display.HTML object>"
            ]
          },
          "metadata": {
            "tags": []
          }
        },
        {
          "output_type": "display_data",
          "data": {
            "text/html": [
              "<span style=\"color:cyan\"> |-tuner/initial_epoch: 0</span>"
            ],
            "text/plain": [
              "<IPython.core.display.HTML object>"
            ]
          },
          "metadata": {
            "tags": []
          }
        },
        {
          "output_type": "display_data",
          "data": {
            "text/html": [
              "<span style=\"color:blue\"> |-tuner/round: 0</span>"
            ],
            "text/plain": [
              "<IPython.core.display.HTML object>"
            ]
          },
          "metadata": {
            "tags": []
          }
        },
        {
          "output_type": "stream",
          "text": [
            "INFO:tensorflow:Oracle triggered exit\n"
          ],
          "name": "stdout"
        }
      ]
    },
    {
      "cell_type": "code",
      "metadata": {
        "id": "zWR4LCVTI9dA"
      },
      "source": [
        "model = tuner.get_best_models(num_models=1)[0]"
      ],
      "execution_count": 242,
      "outputs": []
    },
    {
      "cell_type": "code",
      "metadata": {
        "id": "qDNBT7zWJCH4",
        "outputId": "00bd1dd5-63e2-4169-970a-86383499a429",
        "colab": {
          "base_uri": "https://localhost:8080/",
          "height": 1000
        }
      },
      "source": [
        "model.summary()"
      ],
      "execution_count": 243,
      "outputs": [
        {
          "output_type": "stream",
          "text": [
            "Model: \"functional_1\"\n",
            "_________________________________________________________________\n",
            "Layer (type)                 Output Shape              Param #   \n",
            "=================================================================\n",
            "input_1 (InputLayer)         [(None, 128, 128, 3)]     0         \n",
            "_________________________________________________________________\n",
            "conv2d (Conv2D)              (None, 128, 128, 64)      1792      \n",
            "_________________________________________________________________\n",
            "batch_normalization (BatchNo (None, 128, 128, 64)      256       \n",
            "_________________________________________________________________\n",
            "re_lu (ReLU)                 (None, 128, 128, 64)      0         \n",
            "_________________________________________________________________\n",
            "conv2d_1 (Conv2D)            (None, 128, 128, 64)      36928     \n",
            "_________________________________________________________________\n",
            "batch_normalization_1 (Batch (None, 128, 128, 64)      256       \n",
            "_________________________________________________________________\n",
            "re_lu_1 (ReLU)               (None, 128, 128, 64)      0         \n",
            "_________________________________________________________________\n",
            "average_pooling2d (AveragePo (None, 64, 64, 64)        0         \n",
            "_________________________________________________________________\n",
            "conv2d_2 (Conv2D)            (None, 64, 64, 96)        55392     \n",
            "_________________________________________________________________\n",
            "batch_normalization_2 (Batch (None, 64, 64, 96)        384       \n",
            "_________________________________________________________________\n",
            "re_lu_2 (ReLU)               (None, 64, 64, 96)        0         \n",
            "_________________________________________________________________\n",
            "conv2d_3 (Conv2D)            (None, 64, 64, 96)        83040     \n",
            "_________________________________________________________________\n",
            "batch_normalization_3 (Batch (None, 64, 64, 96)        384       \n",
            "_________________________________________________________________\n",
            "re_lu_3 (ReLU)               (None, 64, 64, 96)        0         \n",
            "_________________________________________________________________\n",
            "max_pooling2d (MaxPooling2D) (None, 32, 32, 96)        0         \n",
            "_________________________________________________________________\n",
            "conv2d_4 (Conv2D)            (None, 32, 32, 32)        27680     \n",
            "_________________________________________________________________\n",
            "batch_normalization_4 (Batch (None, 32, 32, 32)        128       \n",
            "_________________________________________________________________\n",
            "re_lu_4 (ReLU)               (None, 32, 32, 32)        0         \n",
            "_________________________________________________________________\n",
            "conv2d_5 (Conv2D)            (None, 32, 32, 32)        9248      \n",
            "_________________________________________________________________\n",
            "batch_normalization_5 (Batch (None, 32, 32, 32)        128       \n",
            "_________________________________________________________________\n",
            "re_lu_5 (ReLU)               (None, 32, 32, 32)        0         \n",
            "_________________________________________________________________\n",
            "max_pooling2d_1 (MaxPooling2 (None, 16, 16, 32)        0         \n",
            "_________________________________________________________________\n",
            "conv2d_6 (Conv2D)            (None, 16, 16, 32)        9248      \n",
            "_________________________________________________________________\n",
            "batch_normalization_6 (Batch (None, 16, 16, 32)        128       \n",
            "_________________________________________________________________\n",
            "re_lu_6 (ReLU)               (None, 16, 16, 32)        0         \n",
            "_________________________________________________________________\n",
            "conv2d_7 (Conv2D)            (None, 16, 16, 32)        9248      \n",
            "_________________________________________________________________\n",
            "batch_normalization_7 (Batch (None, 16, 16, 32)        128       \n",
            "_________________________________________________________________\n",
            "re_lu_7 (ReLU)               (None, 16, 16, 32)        0         \n",
            "_________________________________________________________________\n",
            "average_pooling2d_1 (Average (None, 8, 8, 32)          0         \n",
            "_________________________________________________________________\n",
            "global_average_pooling2d (Gl (None, 32)                0         \n",
            "_________________________________________________________________\n",
            "dense (Dense)                (None, 40)                1320      \n",
            "_________________________________________________________________\n",
            "dropout (Dropout)            (None, 40)                0         \n",
            "_________________________________________________________________\n",
            "dense_1 (Dense)              (None, 5)                 205       \n",
            "=================================================================\n",
            "Total params: 235,893\n",
            "Trainable params: 234,997\n",
            "Non-trainable params: 896\n",
            "_________________________________________________________________\n"
          ],
          "name": "stdout"
        }
      ]
    },
    {
      "cell_type": "code",
      "metadata": {
        "id": "0j8pqBGQJNrj",
        "outputId": "c394b3d9-d76d-42dc-c2f8-1af6157cf328",
        "colab": {
          "base_uri": "https://localhost:8080/",
          "height": 379
        }
      },
      "source": [
        "model.fit(X_train, y_train_cat, epochs=10, validation_split=0.2)"
      ],
      "execution_count": 244,
      "outputs": [
        {
          "output_type": "stream",
          "text": [
            "Epoch 1/10\n",
            "25/25 [==============================] - 1s 47ms/step - loss: 1.6054 - accuracy: 0.2314 - val_loss: 1.6609 - val_accuracy: 0.2513\n",
            "Epoch 2/10\n",
            "25/25 [==============================] - 1s 33ms/step - loss: 1.6051 - accuracy: 0.2113 - val_loss: 1.7487 - val_accuracy: 0.2362\n",
            "Epoch 3/10\n",
            "25/25 [==============================] - 1s 33ms/step - loss: 1.6054 - accuracy: 0.2352 - val_loss: 1.7782 - val_accuracy: 0.2462\n",
            "Epoch 4/10\n",
            "25/25 [==============================] - 1s 33ms/step - loss: 1.6000 - accuracy: 0.2264 - val_loss: 1.6606 - val_accuracy: 0.2412\n",
            "Epoch 5/10\n",
            "25/25 [==============================] - 1s 33ms/step - loss: 1.5954 - accuracy: 0.2327 - val_loss: 1.6679 - val_accuracy: 0.2462\n",
            "Epoch 6/10\n",
            "25/25 [==============================] - 1s 33ms/step - loss: 1.5959 - accuracy: 0.2352 - val_loss: 1.7014 - val_accuracy: 0.2613\n",
            "Epoch 7/10\n",
            "25/25 [==============================] - 1s 33ms/step - loss: 1.5929 - accuracy: 0.2503 - val_loss: 1.6229 - val_accuracy: 0.2613\n",
            "Epoch 8/10\n",
            "25/25 [==============================] - 1s 33ms/step - loss: 1.5989 - accuracy: 0.2591 - val_loss: 1.7575 - val_accuracy: 0.2462\n",
            "Epoch 9/10\n",
            "25/25 [==============================] - 1s 33ms/step - loss: 1.5862 - accuracy: 0.2566 - val_loss: 1.6547 - val_accuracy: 0.2613\n",
            "Epoch 10/10\n",
            "25/25 [==============================] - 1s 33ms/step - loss: 1.5825 - accuracy: 0.2553 - val_loss: 1.6478 - val_accuracy: 0.2111\n"
          ],
          "name": "stdout"
        },
        {
          "output_type": "execute_result",
          "data": {
            "text/plain": [
              "<tensorflow.python.keras.callbacks.History at 0x7f2645970e80>"
            ]
          },
          "metadata": {
            "tags": []
          },
          "execution_count": 244
        }
      ]
    },
    {
      "cell_type": "code",
      "metadata": {
        "id": "Ml18VAU_JVwN",
        "outputId": "43ce65d1-44e5-4bd6-b276-e4aaebe1569c",
        "colab": {
          "base_uri": "https://localhost:8080/",
          "height": 51
        }
      },
      "source": [
        "score = model.evaluate(X_test, y_test_cat, verbose=0)\n",
        "print('Test loss:', score[0])\n",
        "print('Test accuracy:', score[1])"
      ],
      "execution_count": 245,
      "outputs": [
        {
          "output_type": "stream",
          "text": [
            "Test loss: 1.6502466201782227\n",
            "Test accuracy: 0.24497991800308228\n"
          ],
          "name": "stdout"
        }
      ]
    },
    {
      "cell_type": "code",
      "metadata": {
        "id": "ltEOKmesTCU6"
      },
      "source": [
        "pred_tuner = model.predict(X_test, verbose=0)"
      ],
      "execution_count": 246,
      "outputs": []
    },
    {
      "cell_type": "code",
      "metadata": {
        "id": "hcnz6lq1lI01"
      },
      "source": [
        "pred_tuner = np.argmax(pred_tuner,axis=1)"
      ],
      "execution_count": 247,
      "outputs": []
    },
    {
      "cell_type": "code",
      "metadata": {
        "id": "nEvR_i3-S_9r",
        "outputId": "572b59f7-3a98-4e9f-a7f5-6faec2a4bcf0",
        "colab": {
          "base_uri": "https://localhost:8080/",
          "height": 224
        }
      },
      "source": [
        "print(classification_report(y_test, pred_tuner, target_names=class_name))"
      ],
      "execution_count": 248,
      "outputs": [
        {
          "output_type": "stream",
          "text": [
            "                  precision    recall  f1-score   support\n",
            "\n",
            "           No DR       0.24      0.73      0.36        52\n",
            "            Mild       0.30      0.24      0.27        42\n",
            "        Moderate       0.20      0.19      0.19        43\n",
            "          Severe       0.28      0.10      0.15        49\n",
            "Proliferative DR       0.00      0.00      0.00        63\n",
            "\n",
            "        accuracy                           0.24       249\n",
            "       macro avg       0.20      0.25      0.19       249\n",
            "    weighted avg       0.19      0.24      0.18       249\n",
            "\n"
          ],
          "name": "stdout"
        }
      ]
    },
    {
      "cell_type": "code",
      "metadata": {
        "id": "v-53i8oSTcR2",
        "outputId": "5cb58f1c-174f-424e-f71b-10f2f8cb470a",
        "colab": {
          "base_uri": "https://localhost:8080/",
          "height": 530
        }
      },
      "source": [
        "fig, ax = plt.subplots(figsize=(8,8)) \n",
        "mat = confusion_matrix(pred_tuner, y_test)\n",
        "sns.heatmap(mat.T, square=True, annot=True, fmt='d', cbar=False,\n",
        "            xticklabels=class_name,\n",
        "            yticklabels=class_name)\n",
        "plt.xlabel('Prediction')\n",
        "plt.ylabel('Actual');\n",
        "plt.title('Confusion Matrix')"
      ],
      "execution_count": 249,
      "outputs": [
        {
          "output_type": "execute_result",
          "data": {
            "text/plain": [
              "Text(0.5, 1.0, 'Confusion Matrix')"
            ]
          },
          "metadata": {
            "tags": []
          },
          "execution_count": 249
        },
        {
          "output_type": "display_data",
          "data": {
            "image/png": "[encoded data removed]",
            "text/plain": [
              "<Figure size 576x576 with 1 Axes>"
            ]
          },
          "metadata": {
            "tags": [],
            "needs_background": "light"
          }
        }
      ]
    },
    {
      "cell_type": "code",
      "metadata": {
        "id": "KblWRhNetmXt"
      },
      "source": [
        "#Save the model\n",
        "tuner_model = Sequential(layers=model.layers)\n",
        "tuner_model.save('CNN5_Tuner.h5')"
      ],
      "execution_count": 250,
      "outputs": []
    }
  ]
}